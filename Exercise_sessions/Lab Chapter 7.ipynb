{
 "cells": [
  {
   "cell_type": "markdown",
   "metadata": {},
   "source": [
    "## Lab: Non-linear Modeling\n",
    "In this lab, we re-analyze the Wage data considered in the examples throughout this chapter, in order to illustrate the fact that many of the complex\n",
    "non-linear fitting procedures discussed can be easily implemented in R. We\n",
    "begin by loading the ISLR library, which contains the data"
   ]
  },
  {
   "cell_type": "code",
   "execution_count": null,
   "metadata": {},
   "outputs": [],
   "source": [
    "# install.packages('ISLR', repos='http://cran.us.r-project.org')\n",
    "library(ISLR)\n",
    "attach(Wage)"
   ]
  },
  {
   "cell_type": "markdown",
   "metadata": {},
   "source": [
    "### 1. Polynomial Regression and Step Functions\n",
    "We now examine how Figure 7.1 was produced. We first fit the model using\n",
    "the following command:"
   ]
  },
  {
   "cell_type": "code",
   "execution_count": null,
   "metadata": {},
   "outputs": [],
   "source": [
    "fit =lm(wage~poly(age ,4) ,data= Wage)\n",
    "coef(fit)"
   ]
  },
  {
   "cell_type": "code",
   "execution_count": null,
   "metadata": {},
   "outputs": [],
   "source": [
    "coef(summary(fit))"
   ]
  },
  {
   "cell_type": "markdown",
   "metadata": {},
   "source": [
    "This syntax fits a linear model, using the lm() function, in order to predict\n",
    "wage using a fourth-degree polynomial in age: poly(age,4). The poly() command allows us to avoid having to write out a long formula with powers\n",
    "of age. The function returns a matrix whose columns are a basis of orthogonal polynomials, which essentially means that each column is a linear\n",
    "\n",
    "combination of the variables age, age^2, age^3 and age^4\n",
    "However, we can also use poly() to obtain age, age^2, age^3 and age^4\n",
    "directly, if we prefer. We can do this by using the raw=TRUE argument to\n",
    "the poly() function. Later we see that this does not affect the model in a\n",
    "meaningful way—though the choice of basis clearly affects the coefficient\n",
    "estimates, it does not affect the fitted values obtained."
   ]
  },
  {
   "cell_type": "code",
   "execution_count": null,
   "metadata": {},
   "outputs": [],
   "source": [
    "fit2=lm(wage~poly(age ,4, raw =T),data= Wage)\n",
    "coef(summary(fit2))"
   ]
  },
  {
   "cell_type": "markdown",
   "metadata": {},
   "source": [
    "There are several other equivalent ways of fitting this model, which showcase the flexibility of the formula language in R. For example"
   ]
  },
  {
   "cell_type": "code",
   "execution_count": null,
   "metadata": {},
   "outputs": [],
   "source": [
    "fit2a = lm(wage~age +I(age^2) +I(age^3) +I(age^4) ,data= Wage)\n",
    "coef(summary(fit2a))"
   ]
  },
  {
   "cell_type": "markdown",
   "metadata": {},
   "source": [
    "This simply creates the polynomial basis functions on the fly, taking care\n",
    "to protect terms like age^2 via the wrapper function I() (the ^ symbol has wrapper\n",
    "a special meaning in formulas)."
   ]
  },
  {
   "cell_type": "code",
   "execution_count": null,
   "metadata": {},
   "outputs": [],
   "source": [
    "fit2b =lm( wage~cbind (age ,age ^2, age ^3, age ^4) ,data =Wage)"
   ]
  },
  {
   "cell_type": "markdown",
   "metadata": {},
   "source": [
    "This does the same more compactly, using the cbind() function for building\n",
    "a matrix from a collection of vectors; any function call such as cbind() inside\n",
    "a formula also serves as a wrapper.\n",
    "\n",
    "We now create a grid of values for age at which we want predictions, and\n",
    "then call the generic predict() function, specifying that we want standard\n",
    "errors as well."
   ]
  },
  {
   "cell_type": "code",
   "execution_count": null,
   "metadata": {},
   "outputs": [],
   "source": [
    "agelims=range(age)\n",
    "age.grid=seq(from=agelims[1],to=agelims[2])\n",
    "preds=predict(fit,newdata=list(age=age.grid),se=TRUE)\n",
    "se.bands=cbind(preds$fit +2*preds$se.fit,preds$fit-2*preds$se.fit)"
   ]
  },
  {
   "cell_type": "markdown",
   "metadata": {},
   "source": [
    "Finally, we plot the data and add the fit from the degree-4 polynomial."
   ]
  },
  {
   "cell_type": "code",
   "execution_count": null,
   "metadata": {},
   "outputs": [],
   "source": [
    "par( mfrow =c(1 ,2) ,mar =c(4.5 ,4.5 ,1 ,1) ,oma =c(0 ,0 ,4 ,0))\n",
    "plot(age ,wage ,xlim =agelims ,cex =.5, col =\"darkgrey\")\n",
    "title(\"Degree -4 Polynomial\", outer =T)\n",
    "lines(age.grid , preds$fit ,lwd =2, col =\"blue\")\n",
    "matlines(age.grid ,se.bands ,lwd =1, col =\"blue\",lty =3)"
   ]
  },
  {
   "cell_type": "markdown",
   "metadata": {},
   "source": [
    "Here the mar and oma arguments to par() allow us to control the margins\n",
    "of the plot, and the title() function creates a figure title that spans both subplots.\n",
    "\n",
    "We mentioned earlier that whether or not an orthogonal set of basis functions is produced in the poly() function will not affect the model obtained\n",
    "in a meaningful way. What do we mean by this? The fitted values obtained\n",
    "in either case are identical:"
   ]
  },
  {
   "cell_type": "code",
   "execution_count": null,
   "metadata": {},
   "outputs": [],
   "source": [
    "preds2 = predict(fit2,newdata =list(age =age.grid),se= TRUE)\n",
    "max(abs(preds$fit - preds2$fit ))"
   ]
  },
  {
   "cell_type": "markdown",
   "metadata": {},
   "source": [
    "In performing a polynomial regression we must decide on the degree of\n",
    "the polynomial to use. One way to do this is by using hypothesis tests. We\n",
    "now fit models ranging from linear to a degree-5 polynomial and seek to\n",
    "determine the simplest model which is sufficient to explain the relationship"
   ]
  },
  {
   "cell_type": "markdown",
   "metadata": {},
   "source": [
    "between wage and age. We use the anova() function, which performs an\n",
    "analysis of variance (ANOVA, using an F-test) in order to test the null\n",
    "hypothesis that a model M1 is sufficient to explain the data against the\n",
    "alternative hypothesis that a more complex model M2 is required. In order\n",
    "to use the anova() function, M1 and M2 must be nested models: the\n",
    "predictors in M1 must be a subset of the predictors in M2. In this case,\n",
    "we fit five different models and sequentially compare the simpler model to\n",
    "the more complex model."
   ]
  },
  {
   "cell_type": "code",
   "execution_count": null,
   "metadata": {},
   "outputs": [],
   "source": [
    "fit.1= lm( wage~age , data=Wage )\n",
    "fit.2= lm( wage~poly (age ,2) ,data =Wage)\n",
    "fit.3= lm( wage~poly (age ,3) ,data =Wage)\n",
    "fit.4= lm( wage~poly (age ,4) ,data =Wage)\n",
    "fit.5= lm( wage~poly (age ,5) ,data =Wage)\n",
    "anova(fit.1, fit.2, fit.3, fit.4, fit.5)"
   ]
  },
  {
   "cell_type": "markdown",
   "metadata": {},
   "source": [
    "The p-value comparing the linear Model 1 to the quadratic Model 2 is\n",
    "essentially zero (<10−15), indicating that a linear fit is not sufficient. Similarly the p-value comparing the quadratic Model 2 to the cubic Model 3\n",
    "is very low (0.0017), so the quadratic fit is also insufficient. The p-value\n",
    "comparing the cubic and degree-4 polynomials, Model 3 and Model 4, is approximately 5 % while the degree-5 polynomial Model 5 seems unnecessary\n",
    "because its p-value is 0.37. Hence, either a cubic or a quartic polynomial\n",
    "appear to provide a reasonable fit to the data, but lower- or higher-order\n",
    "models are not justified.\n",
    "\n",
    "In this case, instead of using the anova() function, we could have obtained\n",
    "these p-values more succinctly by exploiting the fact that poly() creates\n",
    "orthogonal polynomials."
   ]
  },
  {
   "cell_type": "code",
   "execution_count": null,
   "metadata": {},
   "outputs": [],
   "source": [
    "coef(summary(fit.5))"
   ]
  },
  {
   "cell_type": "markdown",
   "metadata": {},
   "source": [
    "Notice that the p-values are the same, and in fact the square of the\n",
    "t-statistics are equal to the F-statistics from the anova() function; for\n",
    "example:"
   ]
  },
  {
   "cell_type": "code",
   "execution_count": null,
   "metadata": {},
   "outputs": [],
   "source": [
    "(-11.983)^2"
   ]
  },
  {
   "cell_type": "markdown",
   "metadata": {},
   "source": [
    "However, the ANOVA method works whether or not we used orthogonal\n",
    "polynomials; it also works when we have other terms in the model as well.\n",
    "For example, we can use anova() to compare these three models:"
   ]
  },
  {
   "cell_type": "code",
   "execution_count": null,
   "metadata": {},
   "outputs": [],
   "source": [
    "fit.1= lm(wage~education +age ,data= Wage)\n",
    "fit.2= lm(wage~education + poly(age ,2) ,data= Wage)\n",
    "fit.3= lm(wage~education + poly(age ,3) ,data= Wage)\n",
    "anova(fit.1, fit.2, fit.3)"
   ]
  },
  {
   "cell_type": "markdown",
   "metadata": {},
   "source": [
    "As an alternative to using hypothesis tests and ANOVA, we could choose\n",
    "the polynomial degree using cross-validation, as discussed in Chapter 5.\n",
    "\n",
    "Next we consider the task of predicting whether an individual earns more\n",
    "than \\$250,000 per year. We proceed much as before, except that first we\n",
    "create the appropriate response vector, and then apply the glm() function\n",
    "using family=\"binomial\" in order to fit a polynomial logistic regression\n",
    "model."
   ]
  },
  {
   "cell_type": "code",
   "execution_count": null,
   "metadata": {},
   "outputs": [],
   "source": [
    "fit=glm(I(wage>250)~poly(age,4),data=Wage,family=\"binomial\")"
   ]
  },
  {
   "cell_type": "markdown",
   "metadata": {},
   "source": [
    "Note that we again use the wrapper I() to create this binary response\n",
    "variable on the fly. The expression wage>250 evaluates to a logical variable\n",
    "containing TRUEs and FALSEs, which glm() coerces to binary by setting the\n",
    "TRUEs to 1 and the FALSEs to 0.\n",
    "Once again, we make predictions using the predict() function"
   ]
  },
  {
   "cell_type": "code",
   "execution_count": null,
   "metadata": {},
   "outputs": [],
   "source": [
    "preds = predict(fit , newdata =list (age =age.grid),se=T)"
   ]
  },
  {
   "cell_type": "markdown",
   "metadata": {},
   "source": [
    "However, calculating the confidence intervals is slightly more involved than\n",
    "in the linear regression case. The default prediction type for a glm() model\n",
    "is type=\"link\", which is what we use here. This means we get predictions\n",
    "for the logit: that is, we have fit a model of the form\n",
    "$$log(\\frac{Pr(Y = 1|X)}{1-Pr(Y=1|X)}) = X\\beta,$$\n",
    "and the predictions given are of the form Xβˆ. The standard errors given are\n",
    "also of this form. In order to obtain confidence intervals for $Pr(Y = 1|X)$,\n",
    "we use the transformation\n",
    "$$Pr(Y=1|X) = \\frac{exp(X\\beta)}{1+exp(X\\beta}.$$"
   ]
  },
  {
   "cell_type": "code",
   "execution_count": null,
   "metadata": {},
   "outputs": [],
   "source": [
    "pfit=exp(preds$fit)/(1+exp(preds$fit))\n",
    "se.bands.logit = cbind(preds$fit +2* preds$se.fit , preds$fit -2*preds$se.fit )\n",
    "se.bands = exp(se.bands.logit ) /(1+ exp(se.bands.logit ))"
   ]
  },
  {
   "cell_type": "markdown",
   "metadata": {},
   "source": [
    "Note that we could have directly computed the probabilities by selecting\n",
    "the type=\"response\" option in the predict() function."
   ]
  },
  {
   "cell_type": "code",
   "execution_count": null,
   "metadata": {},
   "outputs": [],
   "source": [
    " preds = predict(fit , newdata =list(age =age.grid),type =\"response\",se=T)"
   ]
  },
  {
   "cell_type": "markdown",
   "metadata": {},
   "source": [
    "However, the corresponding confidence intervals would not have been sensible because we would end up with negative probabilities!\n",
    "Finally, the right-hand plot from Figure 7.1 was made as follows:"
   ]
  },
  {
   "cell_type": "code",
   "execution_count": null,
   "metadata": {},
   "outputs": [],
   "source": [
    "preds$fit"
   ]
  },
  {
   "cell_type": "code",
   "execution_count": null,
   "metadata": {},
   "outputs": [],
   "source": [
    "plot(age ,I(wage >250) ,xlim=agelims ,type =\"n\", ylim =c(0 ,.2) )\n",
    "points(jitter (age ), I(( wage >250) /5) ,cex =.5, pch =\"|\" ,col =\"darkgrey\")\n",
    "lines(age.grid ,pfit ,lwd =2, col =\"blue\")\n",
    "matlines(age.grid ,se.bands ,lwd =1, col =\"blue\",lty =3)"
   ]
  },
  {
   "cell_type": "markdown",
   "metadata": {},
   "source": [
    "We have drawn the age values corresponding to the observations with wage\n",
    "values above 250 as gray marks on the top of the plot, and those with wage\n",
    "values below 250 are shown as gray marks on the bottom of the plot. We\n",
    "used the jitter() function to jitter the age values a bit so that observations\n",
    "with the same age value do not cover each other up. This is often called a\n",
    "rug plot.\n",
    "In order to fit a step function, as discussed in Section 7.2, we use the\n",
    "cut() function."
   ]
  },
  {
   "cell_type": "code",
   "execution_count": null,
   "metadata": {},
   "outputs": [],
   "source": [
    "table(cut(age,4))"
   ]
  },
  {
   "cell_type": "code",
   "execution_count": null,
   "metadata": {},
   "outputs": [],
   "source": [
    "fit=lm(wage~cut(age,4),data=Wage)\n",
    "coef(summary(fit))"
   ]
  },
  {
   "cell_type": "markdown",
   "metadata": {},
   "source": [
    "Here cut() automatically picked the cutpoints at 33.5, 49, and 64.5 years\n",
    "of age. We could also have specified our own cutpoints directly using the\n",
    "breaks option. The function cut() returns an ordered categorical variable;\n",
    "the lm() function then creates a set of dummy variables for use in the regression. The age<33.5 category is left out, so the intercept coefficient of\n",
    "$94,160 can be interpreted as the average salary for those under 33.5 years\n",
    "of age, and the other coefficients can be interpreted as the average additional salary for those in the other age groups. We can produce predictions\n",
    "and plots just as we did in the case of the polynomial fit."
   ]
  },
  {
   "cell_type": "markdown",
   "metadata": {},
   "source": [
    "### 2. Splines\n",
    "In order to fit regression splines in R, we use the splines library. In Section\n",
    "7.4, we saw that regression splines can be fit by constructing an appropriate\n",
    "matrix of basis functions. The bs() function generates the entire matrix of\n",
    "basis functions for splines with the specified set of knots. By default, cubic\n",
    "splines are produced. Fitting wage to age using a regression spline is simple:"
   ]
  },
  {
   "cell_type": "code",
   "execution_count": null,
   "metadata": {},
   "outputs": [],
   "source": [
    "library(splines)\n",
    "fit =lm(wage~bs(age ,knots =c(25 ,40 ,60) ),data=Wage )\n",
    "pred=predict(fit , newdata =list(age =age.grid),se=T)\n",
    "plot(age ,wage ,col =\"gray\")\n",
    "lines (age.grid , pred$fit ,lwd =2)\n",
    "lines (age.grid , pred$fit +2* pred$se ,lty =\"dashed\")\n",
    "lines (age.grid , pred$fit -2* pred$se ,lty =\"dashed\")"
   ]
  },
  {
   "cell_type": "markdown",
   "metadata": {},
   "source": [
    "Here we have prespecified knots at ages 25, 40, and 60. This produces a\n",
    "spline with six basis functions. (Recall that a cubic spline with three knots\n",
    "has seven degrees of freedom; these degrees of freedom are used up by an\n",
    "intercept, plus six basis functions.) We could also use the df option to\n",
    "produce a spline with knots at uniform quantiles of the data."
   ]
  },
  {
   "cell_type": "code",
   "execution_count": null,
   "metadata": {},
   "outputs": [],
   "source": [
    "dim (bs(age , knots =c (25 ,40 ,60) ))"
   ]
  },
  {
   "cell_type": "code",
   "execution_count": null,
   "metadata": {},
   "outputs": [],
   "source": [
    "dim (bs(age ,df =6) )"
   ]
  },
  {
   "cell_type": "code",
   "execution_count": null,
   "metadata": {},
   "outputs": [],
   "source": [
    "attr(bs(age ,df =6) ,\"knots\")"
   ]
  },
  {
   "cell_type": "markdown",
   "metadata": {},
   "source": [
    "In this case R chooses knots at ages 33.8, 42.0, and 51.0, which correspond\n",
    "to the 25th, 50th, and 75th percentiles of age. The function bs() also has\n",
    "a degree argument, so we can fit splines of any degree, rather than the\n",
    "default degree of 3 (which yields a cubic spline).\n",
    "In order to instead fit a natural spline, we use the ns() function. Here\n",
    "we fit a natural spline with four degrees of freedom."
   ]
  },
  {
   "cell_type": "code",
   "execution_count": null,
   "metadata": {},
   "outputs": [],
   "source": [
    "fit2=lm(wage~ns(age ,df =4) ,data =Wage)\n",
    "pred2 = predict (fit2 , newdata = list(age = age.grid ),se=T)\n",
    "plot(age ,wage ,col =\"gray\")\n",
    "lines(age.grid , pred2$fit ,col =\"red\", lwd =2)"
   ]
  },
  {
   "cell_type": "code",
   "execution_count": null,
   "metadata": {},
   "outputs": [],
   "source": [
    "# plotting graph for cubic splines again\n",
    "fit =lm(wage~bs(age ,knots =c(25 ,40 ,60) ),data=Wage )\n",
    "pred=predict(fit , newdata =list(age =age.grid),se=T)\n",
    "plot(age ,wage ,col =\"gray\")\n",
    "lines (age.grid , pred$fit ,lwd =2)\n",
    "lines (age.grid , pred$fit +2* pred$se ,lty =\"dashed\")\n",
    "lines (age.grid , pred$fit -2* pred$se ,lty =\"dashed\")\n",
    "# add plot of natural splines\n",
    "pred2 = predict (fit2 , newdata = list(age = age.grid ),se=T)\n",
    "lines(age.grid , pred2$fit ,col =\"red\", lwd =2)"
   ]
  },
  {
   "cell_type": "markdown",
   "metadata": {},
   "source": [
    "As with the bs() function, we could instead specify the knots directly using\n",
    "the knots option.\n",
    "\n",
    "In order to fit a smoothing spline, we use the smooth.spline() function.\n",
    "Figure 7.8 was produced with the following code:"
   ]
  },
  {
   "cell_type": "code",
   "execution_count": null,
   "metadata": {},
   "outputs": [],
   "source": [
    "plot(age ,wage ,xlim =agelims ,cex =.5, col =\"darkgrey\")\n",
    "title (\"Smoothing Spline\")\n",
    "fit = smooth.spline(age ,wage ,df =16)\n",
    "fit2= smooth.spline(age ,wage ,cv=TRUE)\n",
    "fit2$df\n",
    "lines(fit,col =\"red\",lwd =2)\n",
    "lines (fit2 ,col =\"blue\", lwd =2)\n",
    "legend (\"topright\", legend =c(\"16 DF \" ,\"6.8 DF \") ,col =c(\"red\",\"blue\") ,lty =1, lwd =2, cex =.8)"
   ]
  },
  {
   "cell_type": "markdown",
   "metadata": {},
   "source": [
    "Notice that in the first call to smooth.spline(), we specified df=16. The\n",
    "function then determines which value of λ leads to 16 degrees of freedom. In\n",
    "the second call to smooth.spline(), we select the smoothness level by crossvalidation; this results in a value of λ that yields 6.8 degrees of freedom.\n",
    "\n",
    "In order to perform local regression, we use the loess() function."
   ]
  },
  {
   "cell_type": "code",
   "execution_count": null,
   "metadata": {},
   "outputs": [],
   "source": [
    "plot(age ,wage ,xlim =agelims ,cex =.5, col =\"darkgrey\")\n",
    "title (\"Local Regression\")\n",
    "fit = loess(wage~age ,span =.2, data= Wage)\n",
    "fit2= loess(wage~age ,span =.5, data= Wage)\n",
    "lines (age.grid , predict (fit , data.frame (age = age.grid )),col =\"red\",lwd =2)\n",
    "lines (age.grid , predict (fit2 ,data.frame ( age =age.grid)),col =\"blue\",lwd =2)\n",
    "legend (\"topright\", legend =c(\" Span =0.2\" ,\" Span =0.5\") ,\n",
    "col =c(\"red\",\"blue\") ,lty =1, lwd =2, cex =.8)"
   ]
  },
  {
   "cell_type": "markdown",
   "metadata": {},
   "source": [
    "Here we have performed local linear regression using spans of 0.2 and 0.5:\n",
    "that is, each neighborhood consists of 20 % or 50 % of the observations. The\n",
    "larger the span, the smoother the fit. The locfit library can also be used\n",
    "for fitting local regression models in R."
   ]
  },
  {
   "cell_type": "markdown",
   "metadata": {},
   "source": [
    "### 3. GAMs\n",
    "We now fit a GAM to predict wage using natural spline functions of year\n",
    "and age, treating education as a qualitative predictor, as in (7.16). Since\n",
    "this is just a big linear regression model using an appropriate choice of\n",
    "basis functions, we can simply do this using the lm() function."
   ]
  },
  {
   "cell_type": "code",
   "execution_count": null,
   "metadata": {},
   "outputs": [],
   "source": [
    "gam1=lm(wage~ns(year ,4) +ns(age ,5) +education , data=Wage )"
   ]
  },
  {
   "cell_type": "markdown",
   "metadata": {},
   "source": [
    "We now fit the model (7.16) using smoothing splines rather than natural\n",
    "splines. In order to fit more general sorts of GAMs, using smoothing splines\n",
    "or other components that cannot be expressed in terms of basis functions\n",
    "and then fit using least squares regression, we will need to use the gam\n",
    "library in R.\n",
    "\n",
    "The s() function, which is part of the gam library, is used to indicate that\n",
    "we would like to use a smoothing spline. We specify that the function of\n",
    "year should have 4 degrees of freedom, and that the function of age will\n",
    "have 5 degrees of freedom. Since education is qualitative, we leave it as is,\n",
    "and it is converted into four dummy variables. We use the gam() function in\n",
    "order to fit a GAM using these components. All of the terms in (7.16) are\n",
    "fit simultaneously, taking each other into account to explain the response."
   ]
  },
  {
   "cell_type": "code",
   "execution_count": null,
   "metadata": {},
   "outputs": [],
   "source": [
    "# install.packages(\"gam\")\n",
    "library(gam)\n",
    "gam.m3=gam(wage~s(year ,4) +s(age ,5) + education ,data= Wage)"
   ]
  },
  {
   "cell_type": "markdown",
   "metadata": {},
   "source": [
    "In order to produce Figure 7.12, we simply call the plot() function:"
   ]
  },
  {
   "cell_type": "code",
   "execution_count": null,
   "metadata": {},
   "outputs": [],
   "source": [
    "par( mfrow =c(1 ,3))\n",
    "plot(gam.m3 , se=TRUE ,col =\"blue\")"
   ]
  },
  {
   "cell_type": "markdown",
   "metadata": {},
   "source": [
    "The generic plot() function recognizes that gam.m3 is an object of class gam,\n",
    "and invokes the appropriate plot.Gam() method. Conveniently, even though\n",
    "gam1 is not of class gam but rather of class lm, we can still use plot.gam()\n",
    "on it. Figure 7.11 was produced using the following expression:"
   ]
  },
  {
   "cell_type": "code",
   "execution_count": null,
   "metadata": {},
   "outputs": [],
   "source": [
    "par(mfrow =c(1 ,3))\n",
    "plot.Gam(gam1 , se=TRUE , col =\"red\")"
   ]
  },
  {
   "cell_type": "markdown",
   "metadata": {},
   "source": [
    "The generic plot() function recognizes that gam.m3 is an object of class gam,\n",
    "and invokes the appropriate plot.gam() method. Conveniently, even though\n",
    "gam1 is not of class gam but rather of class lm, we can still use plot.gam()\n",
    "on it. Figure 7.11 was produced using the following expression:"
   ]
  },
  {
   "cell_type": "code",
   "execution_count": null,
   "metadata": {},
   "outputs": [],
   "source": [
    "par(mfrow =c(1 ,3))\n",
    "plot.Gam (gam1 , se=TRUE , col =\"red\")"
   ]
  },
  {
   "cell_type": "markdown",
   "metadata": {},
   "source": [
    "Notice here we had to use plot.gam() rather than the generic plot()\n",
    "function.\n",
    "\n",
    "In these plots, the function of year looks rather linear. We can perform a\n",
    "series of ANOVA tests in order to determine which of these three models is\n",
    "best: a GAM that excludes year (M1), a GAM that uses a linear function\n",
    "of year (M2), or a GAM that uses a spline function of year (M3)"
   ]
  },
  {
   "cell_type": "code",
   "execution_count": null,
   "metadata": {},
   "outputs": [],
   "source": [
    "gam.m1=gam(wage~s(age ,5) +education , data=Wage )\n",
    "gam.m2=gam (wage~year+s(age ,5) + education ,data =Wage)\n",
    "anova(gam.m1 ,gam.m2 ,gam.m3 , test =\"F\")"
   ]
  },
  {
   "cell_type": "markdown",
   "metadata": {},
   "source": [
    "We find that there is compelling evidence that a GAM with a linear function of year is better than a GAM that does not include year at all\n",
    "(p-value = 0.00014). However, there is no evidence that a non-linear function of year is needed (p-value = 0.349). In other words, based on the results\n",
    "of this ANOVA, M2 is preferred.\n",
    "\n",
    "The summary() function produces a summary of the gam fit."
   ]
  },
  {
   "cell_type": "code",
   "execution_count": null,
   "metadata": {},
   "outputs": [],
   "source": [
    "summary(gam.m3)"
   ]
  },
  {
   "cell_type": "markdown",
   "metadata": {},
   "source": [
    "The p-values for year and age correspond to a null hypothesis of a linear\n",
    "relationship versus the alternative of a non-linear relationship. The large\n",
    "p-value for year reinforces our conclusion from the ANOVA test that a linear function is adequate for this term. However, there is very clear evidence\n",
    "that a non-linear term is required for age.\n",
    "    \n",
    "We can make predictions from gam objects, just like from lm objects,\n",
    "using the predict() method for the class gam. Here we make predictions on\n",
    "the training set."
   ]
  },
  {
   "cell_type": "code",
   "execution_count": null,
   "metadata": {},
   "outputs": [],
   "source": [
    "preds=predict(gam.m2, newdqtq=Wage)"
   ]
  },
  {
   "cell_type": "markdown",
   "metadata": {},
   "source": [
    "We can also use local regression fits as building blocks in a GAM, using\n",
    "the lo() function."
   ]
  },
  {
   "cell_type": "code",
   "execution_count": null,
   "metadata": {},
   "outputs": [],
   "source": [
    "gam.lo=gam (wage~s(year ,df =4) +lo(age , span =0.7) +education ,data= Wage)\n",
    "plot.Gam(gam.lo , se=TRUE , col =\"green\")"
   ]
  },
  {
   "cell_type": "markdown",
   "metadata": {},
   "source": [
    "Here we have used local regression for the age term, with a span of 0.7.\n",
    "We can also use the lo() function to create interactions before calling the\n",
    "gam() function. For example,"
   ]
  },
  {
   "cell_type": "code",
   "execution_count": null,
   "metadata": {},
   "outputs": [],
   "source": [
    "gam.lo.i=gam (wage~lo(year ,age , span =0.5) +education ,data= Wage)"
   ]
  },
  {
   "cell_type": "markdown",
   "metadata": {},
   "source": [
    "fits a two-term model, in which the first term is an interaction between\n",
    "year and age, fit by a local regression surface. We can plot the resulting\n",
    "two-dimensional surface if we first install the akima package."
   ]
  },
  {
   "cell_type": "code",
   "execution_count": null,
   "metadata": {},
   "outputs": [],
   "source": [
    "# install.packages(\"akima\")\n",
    "library( akima )\n",
    "plot(gam.lo.i)"
   ]
  },
  {
   "cell_type": "code",
   "execution_count": null,
   "metadata": {},
   "outputs": [],
   "source": []
  },
  {
   "cell_type": "markdown",
   "metadata": {},
   "source": [
    "In order to fit a logistic regression GAM, we once again use the I() function in constructing the binary response variable, and set family=binomial."
   ]
  },
  {
   "cell_type": "code",
   "execution_count": null,
   "metadata": {},
   "outputs": [],
   "source": [
    "gam.lr=gam(I(wage >250)~year +s(age ,df =5) +education ,\n",
    "family =binomial ,data =Wage)\n",
    "par ( mfrow =c(1 ,3) )\n",
    "plot(gam.lr ,se=T,col =\"green\")"
   ]
  },
  {
   "cell_type": "markdown",
   "metadata": {},
   "source": [
    "It is easy to see that there are no high earners in the <HS category:"
   ]
  },
  {
   "cell_type": "code",
   "execution_count": null,
   "metadata": {},
   "outputs": [],
   "source": [
    "table(education ,I(wage >250) )"
   ]
  },
  {
   "cell_type": "markdown",
   "metadata": {},
   "source": [
    "Hence, we fit a logistic regression GAM using all but this category. This\n",
    "provides more sensible results."
   ]
  },
  {
   "cell_type": "code",
   "execution_count": null,
   "metadata": {},
   "outputs": [],
   "source": [
    "gam.lr.s=gam (I(wage >250)~year+s(age ,df =5) + education , family =\n",
    "binomial ,data=Wage , subset =( education !=\"1. < HS Grad \"))\n",
    "plot(gam.lr.s,se=T,col =\" green \")"
   ]
  },
  {
   "cell_type": "code",
   "execution_count": null,
   "metadata": {},
   "outputs": [],
   "source": []
  },
  {
   "cell_type": "code",
   "execution_count": null,
   "metadata": {},
   "outputs": [],
   "source": []
  },
  {
   "cell_type": "code",
   "execution_count": null,
   "metadata": {},
   "outputs": [],
   "source": []
  },
  {
   "cell_type": "code",
   "execution_count": null,
   "metadata": {},
   "outputs": [],
   "source": []
  },
  {
   "cell_type": "code",
   "execution_count": null,
   "metadata": {},
   "outputs": [],
   "source": []
  }
 ],
 "metadata": {
  "kernelspec": {
   "display_name": "R",
   "language": "R",
   "name": "ir"
  },
  "language_info": {
   "codemirror_mode": "r",
   "file_extension": ".r",
   "mimetype": "text/x-r-source",
   "name": "R",
   "pygments_lexer": "r",
   "version": "3.6.3"
  }
 },
 "nbformat": 4,
 "nbformat_minor": 4
}
