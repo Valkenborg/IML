{
 "cells": [
  {
   "cell_type": "markdown",
   "metadata": {},
   "source": [
    "Install all necessary packages. \n",
    "Should only be done first time for notebook."
   ]
  },
  {
   "cell_type": "code",
   "execution_count": 14,
   "metadata": {},
   "outputs": [],
   "source": [
    "# install.packages('tree', repos='http://cran.us.r-project.org')\n",
    "# install.packages('ISLR', repos='http://cran.us.r-project.org')\n",
    "# install.packages('MASS', repos='http://cran.us.r-project.org')\n",
    "# install.packages('randomForest', repos='http://cran.us.r-project.org')\n",
    "# install.packages('gbm', repos='http://cran.us.r-project.org')"
   ]
  },
  {
   "cell_type": "markdown",
   "metadata": {},
   "source": [
    "**Fitting classification trees**"
   ]
  },
  {
   "cell_type": "code",
   "execution_count": 1,
   "metadata": {},
   "outputs": [
    {
     "name": "stderr",
     "output_type": "stream",
     "text": [
      "Warning message:\n",
      "\"package 'tree' was built under R version 3.5.3\"Warning message:\n",
      "\"package 'ISLR' was built under R version 3.5.3\""
     ]
    }
   ],
   "source": [
    "library(tree)\n",
    "library(ISLR)"
   ]
  },
  {
   "cell_type": "markdown",
   "metadata": {},
   "source": [
    "We use the carseat dataset.\n",
    "We create a binary variable high / low, if Sales <= 8 or > 8."
   ]
  },
  {
   "cell_type": "code",
   "execution_count": 2,
   "metadata": {},
   "outputs": [],
   "source": [
    "attach(Carseats)\n",
    "High=ifelse(Sales<=8,\"No\",\"Yes\")\n",
    "Carseats=data.frame(Carseats,High)"
   ]
  },
  {
   "cell_type": "markdown",
   "metadata": {},
   "source": [
    "The Carseats data set tracks sales information for child car seats. \n",
    "It has 400 observations (each at a different store) and 11 variables:\n",
    "\n",
    "* Sales: unit sales in thousands\n",
    "* CompPrice: price charged by competitor at each location\n",
    "* Income: community income level in 1000s of dollars\n",
    "* Advertising: local ad budget at each location in 1000s of dollars\n",
    "* Population: regional pop in thousands\n",
    "* Price: price for car seats at each site\n",
    "* ShelveLoc: Bad, Good or Medium indicates quality of shelving location\n",
    "* Age: age level of the population\n",
    "* Education: ed level at location\n",
    "* Urban: Yes/No\n",
    "* US: Yes/No"
   ]
  },
  {
   "cell_type": "code",
   "execution_count": 3,
   "metadata": {},
   "outputs": [
    {
     "data": {
      "text/plain": [
       "     Sales          CompPrice       Income        Advertising    \n",
       " Min.   : 0.000   Min.   : 77   Min.   : 21.00   Min.   : 0.000  \n",
       " 1st Qu.: 5.390   1st Qu.:115   1st Qu.: 42.75   1st Qu.: 0.000  \n",
       " Median : 7.490   Median :125   Median : 69.00   Median : 5.000  \n",
       " Mean   : 7.496   Mean   :125   Mean   : 68.66   Mean   : 6.635  \n",
       " 3rd Qu.: 9.320   3rd Qu.:135   3rd Qu.: 91.00   3rd Qu.:12.000  \n",
       " Max.   :16.270   Max.   :175   Max.   :120.00   Max.   :29.000  \n",
       "   Population        Price        ShelveLoc        Age          Education   \n",
       " Min.   : 10.0   Min.   : 24.0   Bad   : 96   Min.   :25.00   Min.   :10.0  \n",
       " 1st Qu.:139.0   1st Qu.:100.0   Good  : 85   1st Qu.:39.75   1st Qu.:12.0  \n",
       " Median :272.0   Median :117.0   Medium:219   Median :54.50   Median :14.0  \n",
       " Mean   :264.8   Mean   :115.8                Mean   :53.32   Mean   :13.9  \n",
       " 3rd Qu.:398.5   3rd Qu.:131.0                3rd Qu.:66.00   3rd Qu.:16.0  \n",
       " Max.   :509.0   Max.   :191.0                Max.   :80.00   Max.   :18.0  \n",
       " Urban       US       High    \n",
       " No :118   No :142   No :236  \n",
       " Yes:282   Yes:258   Yes:164  \n",
       "                              \n",
       "                              \n",
       "                              \n",
       "                              "
      ]
     },
     "metadata": {},
     "output_type": "display_data"
    }
   ],
   "source": [
    "summary(Carseats)"
   ]
  },
  {
   "cell_type": "markdown",
   "metadata": {},
   "source": [
    "Fit a decision tree on the dataset.\n",
    "We predict high / low sales, excluding of course the Sales variable."
   ]
  },
  {
   "cell_type": "code",
   "execution_count": 4,
   "metadata": {},
   "outputs": [],
   "source": [
    "tree.carseats=tree(High~.-Sales,Carseats)"
   ]
  },
  {
   "cell_type": "code",
   "execution_count": 5,
   "metadata": {},
   "outputs": [
    {
     "data": {
      "text/plain": [
       "\n",
       "Classification tree:\n",
       "tree(formula = High ~ . - Sales, data = Carseats)\n",
       "Variables actually used in tree construction:\n",
       "[1] \"ShelveLoc\"   \"Price\"       \"Income\"      \"CompPrice\"   \"Population\" \n",
       "[6] \"Advertising\" \"Age\"         \"US\"         \n",
       "Number of terminal nodes:  27 \n",
       "Residual mean deviance:  0.4575 = 170.7 / 373 \n",
       "Misclassification error rate: 0.09 = 36 / 400 "
      ]
     },
     "metadata": {},
     "output_type": "display_data"
    }
   ],
   "source": [
    "summary(tree.carseats)"
   ]
  },
  {
   "cell_type": "code",
   "execution_count": 6,
   "metadata": {},
   "outputs": [
    {
     "data": {
      "image/png": "[encoded data removed]",
      "text/plain": [
       "plot without title"
      ]
     },
     "metadata": {},
     "output_type": "display_data"
    }
   ],
   "source": [
    "plot(tree.carseats)\n",
    "text(tree.carseats,pretty=0)"
   ]
  },
  {
   "cell_type": "code",
   "execution_count": 7,
   "metadata": {},
   "outputs": [
    {
     "data": {
      "text/plain": [
       "node), split, n, deviance, yval, (yprob)\n",
       "      * denotes terminal node\n",
       "\n",
       "  1) root 400 541.500 No ( 0.59000 0.41000 )  \n",
       "    2) ShelveLoc: Bad,Medium 315 390.600 No ( 0.68889 0.31111 )  \n",
       "      4) Price < 92.5 46  56.530 Yes ( 0.30435 0.69565 )  \n",
       "        8) Income < 57 10  12.220 No ( 0.70000 0.30000 )  \n",
       "         16) CompPrice < 110.5 5   0.000 No ( 1.00000 0.00000 ) *\n",
       "         17) CompPrice > 110.5 5   6.730 Yes ( 0.40000 0.60000 ) *\n",
       "        9) Income > 57 36  35.470 Yes ( 0.19444 0.80556 )  \n",
       "         18) Population < 207.5 16  21.170 Yes ( 0.37500 0.62500 ) *\n",
       "         19) Population > 207.5 20   7.941 Yes ( 0.05000 0.95000 ) *\n",
       "      5) Price > 92.5 269 299.800 No ( 0.75465 0.24535 )  \n",
       "       10) Advertising < 13.5 224 213.200 No ( 0.81696 0.18304 )  \n",
       "         20) CompPrice < 124.5 96  44.890 No ( 0.93750 0.06250 )  \n",
       "           40) Price < 106.5 38  33.150 No ( 0.84211 0.15789 )  \n",
       "             80) Population < 177 12  16.300 No ( 0.58333 0.41667 )  \n",
       "              160) Income < 60.5 6   0.000 No ( 1.00000 0.00000 ) *\n",
       "              161) Income > 60.5 6   5.407 Yes ( 0.16667 0.83333 ) *\n",
       "             81) Population > 177 26   8.477 No ( 0.96154 0.03846 ) *\n",
       "           41) Price > 106.5 58   0.000 No ( 1.00000 0.00000 ) *\n",
       "         21) CompPrice > 124.5 128 150.200 No ( 0.72656 0.27344 )  \n",
       "           42) Price < 122.5 51  70.680 Yes ( 0.49020 0.50980 )  \n",
       "             84) ShelveLoc: Bad 11   6.702 No ( 0.90909 0.09091 ) *\n",
       "             85) ShelveLoc: Medium 40  52.930 Yes ( 0.37500 0.62500 )  \n",
       "              170) Price < 109.5 16   7.481 Yes ( 0.06250 0.93750 ) *\n",
       "              171) Price > 109.5 24  32.600 No ( 0.58333 0.41667 )  \n",
       "                342) Age < 49.5 13  16.050 Yes ( 0.30769 0.69231 ) *\n",
       "                343) Age > 49.5 11   6.702 No ( 0.90909 0.09091 ) *\n",
       "           43) Price > 122.5 77  55.540 No ( 0.88312 0.11688 )  \n",
       "             86) CompPrice < 147.5 58  17.400 No ( 0.96552 0.03448 ) *\n",
       "             87) CompPrice > 147.5 19  25.010 No ( 0.63158 0.36842 )  \n",
       "              174) Price < 147 12  16.300 Yes ( 0.41667 0.58333 )  \n",
       "                348) CompPrice < 152.5 7   5.742 Yes ( 0.14286 0.85714 ) *\n",
       "                349) CompPrice > 152.5 5   5.004 No ( 0.80000 0.20000 ) *\n",
       "              175) Price > 147 7   0.000 No ( 1.00000 0.00000 ) *\n",
       "       11) Advertising > 13.5 45  61.830 Yes ( 0.44444 0.55556 )  \n",
       "         22) Age < 54.5 25  25.020 Yes ( 0.20000 0.80000 )  \n",
       "           44) CompPrice < 130.5 14  18.250 Yes ( 0.35714 0.64286 )  \n",
       "             88) Income < 100 9  12.370 No ( 0.55556 0.44444 ) *\n",
       "             89) Income > 100 5   0.000 Yes ( 0.00000 1.00000 ) *\n",
       "           45) CompPrice > 130.5 11   0.000 Yes ( 0.00000 1.00000 ) *\n",
       "         23) Age > 54.5 20  22.490 No ( 0.75000 0.25000 )  \n",
       "           46) CompPrice < 122.5 10   0.000 No ( 1.00000 0.00000 ) *\n",
       "           47) CompPrice > 122.5 10  13.860 No ( 0.50000 0.50000 )  \n",
       "             94) Price < 125 5   0.000 Yes ( 0.00000 1.00000 ) *\n",
       "             95) Price > 125 5   0.000 No ( 1.00000 0.00000 ) *\n",
       "    3) ShelveLoc: Good 85  90.330 Yes ( 0.22353 0.77647 )  \n",
       "      6) Price < 135 68  49.260 Yes ( 0.11765 0.88235 )  \n",
       "       12) US: No 17  22.070 Yes ( 0.35294 0.64706 )  \n",
       "         24) Price < 109 8   0.000 Yes ( 0.00000 1.00000 ) *\n",
       "         25) Price > 109 9  11.460 No ( 0.66667 0.33333 ) *\n",
       "       13) US: Yes 51  16.880 Yes ( 0.03922 0.96078 ) *\n",
       "      7) Price > 135 17  22.070 No ( 0.64706 0.35294 )  \n",
       "       14) Income < 46 6   0.000 No ( 1.00000 0.00000 ) *\n",
       "       15) Income > 46 11  15.160 Yes ( 0.45455 0.54545 ) *"
      ]
     },
     "metadata": {},
     "output_type": "display_data"
    }
   ],
   "source": [
    "tree.carseats"
   ]
  },
  {
   "cell_type": "markdown",
   "metadata": {},
   "source": [
    "Create training / test set split, to estimate performance on independent test set"
   ]
  },
  {
   "cell_type": "code",
   "execution_count": 8,
   "metadata": {},
   "outputs": [
    {
     "data": {
      "text/plain": [
       "         High.test\n",
       "tree.pred No Yes\n",
       "      No  86  27\n",
       "      Yes 30  57"
      ]
     },
     "metadata": {},
     "output_type": "display_data"
    },
    {
     "data": {
      "text/html": [
       "0.715"
      ],
      "text/latex": [
       "0.715"
      ],
      "text/markdown": [
       "0.715"
      ],
      "text/plain": [
       "[1] 0.715"
      ]
     },
     "metadata": {},
     "output_type": "display_data"
    }
   ],
   "source": [
    "set.seed(2)\n",
    "train=sample(1:nrow(Carseats), 200)   # create training set with 200 samples (half of total)\n",
    "Carseats.test=Carseats[-train,]       # create test set with other samples\n",
    "High.test=High[-train]\n",
    "tree.carseats=tree(High~.-Sales,Carseats,subset=train)\n",
    "tree.pred=predict(tree.carseats,Carseats.test,type=\"class\")\n",
    "table(tree.pred,High.test)\n",
    "(86+57)/200"
   ]
  },
  {
   "cell_type": "markdown",
   "metadata": {},
   "source": [
    "Use cross-validation to estimate test error for different pruning strengths"
   ]
  },
  {
   "cell_type": "markdown",
   "metadata": {},
   "source": [
    "The output for the CV is:\n",
    "* size: number of terminal nodes |T|\n",
    "* dev: CV error rate (confusing name!)\n",
    "* k: alpha value  (-Inf must be error: 0 is lowest sensible value\n",
    "* attr: attributes of class"
   ]
  },
  {
   "cell_type": "code",
   "execution_count": 9,
   "metadata": {},
   "outputs": [
    {
     "data": {
      "text/html": [
       "<ol class=list-inline>\n",
       "\t<li>'size'</li>\n",
       "\t<li>'dev'</li>\n",
       "\t<li>'k'</li>\n",
       "\t<li>'method'</li>\n",
       "</ol>\n"
      ],
      "text/latex": [
       "\\begin{enumerate*}\n",
       "\\item 'size'\n",
       "\\item 'dev'\n",
       "\\item 'k'\n",
       "\\item 'method'\n",
       "\\end{enumerate*}\n"
      ],
      "text/markdown": [
       "1. 'size'\n",
       "2. 'dev'\n",
       "3. 'k'\n",
       "4. 'method'\n",
       "\n",
       "\n"
      ],
      "text/plain": [
       "[1] \"size\"   \"dev\"    \"k\"      \"method\""
      ]
     },
     "metadata": {},
     "output_type": "display_data"
    },
    {
     "data": {
      "text/plain": [
       "$size\n",
       "[1] 19 17 14 13  9  7  3  2  1\n",
       "\n",
       "$dev\n",
       "[1] 55 55 53 52 50 56 69 65 80\n",
       "\n",
       "$k\n",
       "[1]       -Inf  0.0000000  0.6666667  1.0000000  1.7500000  2.0000000  4.2500000\n",
       "[8]  5.0000000 23.0000000\n",
       "\n",
       "$method\n",
       "[1] \"misclass\"\n",
       "\n",
       "attr(,\"class\")\n",
       "[1] \"prune\"         \"tree.sequence\""
      ]
     },
     "metadata": {},
     "output_type": "display_data"
    }
   ],
   "source": [
    "set.seed(3)\n",
    "cv.carseats=cv.tree(tree.carseats,FUN=prune.misclass)   # we prune with missclassification error rate\n",
    "names(cv.carseats)\n",
    "cv.carseats"
   ]
  },
  {
   "cell_type": "markdown",
   "metadata": {},
   "source": [
    "plot of missclassification error "
   ]
  },
  {
   "cell_type": "code",
   "execution_count": 10,
   "metadata": {},
   "outputs": [
    {
     "data": {
      "image/png": "[encoded data removed]",
      "text/plain": [
       "plot without title"
      ]
     },
     "metadata": {},
     "output_type": "display_data"
    }
   ],
   "source": [
    "par(mfrow=c(1,2))\n",
    "plot(cv.carseats$size,cv.carseats$dev,type=\"b\")\n",
    "plot(cv.carseats$k,cv.carseats$dev,type=\"b\")"
   ]
  },
  {
   "cell_type": "markdown",
   "metadata": {},
   "source": [
    "Prune the tree to its optimal size, and plot the final result"
   ]
  },
  {
   "cell_type": "code",
   "execution_count": 12,
   "metadata": {},
   "outputs": [
    {
     "data": {
      "image/png": "[encoded data removed]",
      "text/plain": [
       "plot without title"
      ]
     },
     "metadata": {},
     "output_type": "display_data"
    }
   ],
   "source": [
    "prune.carseats=prune.misclass(tree.carseats,best=9)\n",
    "plot(prune.carseats)\n",
    "text(prune.carseats,pretty=0)"
   ]
  },
  {
   "cell_type": "markdown",
   "metadata": {},
   "source": [
    "Quality of pruned tree on test set (bettern than 0.72 of unpruned tree)"
   ]
  },
  {
   "cell_type": "code",
   "execution_count": 13,
   "metadata": {},
   "outputs": [
    {
     "data": {
      "text/plain": [
       "         High.test\n",
       "tree.pred No Yes\n",
       "      No  94  24\n",
       "      Yes 22  60"
      ]
     },
     "metadata": {},
     "output_type": "display_data"
    },
    {
     "data": {
      "text/html": [
       "0.77"
      ],
      "text/latex": [
       "0.77"
      ],
      "text/markdown": [
       "0.77"
      ],
      "text/plain": [
       "[1] 0.77"
      ]
     },
     "metadata": {},
     "output_type": "display_data"
    }
   ],
   "source": [
    "tree.pred=predict(prune.carseats,Carseats.test,type=\"class\")\n",
    "table(tree.pred,High.test)\n",
    "(94+60)/200"
   ]
  },
  {
   "cell_type": "markdown",
   "metadata": {},
   "source": [
    "Indeed, a larger tree with 15 terminal nodes performs worse"
   ]
  },
  {
   "cell_type": "code",
   "execution_count": 14,
   "metadata": {},
   "outputs": [
    {
     "data": {
      "text/plain": [
       "         High.test\n",
       "tree.pred No Yes\n",
       "      No  86  22\n",
       "      Yes 30  62"
      ]
     },
     "metadata": {},
     "output_type": "display_data"
    },
    {
     "data": {
      "text/html": [
       "0.74"
      ],
      "text/latex": [
       "0.74"
      ],
      "text/markdown": [
       "0.74"
      ],
      "text/plain": [
       "[1] 0.74"
      ]
     },
     "metadata": {},
     "output_type": "display_data"
    },
    {
     "data": {
      "image/png": "[encoded data removed]",
      "text/plain": [
       "plot without title"
      ]
     },
     "metadata": {},
     "output_type": "display_data"
    }
   ],
   "source": [
    "prune.carseats=prune.misclass(tree.carseats,best=15)\n",
    "plot(prune.carseats)\n",
    "text(prune.carseats,pretty=0)\n",
    "tree.pred=predict(prune.carseats,Carseats.test,type=\"class\")\n",
    "table(tree.pred,High.test)\n",
    "(86+62)/200"
   ]
  },
  {
   "cell_type": "markdown",
   "metadata": {},
   "source": [
    "**Fitting regression trees**"
   ]
  },
  {
   "cell_type": "markdown",
   "metadata": {},
   "source": [
    "We fit a regression tree to the Boston data set. It consists of\n",
    "* CRIM - per capita crime rate by town\n",
    "* ZN - proportion of residential land zoned for lots over 25,000 sq.ft.\n",
    "* INDUS - proportion of non-retail business acres per town.\n",
    "* CHAS - Charles River dummy variable (1 if tract bounds river; 0 otherwise)\n",
    "* NOX - nitric oxides concentration (parts per 10 million)\n",
    "* RM - average number of rooms per dwelling\n",
    "* AGE - proportion of owner-occupied units built prior to 1940\n",
    "* DIS - weighted distances to five Boston employment centres\n",
    "* RAD - index of accessibility to radial highways\n",
    "* TAX - full-value property-tax rate per 10,000 dollar\n",
    "* PTRATIO - pupil-teacher ratio by town\n",
    "* B - 1000(Bk - 0.63)^2 where Bk is the proportion of blacks by town\n",
    "* LSTAT - % lower status of the population\n",
    "* MEDV - Median value of owner-occupied homes in 1000's dollar"
   ]
  },
  {
   "cell_type": "code",
   "execution_count": 15,
   "metadata": {},
   "outputs": [
    {
     "name": "stderr",
     "output_type": "stream",
     "text": [
      "Warning message:\n",
      "\"package 'MASS' was built under R version 3.5.3\""
     ]
    },
    {
     "data": {
      "text/plain": [
       "\n",
       "Regression tree:\n",
       "tree(formula = medv ~ ., data = Boston, subset = train)\n",
       "Variables actually used in tree construction:\n",
       "[1] \"lstat\" \"rm\"    \"dis\"  \n",
       "Number of terminal nodes:  8 \n",
       "Residual mean deviance:  12.65 = 3099 / 245 \n",
       "Distribution of residuals:\n",
       "     Min.   1st Qu.    Median      Mean   3rd Qu.      Max. \n",
       "-14.10000  -2.04200  -0.05357   0.00000   1.96000  12.60000 "
      ]
     },
     "metadata": {},
     "output_type": "display_data"
    }
   ],
   "source": [
    "library(MASS)\n",
    "set.seed(1)\n",
    "train = sample(1:nrow(Boston), nrow(Boston)/2)\n",
    "tree.boston=tree(medv~.,Boston,subset=train)\n",
    "summary(tree.boston)"
   ]
  },
  {
   "cell_type": "code",
   "execution_count": 16,
   "metadata": {},
   "outputs": [
    {
     "data": {
      "image/png": "[encoded data removed]",
      "text/plain": [
       "plot without title"
      ]
     },
     "metadata": {},
     "output_type": "display_data"
    }
   ],
   "source": [
    "plot(tree.boston)\n",
    "text(tree.boston,pretty=0)"
   ]
  },
  {
   "cell_type": "markdown",
   "metadata": {},
   "source": [
    "The most complex tree is selected by cross-validation."
   ]
  },
  {
   "cell_type": "code",
   "execution_count": 17,
   "metadata": {},
   "outputs": [
    {
     "data": {
      "image/png": "[encoded data removed]",
      "text/plain": [
       "plot without title"
      ]
     },
     "metadata": {},
     "output_type": "display_data"
    }
   ],
   "source": [
    "cv.boston=cv.tree(tree.boston)\n",
    "plot(cv.boston$size,cv.boston$dev,type='b')"
   ]
  },
  {
   "cell_type": "markdown",
   "metadata": {},
   "source": [
    "Prune the tree anyway."
   ]
  },
  {
   "cell_type": "code",
   "execution_count": 18,
   "metadata": {},
   "outputs": [
    {
     "data": {
      "image/png": "[encoded data removed]",
      "text/plain": [
       "plot without title"
      ]
     },
     "metadata": {},
     "output_type": "display_data"
    }
   ],
   "source": [
    "prune.boston=prune.tree(tree.boston,best=5)\n",
    "plot(prune.boston)\n",
    "text(prune.boston,pretty=0)"
   ]
  },
  {
   "cell_type": "code",
   "execution_count": 19,
   "metadata": {},
   "outputs": [
    {
     "data": {
      "text/html": [
       "25.0455923126146"
      ],
      "text/latex": [
       "25.0455923126146"
      ],
      "text/markdown": [
       "25.0455923126146"
      ],
      "text/plain": [
       "[1] 25.04559"
      ]
     },
     "metadata": {},
     "output_type": "display_data"
    },
    {
     "data": {
      "image/png": "[encoded data removed]",
      "text/plain": [
       "plot without title"
      ]
     },
     "metadata": {},
     "output_type": "display_data"
    }
   ],
   "source": [
    "yhat=predict(tree.boston,newdata=Boston[-train,])\n",
    "boston.test=Boston[-train,\"medv\"]\n",
    "plot(yhat,boston.test)\n",
    "abline(0,1)  # line with intercept 0 and slope 1\n",
    "mean((yhat-boston.test)^2)"
   ]
  },
  {
   "cell_type": "markdown",
   "metadata": {},
   "source": [
    "**Bagging and Random Forests**"
   ]
  },
  {
   "cell_type": "markdown",
   "metadata": {},
   "source": [
    "Note that bagging is just a random forest with m=p."
   ]
  },
  {
   "cell_type": "code",
   "execution_count": 20,
   "metadata": {},
   "outputs": [
    {
     "name": "stderr",
     "output_type": "stream",
     "text": [
      "Warning message:\n",
      "\"package 'randomForest' was built under R version 3.5.3\"randomForest 4.6-14\n",
      "Type rfNews() to see new features/changes/bug fixes.\n"
     ]
    },
    {
     "data": {
      "text/plain": [
       "\n",
       "Call:\n",
       " randomForest(formula = medv ~ ., data = Boston, mtry = 13, importance = TRUE,      subset = train) \n",
       "               Type of random forest: regression\n",
       "                     Number of trees: 500\n",
       "No. of variables tried at each split: 13\n",
       "\n",
       "          Mean of squared residuals: 11.15723\n",
       "                    % Var explained: 86.49"
      ]
     },
     "metadata": {},
     "output_type": "display_data"
    }
   ],
   "source": [
    "library(randomForest)\n",
    "set.seed(1)\n",
    "bag.boston=randomForest(medv~.,data=Boston,subset=train,mtry=13,importance=TRUE)\n",
    "bag.boston"
   ]
  },
  {
   "cell_type": "markdown",
   "metadata": {},
   "source": [
    "Already much better compared with a single pruned tree. (Half the MSE)"
   ]
  },
  {
   "cell_type": "code",
   "execution_count": 21,
   "metadata": {},
   "outputs": [
    {
     "data": {
      "text/html": [
       "13.5080802701866"
      ],
      "text/latex": [
       "13.5080802701866"
      ],
      "text/markdown": [
       "13.5080802701866"
      ],
      "text/plain": [
       "[1] 13.50808"
      ]
     },
     "metadata": {},
     "output_type": "display_data"
    },
    {
     "data": {
      "image/png": "[encoded data removed]",
      "text/plain": [
       "plot without title"
      ]
     },
     "metadata": {},
     "output_type": "display_data"
    }
   ],
   "source": [
    "yhat.bag = predict(bag.boston,newdata=Boston[-train,])\n",
    "plot(yhat.bag, boston.test)\n",
    "abline(0,1)\n",
    "mean((yhat.bag-boston.test)^2)"
   ]
  },
  {
   "cell_type": "markdown",
   "metadata": {},
   "source": [
    "Bagging with less trees reduces performance (MSE goes up)."
   ]
  },
  {
   "cell_type": "code",
   "execution_count": 22,
   "metadata": {},
   "outputs": [
    {
     "data": {
      "text/html": [
       "13.9483509972771"
      ],
      "text/latex": [
       "13.9483509972771"
      ],
      "text/markdown": [
       "13.9483509972771"
      ],
      "text/plain": [
       "[1] 13.94835"
      ]
     },
     "metadata": {},
     "output_type": "display_data"
    }
   ],
   "source": [
    "bag.boston=randomForest(medv~.,data=Boston,subset=train,mtry=13,ntree=25)\n",
    "yhat.bag = predict(bag.boston,newdata=Boston[-train,])\n",
    "mean((yhat.bag-boston.test)^2)"
   ]
  },
  {
   "cell_type": "markdown",
   "metadata": {},
   "source": [
    "We now use a random forest, by changing mtry = 6 (instead of all predictors mtry = 13).\n",
    "Performance further improves."
   ]
  },
  {
   "cell_type": "code",
   "execution_count": 23,
   "metadata": {},
   "outputs": [
    {
     "data": {
      "text/html": [
       "11.6645365887776"
      ],
      "text/latex": [
       "11.6645365887776"
      ],
      "text/markdown": [
       "11.6645365887776"
      ],
      "text/plain": [
       "[1] 11.66454"
      ]
     },
     "metadata": {},
     "output_type": "display_data"
    }
   ],
   "source": [
    "set.seed(1)\n",
    "rf.boston=randomForest(medv~.,data=Boston,subset=train,mtry=6,importance=TRUE)\n",
    "yhat.rf = predict(rf.boston,newdata=Boston[-train,])\n",
    "mean((yhat.rf-boston.test)^2)"
   ]
  },
  {
   "cell_type": "code",
   "execution_count": 24,
   "metadata": {},
   "outputs": [
    {
     "data": {
      "text/html": [
       "<table>\n",
       "<thead><tr><th></th><th scope=col>%IncMSE</th><th scope=col>IncNodePurity</th></tr></thead>\n",
       "<tbody>\n",
       "\t<tr><th scope=row>crim</th><td>12.132320 </td><td> 986.50338</td></tr>\n",
       "\t<tr><th scope=row>zn</th><td> 1.955579 </td><td>  57.96945</td></tr>\n",
       "\t<tr><th scope=row>indus</th><td> 9.069302 </td><td> 882.78261</td></tr>\n",
       "\t<tr><th scope=row>chas</th><td> 2.210835 </td><td>  45.22941</td></tr>\n",
       "\t<tr><th scope=row>nox</th><td>11.104823 </td><td>1044.33776</td></tr>\n",
       "\t<tr><th scope=row>rm</th><td>31.784033 </td><td>6359.31971</td></tr>\n",
       "\t<tr><th scope=row>age</th><td>10.962684 </td><td> 516.82969</td></tr>\n",
       "\t<tr><th scope=row>dis</th><td>15.015236 </td><td>1224.11605</td></tr>\n",
       "\t<tr><th scope=row>rad</th><td> 4.118011 </td><td>  95.94586</td></tr>\n",
       "\t<tr><th scope=row>tax</th><td> 8.587932 </td><td> 502.96719</td></tr>\n",
       "\t<tr><th scope=row>ptratio</th><td>12.503896 </td><td> 830.77523</td></tr>\n",
       "\t<tr><th scope=row>black</th><td> 6.702609 </td><td> 341.30361</td></tr>\n",
       "\t<tr><th scope=row>lstat</th><td>30.695224 </td><td>7505.73936</td></tr>\n",
       "</tbody>\n",
       "</table>\n"
      ],
      "text/latex": [
       "\\begin{tabular}{r|ll}\n",
       "  & \\%IncMSE & IncNodePurity\\\\\n",
       "\\hline\n",
       "\tcrim & 12.132320  &  986.50338\\\\\n",
       "\tzn &  1.955579  &   57.96945\\\\\n",
       "\tindus &  9.069302  &  882.78261\\\\\n",
       "\tchas &  2.210835  &   45.22941\\\\\n",
       "\tnox & 11.104823  & 1044.33776\\\\\n",
       "\trm & 31.784033  & 6359.31971\\\\\n",
       "\tage & 10.962684  &  516.82969\\\\\n",
       "\tdis & 15.015236  & 1224.11605\\\\\n",
       "\trad &  4.118011  &   95.94586\\\\\n",
       "\ttax &  8.587932  &  502.96719\\\\\n",
       "\tptratio & 12.503896  &  830.77523\\\\\n",
       "\tblack &  6.702609  &  341.30361\\\\\n",
       "\tlstat & 30.695224  & 7505.73936\\\\\n",
       "\\end{tabular}\n"
      ],
      "text/markdown": [
       "\n",
       "| <!--/--> | %IncMSE | IncNodePurity |\n",
       "|---|---|---|\n",
       "| crim | 12.132320  |  986.50338 |\n",
       "| zn |  1.955579  |   57.96945 |\n",
       "| indus |  9.069302  |  882.78261 |\n",
       "| chas |  2.210835  |   45.22941 |\n",
       "| nox | 11.104823  | 1044.33776 |\n",
       "| rm | 31.784033  | 6359.31971 |\n",
       "| age | 10.962684  |  516.82969 |\n",
       "| dis | 15.015236  | 1224.11605 |\n",
       "| rad |  4.118011  |   95.94586 |\n",
       "| tax |  8.587932  |  502.96719 |\n",
       "| ptratio | 12.503896  |  830.77523 |\n",
       "| black |  6.702609  |  341.30361 |\n",
       "| lstat | 30.695224  | 7505.73936 |\n",
       "\n"
      ],
      "text/plain": [
       "        %IncMSE   IncNodePurity\n",
       "crim    12.132320  986.50338   \n",
       "zn       1.955579   57.96945   \n",
       "indus    9.069302  882.78261   \n",
       "chas     2.210835   45.22941   \n",
       "nox     11.104823 1044.33776   \n",
       "rm      31.784033 6359.31971   \n",
       "age     10.962684  516.82969   \n",
       "dis     15.015236 1224.11605   \n",
       "rad      4.118011   95.94586   \n",
       "tax      8.587932  502.96719   \n",
       "ptratio 12.503896  830.77523   \n",
       "black    6.702609  341.30361   \n",
       "lstat   30.695224 7505.73936   "
      ]
     },
     "metadata": {},
     "output_type": "display_data"
    }
   ],
   "source": [
    "importance(rf.boston)"
   ]
  },
  {
   "cell_type": "code",
   "execution_count": 25,
   "metadata": {},
   "outputs": [
    {
     "data": {
      "image/png": "[encoded data removed]",
      "text/plain": [
       "plot without title"
      ]
     },
     "metadata": {},
     "output_type": "display_data"
    }
   ],
   "source": [
    "varImpPlot(rf.boston)"
   ]
  },
  {
   "cell_type": "markdown",
   "metadata": {},
   "source": [
    "**Boosting**"
   ]
  },
  {
   "cell_type": "markdown",
   "metadata": {},
   "source": [
    "We now use boosting on the Boston data set."
   ]
  },
  {
   "cell_type": "code",
   "execution_count": 26,
   "metadata": {},
   "outputs": [
    {
     "name": "stderr",
     "output_type": "stream",
     "text": [
      "Warning message:\n",
      "\"package 'gbm' was built under R version 3.5.3\"Loaded gbm 2.1.5\n"
     ]
    }
   ],
   "source": [
    "library(gbm)\n",
    "set.seed(1)\n",
    "boost.boston=gbm(medv~.,data=Boston[train,],distribution=\"gaussian\",n.trees=5000,interaction.depth=4)"
   ]
  },
  {
   "cell_type": "markdown",
   "metadata": {},
   "source": [
    "Relative influence is the average improvement (depends on the metric) of all splits containing that variable"
   ]
  },
  {
   "cell_type": "code",
   "execution_count": 27,
   "metadata": {},
   "outputs": [
    {
     "data": {
      "text/html": [
       "<table>\n",
       "<thead><tr><th></th><th scope=col>var</th><th scope=col>rel.inf</th></tr></thead>\n",
       "<tbody>\n",
       "\t<tr><th scope=row>lstat</th><td>lstat     </td><td>37.0661275</td></tr>\n",
       "\t<tr><th scope=row>rm</th><td>rm        </td><td>25.3533123</td></tr>\n",
       "\t<tr><th scope=row>dis</th><td>dis       </td><td>11.7903016</td></tr>\n",
       "\t<tr><th scope=row>crim</th><td>crim      </td><td> 8.0388750</td></tr>\n",
       "\t<tr><th scope=row>black</th><td>black     </td><td> 4.2531659</td></tr>\n",
       "\t<tr><th scope=row>nox</th><td>nox       </td><td> 3.5058570</td></tr>\n",
       "\t<tr><th scope=row>age</th><td>age       </td><td> 3.4868724</td></tr>\n",
       "\t<tr><th scope=row>ptratio</th><td>ptratio   </td><td> 2.2500385</td></tr>\n",
       "\t<tr><th scope=row>indus</th><td>indus     </td><td> 1.7725070</td></tr>\n",
       "\t<tr><th scope=row>tax</th><td>tax       </td><td> 1.1836592</td></tr>\n",
       "\t<tr><th scope=row>chas</th><td>chas      </td><td> 0.7441319</td></tr>\n",
       "\t<tr><th scope=row>rad</th><td>rad       </td><td> 0.4274311</td></tr>\n",
       "\t<tr><th scope=row>zn</th><td>zn        </td><td> 0.1277206</td></tr>\n",
       "</tbody>\n",
       "</table>\n"
      ],
      "text/latex": [
       "\\begin{tabular}{r|ll}\n",
       "  & var & rel.inf\\\\\n",
       "\\hline\n",
       "\tlstat & lstat      & 37.0661275\\\\\n",
       "\trm & rm         & 25.3533123\\\\\n",
       "\tdis & dis        & 11.7903016\\\\\n",
       "\tcrim & crim       &  8.0388750\\\\\n",
       "\tblack & black      &  4.2531659\\\\\n",
       "\tnox & nox        &  3.5058570\\\\\n",
       "\tage & age        &  3.4868724\\\\\n",
       "\tptratio & ptratio    &  2.2500385\\\\\n",
       "\tindus & indus      &  1.7725070\\\\\n",
       "\ttax & tax        &  1.1836592\\\\\n",
       "\tchas & chas       &  0.7441319\\\\\n",
       "\trad & rad        &  0.4274311\\\\\n",
       "\tzn & zn         &  0.1277206\\\\\n",
       "\\end{tabular}\n"
      ],
      "text/markdown": [
       "\n",
       "| <!--/--> | var | rel.inf |\n",
       "|---|---|---|\n",
       "| lstat | lstat      | 37.0661275 |\n",
       "| rm | rm         | 25.3533123 |\n",
       "| dis | dis        | 11.7903016 |\n",
       "| crim | crim       |  8.0388750 |\n",
       "| black | black      |  4.2531659 |\n",
       "| nox | nox        |  3.5058570 |\n",
       "| age | age        |  3.4868724 |\n",
       "| ptratio | ptratio    |  2.2500385 |\n",
       "| indus | indus      |  1.7725070 |\n",
       "| tax | tax        |  1.1836592 |\n",
       "| chas | chas       |  0.7441319 |\n",
       "| rad | rad        |  0.4274311 |\n",
       "| zn | zn         |  0.1277206 |\n",
       "\n"
      ],
      "text/plain": [
       "        var     rel.inf   \n",
       "lstat   lstat   37.0661275\n",
       "rm      rm      25.3533123\n",
       "dis     dis     11.7903016\n",
       "crim    crim     8.0388750\n",
       "black   black    4.2531659\n",
       "nox     nox      3.5058570\n",
       "age     age      3.4868724\n",
       "ptratio ptratio  2.2500385\n",
       "indus   indus    1.7725070\n",
       "tax     tax      1.1836592\n",
       "chas    chas     0.7441319\n",
       "rad     rad      0.4274311\n",
       "zn      zn       0.1277206"
      ]
     },
     "metadata": {},
     "output_type": "display_data"
    },
    {
     "data": {
      "image/png": "[encoded data removed]",
      "text/plain": [
       "plot without title"
      ]
     },
     "metadata": {},
     "output_type": "display_data"
    }
   ],
   "source": [
    "summary(boost.boston)"
   ]
  },
  {
   "cell_type": "markdown",
   "metadata": {},
   "source": [
    "partial dependence plots: see https://christophm.github.io/interpretable-ml-book/pdp.html\n",
    "integrate out the effect of other variables: f(X_s) = int f(X_s, X_c) dP(X_c) "
   ]
  },
  {
   "cell_type": "code",
   "execution_count": 28,
   "metadata": {},
   "outputs": [
    {
     "data": {},
     "metadata": {},
     "output_type": "display_data"
    },
    {
     "data": {},
     "metadata": {},
     "output_type": "display_data"
    },
    {
     "data": {
      "image/png": "[encoded data removed]",
      "text/plain": [
       "plot without title"
      ]
     },
     "metadata": {},
     "output_type": "display_data"
    },
    {
     "data": {
      "image/png": "[encoded data removed]",
      "text/plain": [
       "plot without title"
      ]
     },
     "metadata": {},
     "output_type": "display_data"
    }
   ],
   "source": [
    "par(mfrow=c(1,2))\n",
    "plot(boost.boston,i=\"rm\")\n",
    "plot(boost.boston,i=\"lstat\")"
   ]
  },
  {
   "cell_type": "markdown",
   "metadata": {},
   "source": [
    "Better performance compared to boosting.\n",
    "This dependence on randomness, so results can vary (could also lead to similar performance).\n",
    "$\\lambda = 0.001$ in this case."
   ]
  },
  {
   "cell_type": "code",
   "execution_count": 29,
   "metadata": {},
   "outputs": [
    {
     "data": {
      "text/html": [
       "10.8147881850239"
      ],
      "text/latex": [
       "10.8147881850239"
      ],
      "text/markdown": [
       "10.8147881850239"
      ],
      "text/plain": [
       "[1] 10.81479"
      ]
     },
     "metadata": {},
     "output_type": "display_data"
    }
   ],
   "source": [
    "yhat.boost=predict(boost.boston,newdata=Boston[-train,],n.trees=5000)\n",
    "mean((yhat.boost-boston.test)^2)"
   ]
  },
  {
   "cell_type": "markdown",
   "metadata": {},
   "source": [
    "By taking $\\lambda = 0.2$, test performance gets worse."
   ]
  },
  {
   "cell_type": "code",
   "execution_count": 30,
   "metadata": {},
   "outputs": [
    {
     "data": {
      "text/html": [
       "11.5110925914856"
      ],
      "text/latex": [
       "11.5110925914856"
      ],
      "text/markdown": [
       "11.5110925914856"
      ],
      "text/plain": [
       "[1] 11.51109"
      ]
     },
     "metadata": {},
     "output_type": "display_data"
    }
   ],
   "source": [
    "boost.boston=gbm(medv~.,data=Boston[train,],distribution=\"gaussian\",n.trees=5000,interaction.depth=4,shrinkage=0.2,verbose=F)\n",
    "yhat.boost=predict(boost.boston,newdata=Boston[-train,],n.trees=5000)\n",
    "mean((yhat.boost-boston.test)^2)"
   ]
  },
  {
   "cell_type": "markdown",
   "metadata": {},
   "source": [
    "Eerste 2 oefeningen van boek kunnen ook gemaakt worden"
   ]
  }
 ],
 "metadata": {
  "kernelspec": {
   "display_name": "R",
   "language": "R",
   "name": "ir"
  },
  "language_info": {
   "codemirror_mode": "r",
   "file_extension": ".r",
   "mimetype": "text/x-r-source",
   "name": "R",
   "pygments_lexer": "r",
   "version": "3.6.1"
  }
 },
 "nbformat": 4,
 "nbformat_minor": 4
}
