{
 "cells": [
  {
   "cell_type": "code",
   "execution_count": null,
   "metadata": {},
   "outputs": [],
   "source": [
    "# install.packages('ROCR', repos='http://cran.us.r-project.org')"
   ]
  },
  {
   "cell_type": "markdown",
   "metadata": {},
   "source": [
    "**Principal component analysis**"
   ]
  },
  {
   "cell_type": "code",
   "execution_count": null,
   "metadata": {},
   "outputs": [],
   "source": [
    "states=row.names(USArrests)\n",
    "states"
   ]
  },
  {
   "cell_type": "code",
   "execution_count": null,
   "metadata": {},
   "outputs": [],
   "source": [
    "names(USArrests)"
   ]
  },
  {
   "cell_type": "code",
   "execution_count": null,
   "metadata": {},
   "outputs": [],
   "source": [
    "apply(USArrests, 2, mean)"
   ]
  },
  {
   "cell_type": "code",
   "execution_count": null,
   "metadata": {},
   "outputs": [],
   "source": [
    "apply(USArrests, 2, var)"
   ]
  },
  {
   "cell_type": "markdown",
   "metadata": {},
   "source": [
    "scale true takes care of average = 0, and variance = 1."
   ]
  },
  {
   "cell_type": "code",
   "execution_count": null,
   "metadata": {},
   "outputs": [],
   "source": [
    "pr.out=prcomp(USArrests, scale=TRUE)"
   ]
  },
  {
   "cell_type": "code",
   "execution_count": null,
   "metadata": {},
   "outputs": [],
   "source": [
    "names(pr.out)"
   ]
  },
  {
   "cell_type": "markdown",
   "metadata": {},
   "source": [
    "Center and scale are average and variance of input data"
   ]
  },
  {
   "cell_type": "code",
   "execution_count": null,
   "metadata": {},
   "outputs": [],
   "source": [
    "pr.out$center\n",
    "pr.out$scale"
   ]
  },
  {
   "cell_type": "markdown",
   "metadata": {},
   "source": [
    "The loading (or, rotation matrix)"
   ]
  },
  {
   "cell_type": "code",
   "execution_count": null,
   "metadata": {},
   "outputs": [],
   "source": [
    "pr.out$rotation"
   ]
  },
  {
   "cell_type": "markdown",
   "metadata": {},
   "source": [
    "Number of PC is equal to min(n-1, p)"
   ]
  },
  {
   "cell_type": "code",
   "execution_count": null,
   "metadata": {},
   "outputs": [],
   "source": [
    "dim(pr.out$x)"
   ]
  },
  {
   "cell_type": "markdown",
   "metadata": {},
   "source": [
    "arrows are scaled to represent the loadings"
   ]
  },
  {
   "cell_type": "code",
   "execution_count": null,
   "metadata": {},
   "outputs": [],
   "source": [
    "biplot(pr.out, scale=0)"
   ]
  },
  {
   "cell_type": "markdown",
   "metadata": {},
   "source": [
    "Take care of arbitrary minus signs in PC calculation"
   ]
  },
  {
   "cell_type": "code",
   "execution_count": null,
   "metadata": {},
   "outputs": [],
   "source": [
    "pr.out$rotation=-pr.out$rotation\n",
    "pr.out$x=-pr.out$x\n",
    "biplot(pr.out, scale=0)"
   ]
  },
  {
   "cell_type": "markdown",
   "metadata": {},
   "source": [
    "Standard deviation of each principal component"
   ]
  },
  {
   "cell_type": "code",
   "execution_count": null,
   "metadata": {},
   "outputs": [],
   "source": [
    "pr.out$sdev"
   ]
  },
  {
   "cell_type": "markdown",
   "metadata": {},
   "source": [
    "Variances of the PCs"
   ]
  },
  {
   "cell_type": "code",
   "execution_count": null,
   "metadata": {},
   "outputs": [],
   "source": [
    "pr.var=pr.out$sdev^2\n",
    "pr.var"
   ]
  },
  {
   "cell_type": "code",
   "execution_count": null,
   "metadata": {},
   "outputs": [],
   "source": [
    "pve=pr.var/sum(pr.var)\n",
    "pve"
   ]
  },
  {
   "cell_type": "code",
   "execution_count": null,
   "metadata": {},
   "outputs": [],
   "source": [
    "plot(pve, xlab=\"Principal Component\", ylab=\"Proportion of Variance Explained\", ylim=c(0,1),type='b')\n",
    "plot(cumsum(pve), xlab=\"Principal Component\", ylab=\"Cumulative Proportion of Variance Explained\", ylim=c(0,1),type='b')"
   ]
  },
  {
   "cell_type": "markdown",
   "metadata": {},
   "source": [
    "Example of cumulative sum"
   ]
  },
  {
   "cell_type": "code",
   "execution_count": null,
   "metadata": {},
   "outputs": [],
   "source": [
    "a=c(1,2,8,-3)\n",
    "cumsum(a)"
   ]
  },
  {
   "cell_type": "markdown",
   "metadata": {},
   "source": [
    "**K-Means clustering**"
   ]
  },
  {
   "cell_type": "markdown",
   "metadata": {},
   "source": [
    "Create artificial data set with two clear clusters"
   ]
  },
  {
   "cell_type": "code",
   "execution_count": null,
   "metadata": {},
   "outputs": [],
   "source": [
    "set.seed(2)\n",
    "x=matrix(rnorm(50*2), ncol=2)\n",
    "x[1:25,1]=x[1:25,1]+3\n",
    "x[1:25,2]=x[1:25,2]-4"
   ]
  },
  {
   "cell_type": "code",
   "execution_count": null,
   "metadata": {},
   "outputs": [],
   "source": [
    "km.out=kmeans(x,2,nstart=20)"
   ]
  },
  {
   "cell_type": "code",
   "execution_count": null,
   "metadata": {},
   "outputs": [],
   "source": [
    "km.out$cluster"
   ]
  },
  {
   "cell_type": "code",
   "execution_count": null,
   "metadata": {},
   "outputs": [],
   "source": [
    "km.out"
   ]
  },
  {
   "cell_type": "code",
   "execution_count": null,
   "metadata": {},
   "outputs": [],
   "source": [
    "plot(x, col=(km.out$cluster+1), main=\"K-Means Clustering Results with K=2\", xlab=\"\", ylab=\"\", pch=20, cex=2)"
   ]
  },
  {
   "cell_type": "markdown",
   "metadata": {},
   "source": [
    "totss\t\n",
    "The total sum of squares.\n",
    "\n",
    "withinss\t\n",
    "Vector of within-cluster sum of squares, one component per cluster.\n",
    "\n",
    "tot.withinss\t\n",
    "Total within-cluster sum of squares, i.e. sum(withinss).\n",
    "\n",
    "betweenss\t\n",
    "The between-cluster sum of squares, i.e. totss-tot.withinss."
   ]
  },
  {
   "cell_type": "code",
   "execution_count": null,
   "metadata": {},
   "outputs": [],
   "source": [
    "set.seed(4)\n",
    "km.out=kmeans(x,3,nstart=20)\n",
    "km.out"
   ]
  },
  {
   "cell_type": "code",
   "execution_count": null,
   "metadata": {},
   "outputs": [],
   "source": [
    "plot(x, col=(km.out$cluster+1), main=\"K-Means Clustering Results with K=3\", xlab=\"\", ylab=\"\", pch=20, cex=2)"
   ]
  },
  {
   "cell_type": "markdown",
   "metadata": {},
   "source": [
    "Use different random initializations to get a good clustering!"
   ]
  },
  {
   "cell_type": "code",
   "execution_count": null,
   "metadata": {},
   "outputs": [],
   "source": [
    "set.seed(3)\n",
    "km.out=kmeans(x,3,nstart=1)\n",
    "km.out$tot.withinss\n",
    "km.out=kmeans(x,3,nstart=20)\n",
    "km.out$tot.withinss"
   ]
  },
  {
   "cell_type": "markdown",
   "metadata": {},
   "source": [
    "**Hierarchical clustering**"
   ]
  },
  {
   "cell_type": "code",
   "execution_count": null,
   "metadata": {},
   "outputs": [],
   "source": [
    "hc.complete=hclust(dist(x), method=\"complete\")\n",
    "hc.average=hclust(dist(x), method=\"average\")\n",
    "hc.single=hclust(dist(x), method=\"single\")"
   ]
  },
  {
   "cell_type": "markdown",
   "metadata": {},
   "source": [
    "Notice the differences in height\n",
    "For Single linkage, there is a Singleton -> because of linkage metric"
   ]
  },
  {
   "cell_type": "code",
   "execution_count": null,
   "metadata": {},
   "outputs": [],
   "source": [
    "par(mfrow=c(1,3))\n",
    "plot(hc.complete,main=\"Complete Linkage\", xlab=\"\", sub=\"\", cex=.9)\n",
    "plot(hc.average, main=\"Average Linkage\", xlab=\"\", sub=\"\", cex=.9)\n",
    "plot(hc.single, main=\"Single Linkage\", xlab=\"\", sub=\"\", cex=.9)"
   ]
  },
  {
   "cell_type": "code",
   "execution_count": null,
   "metadata": {},
   "outputs": [],
   "source": [
    "cutree(hc.complete, 2)\n",
    "cutree(hc.average, 2)\n",
    "cutree(hc.single, 2)"
   ]
  },
  {
   "cell_type": "markdown",
   "metadata": {},
   "source": [
    "A cut at 4 produces better results, although the singleton still is present."
   ]
  },
  {
   "cell_type": "code",
   "execution_count": null,
   "metadata": {},
   "outputs": [],
   "source": [
    "cutree(hc.single, 4)"
   ]
  },
  {
   "cell_type": "code",
   "execution_count": null,
   "metadata": {},
   "outputs": [],
   "source": [
    "xsc=scale(x)\n",
    "plot(hclust(dist(xsc), method=\"complete\"), main=\"Hierarchical Clustering with Scaled Features\")"
   ]
  },
  {
   "cell_type": "markdown",
   "metadata": {},
   "source": [
    "Because two 2-dimensional data points are always correlated with absolute value 1, we create a 3-dimensional Gaussian distributed data set"
   ]
  },
  {
   "cell_type": "code",
   "execution_count": null,
   "metadata": {},
   "outputs": [],
   "source": [
    "x=matrix(rnorm(30*3), ncol=3)\n",
    "dd=as.dist(1-cor(t(x)))   # t(x) is the transpose of x\n",
    "plot(hclust(dd, method=\"complete\"), main=\"Complete Linkage with Correlation-Based Distance\", xlab=\"\", sub=\"\")"
   ]
  },
  {
   "cell_type": "markdown",
   "metadata": {},
   "source": [
    "See separate paper for explanation"
   ]
  },
  {
   "cell_type": "code",
   "execution_count": null,
   "metadata": {},
   "outputs": [],
   "source": [
    "# example of 2 dimensions correlation matrix\n",
    "x2=matrix(rnorm(30*2), ncol=2)\n",
    "t(x2)\n",
    "cor(t(x2))\n",
    "dim(cor(t(x2)))\n",
    "cor(x2)"
   ]
  },
  {
   "cell_type": "markdown",
   "metadata": {},
   "source": [
    "**Lab 3: NCI60 Data Example**"
   ]
  },
  {
   "cell_type": "markdown",
   "metadata": {},
   "source": [
    "We give an example on gene-expression data"
   ]
  },
  {
   "cell_type": "code",
   "execution_count": null,
   "metadata": {},
   "outputs": [],
   "source": [
    "library(ISLR)\n",
    "nci.labs=NCI60$labs\n",
    "nci.data=NCI60$data"
   ]
  },
  {
   "cell_type": "code",
   "execution_count": null,
   "metadata": {},
   "outputs": [],
   "source": [
    "dim(nci.data)"
   ]
  },
  {
   "cell_type": "markdown",
   "metadata": {},
   "source": [
    "Type of cancer cell data in the dataset. There are 64 cell samples for 6830 gene expressions."
   ]
  },
  {
   "cell_type": "code",
   "execution_count": null,
   "metadata": {},
   "outputs": [],
   "source": [
    "nci.labs[1:4]\n",
    "table(nci.labs)"
   ]
  },
  {
   "cell_type": "code",
   "execution_count": null,
   "metadata": {},
   "outputs": [],
   "source": [
    "pr.out=prcomp(nci.data, scale=TRUE)"
   ]
  },
  {
   "cell_type": "code",
   "execution_count": null,
   "metadata": {},
   "outputs": [],
   "source": [
    "Cols=function(vec){\n",
    "    cols=rainbow(length(unique(vec)))\n",
    "    return(cols[as.numeric(as.factor(vec))])\n",
    "  }"
   ]
  },
  {
   "cell_type": "code",
   "execution_count": null,
   "metadata": {},
   "outputs": [],
   "source": [
    "On the whole, cells with similar color (same group) occur close to each other"
   ]
  },
  {
   "cell_type": "code",
   "execution_count": null,
   "metadata": {},
   "outputs": [],
   "source": [
    "par(mfrow=c(1,2))\n",
    "plot(pr.out$x[,1:2], col=Cols(nci.labs), pch=19,xlab=\"Z1\",ylab=\"Z2\")\n",
    "plot(pr.out$x[,c(1,3)], col=Cols(nci.labs), pch=19,xlab=\"Z1\",ylab=\"Z3\")"
   ]
  },
  {
   "cell_type": "code",
   "execution_count": null,
   "metadata": {},
   "outputs": [],
   "source": [
    "summary(pr.out)"
   ]
  },
  {
   "cell_type": "code",
   "execution_count": null,
   "metadata": {},
   "outputs": [],
   "source": [
    "plot(pr.out)"
   ]
  },
  {
   "cell_type": "markdown",
   "metadata": {},
   "source": [
    "Notice the elbow around 7 PCs"
   ]
  },
  {
   "cell_type": "code",
   "execution_count": null,
   "metadata": {},
   "outputs": [],
   "source": [
    "pve=100*pr.out$sdev^2/sum(pr.out$sdev^2)\n",
    "par(mfrow=c(1,2))\n",
    "plot(pve,  type=\"o\", ylab=\"PVE\", xlab=\"Principal Component\", col=\"blue\")\n",
    "plot(cumsum(pve), type=\"o\", ylab=\"Cumulative PVE\", xlab=\"Principal Component\", col=\"brown3\")"
   ]
  },
  {
   "cell_type": "code",
   "execution_count": null,
   "metadata": {},
   "outputs": [],
   "source": [
    "sd.data=scale(nci.data)"
   ]
  },
  {
   "cell_type": "markdown",
   "metadata": {},
   "source": [
    "Better dendrograms are in the book. Notice the 'trailing' of single linkage."
   ]
  },
  {
   "cell_type": "code",
   "execution_count": null,
   "metadata": {},
   "outputs": [],
   "source": [
    "par(mfrow=c(1,3))\n",
    "data.dist=dist(sd.data)\n",
    "plot(hclust(data.dist), labels=nci.labs, main=\"Complete Linkage\", xlab=\"\", sub=\"\",ylab=\"\")\n",
    "plot(hclust(data.dist, method=\"average\"), labels=nci.labs, main=\"Average Linkage\", xlab=\"\", sub=\"\",ylab=\"\")\n",
    "plot(hclust(data.dist, method=\"single\"), labels=nci.labs,  main=\"Single Linkage\", xlab=\"\", sub=\"\",ylab=\"\")"
   ]
  },
  {
   "cell_type": "code",
   "execution_count": null,
   "metadata": {},
   "outputs": [],
   "source": [
    "hc.out=hclust(dist(sd.data))\n",
    "hc.clusters=cutree(hc.out,4)\n",
    "table(hc.clusters,nci.labs)"
   ]
  },
  {
   "cell_type": "code",
   "execution_count": null,
   "metadata": {},
   "outputs": [],
   "source": [
    "par(mfrow=c(1,1))\n",
    "plot(hc.out, labels=nci.labs)\n",
    "abline(h=139, col=\"red\")"
   ]
  },
  {
   "cell_type": "code",
   "execution_count": null,
   "metadata": {},
   "outputs": [],
   "source": [
    "hc.out"
   ]
  },
  {
   "cell_type": "markdown",
   "metadata": {},
   "source": [
    "Compare K-means result with hierarchical clustering."
   ]
  },
  {
   "cell_type": "code",
   "execution_count": null,
   "metadata": {},
   "outputs": [],
   "source": [
    "set.seed(2)\n",
    "km.out=kmeans(sd.data, 4, nstart=20)\n",
    "km.clusters=km.out$cluster\n",
    "table(km.clusters,hc.clusters)"
   ]
  },
  {
   "cell_type": "markdown",
   "metadata": {},
   "source": [
    "Hierarchical clustering on the first Five PCs. Can be advantageous because it denoises the data."
   ]
  },
  {
   "cell_type": "code",
   "execution_count": null,
   "metadata": {},
   "outputs": [],
   "source": [
    "hc.out=hclust(dist(pr.out$x[,1:5]))\n",
    "plot(hc.out, labels=nci.labs, main=\"Hier. Clust. on First Five Score Vectors\")\n",
    "table(cutree(hc.out,4), nci.labs)"
   ]
  },
  {
   "cell_type": "code",
   "execution_count": null,
   "metadata": {},
   "outputs": [],
   "source": []
  }
 ],
 "metadata": {
  "kernelspec": {
   "display_name": "R",
   "language": "R",
   "name": "ir"
  },
  "language_info": {
   "codemirror_mode": "r",
   "file_extension": ".r",
   "mimetype": "text/x-r-source",
   "name": "R",
   "pygments_lexer": "r",
   "version": "3.6.3"
  }
 },
 "nbformat": 4,
 "nbformat_minor": 4
}
