{
 "cells": [
  {
   "cell_type": "markdown",
   "metadata": {},
   "source": [
    "Install all necessary packages. \n",
    "Should only be done first time for notebook."
   ]
  },
  {
   "cell_type": "code",
   "execution_count": null,
   "metadata": {},
   "outputs": [],
   "source": [
    "# install.packages('tree', repos='http://cran.us.r-project.org')\n",
    "# install.packages('ISLR', repos='http://cran.us.r-project.org')\n",
    "# install.packages('MASS', repos='http://cran.us.r-project.org')\n",
    "# install.packages('randomForest', repos='http://cran.us.r-project.org')\n",
    "# install.packages('gbm', repos='http://cran.us.r-project.org')"
   ]
  },
  {
   "cell_type": "markdown",
   "metadata": {},
   "source": [
    "**Fitting classification trees**"
   ]
  },
  {
   "cell_type": "code",
   "execution_count": null,
   "metadata": {},
   "outputs": [],
   "source": [
    "library(tree)\n",
    "library(ISLR)"
   ]
  },
  {
   "cell_type": "markdown",
   "metadata": {},
   "source": [
    "We use the carseat dataset.\n",
    "We create a binary variable high / low, if Sales <= 8 or > 8."
   ]
  },
  {
   "cell_type": "code",
   "execution_count": null,
   "metadata": {},
   "outputs": [],
   "source": [
    "attach(Carseats)\n",
    "High=ifelse(Sales<=8,\"No\",\"Yes\")\n",
    "Carseats=data.frame(Carseats,High)"
   ]
  },
  {
   "cell_type": "markdown",
   "metadata": {},
   "source": [
    "The Carseats data set tracks sales information for child car seats. \n",
    "It has 400 observations (each at a different store) and 11 variables:\n",
    "\n",
    "* Sales: unit sales in thousands\n",
    "* CompPrice: price charged by competitor at each location\n",
    "* Income: community income level in 1000s of dollars\n",
    "* Advertising: local ad budget at each location in 1000s of dollars\n",
    "* Population: regional pop in thousands\n",
    "* Price: price for car seats at each site\n",
    "* ShelveLoc: Bad, Good or Medium indicates quality of shelving location\n",
    "* Age: age level of the population\n",
    "* Education: ed level at location\n",
    "* Urban: Yes/No\n",
    "* US: Yes/No"
   ]
  },
  {
   "cell_type": "code",
   "execution_count": null,
   "metadata": {},
   "outputs": [],
   "source": [
    "summary(Carseats)"
   ]
  },
  {
   "cell_type": "markdown",
   "metadata": {},
   "source": [
    "Fit a decision tree on the dataset.\n",
    "We predict high / low sales, excluding of course the Sales variable."
   ]
  },
  {
   "cell_type": "code",
   "execution_count": null,
   "metadata": {},
   "outputs": [],
   "source": [
    "tree.carseats=tree(High~.-Sales,Carseats)"
   ]
  },
  {
   "cell_type": "code",
   "execution_count": null,
   "metadata": {},
   "outputs": [],
   "source": [
    "summary(tree.carseats)"
   ]
  },
  {
   "cell_type": "code",
   "execution_count": null,
   "metadata": {},
   "outputs": [],
   "source": [
    "plot(tree.carseats)\n",
    "text(tree.carseats,pretty=0)"
   ]
  },
  {
   "cell_type": "code",
   "execution_count": null,
   "metadata": {},
   "outputs": [],
   "source": [
    "tree.carseats"
   ]
  },
  {
   "cell_type": "markdown",
   "metadata": {},
   "source": [
    "Create training / test set split, to estimate performance on independent test set"
   ]
  },
  {
   "cell_type": "code",
   "execution_count": null,
   "metadata": {},
   "outputs": [],
   "source": [
    "set.seed(2)\n",
    "train=sample(1:nrow(Carseats), 200)   # create training set with 200 samples (half of total)\n",
    "Carseats.test=Carseats[-train,]       # create test set with other samples\n",
    "High.test=High[-train]\n",
    "tree.carseats=tree(High~.-Sales,Carseats,subset=train)\n",
    "tree.pred=predict(tree.carseats,Carseats.test,type=\"class\")\n",
    "table(tree.pred,High.test)\n",
    "(86+57)/200"
   ]
  },
  {
   "cell_type": "markdown",
   "metadata": {},
   "source": [
    "Use cross-validation to estimate test error for different pruning strengths"
   ]
  },
  {
   "cell_type": "markdown",
   "metadata": {},
   "source": [
    "The output for the CV is:\n",
    "* size: number of terminal nodes |T|\n",
    "* dev: CV error rate (confusing name!)\n",
    "* k: alpha value  (-Inf must be error: 0 is lowest sensible value\n",
    "* attr: attributes of class"
   ]
  },
  {
   "cell_type": "code",
   "execution_count": null,
   "metadata": {},
   "outputs": [],
   "source": [
    "set.seed(3)\n",
    "cv.carseats=cv.tree(tree.carseats,FUN=prune.misclass)   # we prune with missclassification error rate\n",
    "names(cv.carseats)\n",
    "cv.carseats"
   ]
  },
  {
   "cell_type": "markdown",
   "metadata": {},
   "source": [
    "plot of missclassification error "
   ]
  },
  {
   "cell_type": "code",
   "execution_count": null,
   "metadata": {},
   "outputs": [],
   "source": [
    "par(mfrow=c(1,2))\n",
    "plot(cv.carseats$size,cv.carseats$dev,type=\"b\")\n",
    "plot(cv.carseats$k,cv.carseats$dev,type=\"b\")"
   ]
  },
  {
   "cell_type": "markdown",
   "metadata": {},
   "source": [
    "Prune the tree to its optimal size, and plot the final result"
   ]
  },
  {
   "cell_type": "code",
   "execution_count": null,
   "metadata": {},
   "outputs": [],
   "source": [
    "prune.carseats=prune.misclass(tree.carseats,best=9)\n",
    "plot(prune.carseats)\n",
    "text(prune.carseats,pretty=0)"
   ]
  },
  {
   "cell_type": "markdown",
   "metadata": {},
   "source": [
    "Quality of pruned tree on test set (bettern than 0.72 of unpruned tree)"
   ]
  },
  {
   "cell_type": "code",
   "execution_count": null,
   "metadata": {},
   "outputs": [],
   "source": [
    "tree.pred=predict(prune.carseats,Carseats.test,type=\"class\")\n",
    "table(tree.pred,High.test)\n",
    "(94+60)/200"
   ]
  },
  {
   "cell_type": "markdown",
   "metadata": {},
   "source": [
    "Indeed, a larger tree with 15 terminal nodes performs worse"
   ]
  },
  {
   "cell_type": "code",
   "execution_count": null,
   "metadata": {},
   "outputs": [],
   "source": [
    "prune.carseats=prune.misclass(tree.carseats,best=15)\n",
    "plot(prune.carseats)\n",
    "text(prune.carseats,pretty=0)\n",
    "tree.pred=predict(prune.carseats,Carseats.test,type=\"class\")\n",
    "table(tree.pred,High.test)\n",
    "(86+62)/200"
   ]
  },
  {
   "cell_type": "markdown",
   "metadata": {},
   "source": [
    "**Fitting regression trees**"
   ]
  },
  {
   "cell_type": "markdown",
   "metadata": {},
   "source": [
    "We fit a regression tree to the Boston data set. It consists of\n",
    "* CRIM - per capita crime rate by town\n",
    "* ZN - proportion of residential land zoned for lots over 25,000 sq.ft.\n",
    "* INDUS - proportion of non-retail business acres per town.\n",
    "* CHAS - Charles River dummy variable (1 if tract bounds river; 0 otherwise)\n",
    "* NOX - nitric oxides concentration (parts per 10 million)\n",
    "* RM - average number of rooms per dwelling\n",
    "* AGE - proportion of owner-occupied units built prior to 1940\n",
    "* DIS - weighted distances to five Boston employment centres\n",
    "* RAD - index of accessibility to radial highways\n",
    "* TAX - full-value property-tax rate per 10,000 dollar\n",
    "* PTRATIO - pupil-teacher ratio by town\n",
    "* B - 1000(Bk - 0.63)^2 where Bk is the proportion of blacks by town\n",
    "* LSTAT - % lower status of the population\n",
    "* MEDV - Median value of owner-occupied homes in 1000's dollar"
   ]
  },
  {
   "cell_type": "code",
   "execution_count": null,
   "metadata": {},
   "outputs": [],
   "source": [
    "library(MASS)\n",
    "set.seed(1)\n",
    "train = sample(1:nrow(Boston), nrow(Boston)/2)\n",
    "tree.boston=tree(medv~.,Boston,subset=train)\n",
    "summary(tree.boston)"
   ]
  },
  {
   "cell_type": "code",
   "execution_count": null,
   "metadata": {},
   "outputs": [],
   "source": [
    "plot(tree.boston)\n",
    "text(tree.boston,pretty=0)"
   ]
  },
  {
   "cell_type": "markdown",
   "metadata": {},
   "source": [
    "The most complex tree is selected by cross-validation."
   ]
  },
  {
   "cell_type": "code",
   "execution_count": null,
   "metadata": {},
   "outputs": [],
   "source": [
    "cv.boston=cv.tree(tree.boston)\n",
    "plot(cv.boston$size,cv.boston$dev,type='b')"
   ]
  },
  {
   "cell_type": "markdown",
   "metadata": {},
   "source": [
    "Prune the tree anyway."
   ]
  },
  {
   "cell_type": "code",
   "execution_count": null,
   "metadata": {},
   "outputs": [],
   "source": [
    "prune.boston=prune.tree(tree.boston,best=5)\n",
    "plot(prune.boston)\n",
    "text(prune.boston,pretty=0)"
   ]
  },
  {
   "cell_type": "code",
   "execution_count": null,
   "metadata": {},
   "outputs": [],
   "source": [
    "yhat=predict(tree.boston,newdata=Boston[-train,])\n",
    "boston.test=Boston[-train,\"medv\"]\n",
    "plot(yhat,boston.test)\n",
    "abline(0,1)  # line with intercept 0 and slope 1\n",
    "mean((yhat-boston.test)^2)"
   ]
  },
  {
   "cell_type": "markdown",
   "metadata": {},
   "source": [
    "**Bagging and Random Forests**"
   ]
  },
  {
   "cell_type": "markdown",
   "metadata": {},
   "source": [
    "Note that bagging is just a random forest with m=p."
   ]
  },
  {
   "cell_type": "code",
   "execution_count": null,
   "metadata": {},
   "outputs": [],
   "source": [
    "library(randomForest)\n",
    "set.seed(1)\n",
    "bag.boston=randomForest(medv~.,data=Boston,subset=train,mtry=13,importance=TRUE)\n",
    "bag.boston"
   ]
  },
  {
   "cell_type": "markdown",
   "metadata": {},
   "source": [
    "Already much better compared with a single pruned tree. (Half the MSE)"
   ]
  },
  {
   "cell_type": "code",
   "execution_count": null,
   "metadata": {},
   "outputs": [],
   "source": [
    "yhat.bag = predict(bag.boston,newdata=Boston[-train,])\n",
    "plot(yhat.bag, boston.test)\n",
    "abline(0,1)\n",
    "mean((yhat.bag-boston.test)^2)"
   ]
  },
  {
   "cell_type": "markdown",
   "metadata": {},
   "source": [
    "Bagging with less trees reduces performance (MSE goes up)."
   ]
  },
  {
   "cell_type": "code",
   "execution_count": null,
   "metadata": {},
   "outputs": [],
   "source": [
    "bag.boston=randomForest(medv~.,data=Boston,subset=train,mtry=13,ntree=25)\n",
    "yhat.bag = predict(bag.boston,newdata=Boston[-train,])\n",
    "mean((yhat.bag-boston.test)^2)"
   ]
  },
  {
   "cell_type": "markdown",
   "metadata": {},
   "source": [
    "We now use a random forest, by changing mtry = 6 (instead of all predictors mtry = 13).\n",
    "Performance further improves."
   ]
  },
  {
   "cell_type": "code",
   "execution_count": null,
   "metadata": {},
   "outputs": [],
   "source": [
    "set.seed(1)\n",
    "rf.boston=randomForest(medv~.,data=Boston,subset=train,mtry=6,importance=TRUE)\n",
    "yhat.rf = predict(rf.boston,newdata=Boston[-train,])\n",
    "mean((yhat.rf-boston.test)^2)"
   ]
  },
  {
   "cell_type": "code",
   "execution_count": null,
   "metadata": {},
   "outputs": [],
   "source": [
    "importance(rf.boston)"
   ]
  },
  {
   "cell_type": "code",
   "execution_count": null,
   "metadata": {},
   "outputs": [],
   "source": [
    "varImpPlot(rf.boston)"
   ]
  },
  {
   "cell_type": "markdown",
   "metadata": {},
   "source": [
    "**Boosting**"
   ]
  },
  {
   "cell_type": "markdown",
   "metadata": {},
   "source": [
    "We now use boosting on the Boston data set."
   ]
  },
  {
   "cell_type": "code",
   "execution_count": null,
   "metadata": {},
   "outputs": [],
   "source": [
    "library(gbm)\n",
    "set.seed(1)\n",
    "boost.boston=gbm(medv~.,data=Boston[train,],distribution=\"gaussian\",n.trees=5000,interaction.depth=4)"
   ]
  },
  {
   "cell_type": "markdown",
   "metadata": {},
   "source": [
    "Relative influence is the average improvement (depends on the metric) of all splits containing that variable"
   ]
  },
  {
   "cell_type": "code",
   "execution_count": null,
   "metadata": {},
   "outputs": [],
   "source": [
    "summary(boost.boston)"
   ]
  },
  {
   "cell_type": "markdown",
   "metadata": {},
   "source": [
    "partial dependence plots: see https://christophm.github.io/interpretable-ml-book/pdp.html\n",
    "integrate out the effect of other variables: f(X_s) = int f(X_s, X_c) dP(X_c) "
   ]
  },
  {
   "cell_type": "code",
   "execution_count": null,
   "metadata": {},
   "outputs": [],
   "source": [
    "par(mfrow=c(1,2))\n",
    "plot(boost.boston,i=\"rm\")\n",
    "plot(boost.boston,i=\"lstat\")"
   ]
  },
  {
   "cell_type": "markdown",
   "metadata": {},
   "source": [
    "Better performance compared to boosting.\n",
    "This dependence on randomness, so results can vary (could also lead to similar performance).\n",
    "$\\lambda = 0.001$ in this case."
   ]
  },
  {
   "cell_type": "code",
   "execution_count": null,
   "metadata": {},
   "outputs": [],
   "source": [
    "yhat.boost=predict(boost.boston,newdata=Boston[-train,],n.trees=5000)\n",
    "mean((yhat.boost-boston.test)^2)"
   ]
  },
  {
   "cell_type": "markdown",
   "metadata": {},
   "source": [
    "By taking $\\lambda = 0.2$, test performance gets worse."
   ]
  },
  {
   "cell_type": "code",
   "execution_count": null,
   "metadata": {},
   "outputs": [],
   "source": [
    "boost.boston=gbm(medv~.,data=Boston[train,],distribution=\"gaussian\",n.trees=5000,interaction.depth=4,shrinkage=0.2,verbose=F)\n",
    "yhat.boost=predict(boost.boston,newdata=Boston[-train,],n.trees=5000)\n",
    "mean((yhat.boost-boston.test)^2)"
   ]
  },
  {
   "cell_type": "markdown",
   "metadata": {},
   "source": [
    "Eerste 2 oefeningen van boek kunnen ook gemaakt worden"
   ]
  }
 ],
 "metadata": {
  "kernelspec": {
   "display_name": "R",
   "language": "R",
   "name": "python374jvsc74a57bd07473bcff2b0bdc7ef48ea757de80b136b964a90312b58ce2b1163701067edbb0"
  },
  "language_info": {
   "codemirror_mode": "r",
   "file_extension": ".r",
   "mimetype": "text/x-r-source",
   "name": "R",
   "pygments_lexer": "r",
   "version": "3.6.3"
  }
 },
 "nbformat": 4,
 "nbformat_minor": 4
}
