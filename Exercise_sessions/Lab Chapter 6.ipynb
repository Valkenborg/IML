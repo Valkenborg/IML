{
 "cells": [
  {
   "cell_type": "markdown",
   "metadata": {},
   "source": [
    "## Lab Chapter 6 part 1: Subset Selection Methods\n",
    "### 1.1 Best Subset Selection\n",
    "Here we apply the best subset selection approach to the Hitters data. We\n",
    "wish to predict a baseball player’s Salary on the basis of various statistics\n",
    "associated with performance in the previous year.\n",
    "\n",
    "First of all, we note that the Salary variable is missing for some of the\n",
    "players. The is.na() function can be used to identify the missing observations. It returns a vector of the same length as the input vector, with a TRUE\n",
    "for any elements that are missing, and a FALSE for non-missing elements.\n",
    "The sum() function can then be used to count all of the missing elements."
   ]
  },
  {
   "cell_type": "code",
   "execution_count": null,
   "metadata": {},
   "outputs": [],
   "source": [
    "library(ISLR)\n",
    "fix(Hitters)\n",
    "names(Hitters)"
   ]
  },
  {
   "cell_type": "code",
   "execution_count": null,
   "metadata": {},
   "outputs": [],
   "source": [
    "dim(Hitters)"
   ]
  },
  {
   "cell_type": "code",
   "execution_count": null,
   "metadata": {},
   "outputs": [],
   "source": [
    "sum(is.na(Hitters))"
   ]
  },
  {
   "cell_type": "markdown",
   "metadata": {},
   "source": [
    "Hence we see that Salary is missing for 59 players. The na.omit() function\n",
    "removes all of the rows that have missing values in any variable."
   ]
  },
  {
   "cell_type": "code",
   "execution_count": null,
   "metadata": {},
   "outputs": [],
   "source": [
    "Hitters = na.omit(Hitters)\n",
    "dim(Hitters)\n",
    "sum(is.na(Hitters))"
   ]
  },
  {
   "cell_type": "markdown",
   "metadata": {},
   "source": [
    "The regsubsets() function (part of the leaps library) performs best\n",
    "set selection by identifying the best model that contains a given number\n",
    "of predictors, where best is quantified using RSS. The syntax is the same\n",
    "as for lm(). The summary() command outputs the best set of variables for\n",
    "each model size"
   ]
  },
  {
   "cell_type": "code",
   "execution_count": null,
   "metadata": {},
   "outputs": [],
   "source": [
    "#install.packages(\"leaps\")\n",
    "library(leaps)\n",
    "regfit.full=regsubsets(Salary~.,Hitters)\n",
    "summary(regfit.full)"
   ]
  },
  {
   "cell_type": "markdown",
   "metadata": {},
   "source": [
    "An asterisk indicates that a given variable is included in the corresponding\n",
    "model. For instance, this output indicates that the best two-variable model\n",
    "contains only Hits and CRBI. By default, regsubsets() only reports results\n",
    "up to the best eight-variable model. But the nvmax option can be used\n",
    "in order to return as many variables as are desired. Here we fit up to a\n",
    "19-variable model"
   ]
  },
  {
   "cell_type": "code",
   "execution_count": null,
   "metadata": {},
   "outputs": [],
   "source": [
    "regfit.full= regsubsets(Salary∼., data=Hitters ,nvmax =19)\n",
    "reg.summary = summary(regfit.full)"
   ]
  },
  {
   "cell_type": "markdown",
   "metadata": {},
   "source": [
    "The summary() function also returns R2, RSS, adjusted R2, Cp, and BIC.\n",
    "We can examine these to try to select the best overall model."
   ]
  },
  {
   "cell_type": "code",
   "execution_count": null,
   "metadata": {},
   "outputs": [],
   "source": [
    "names(reg.summary)"
   ]
  },
  {
   "cell_type": "markdown",
   "metadata": {},
   "source": [
    "For instance, we see that the R2 statistic increases from 32 %, when only\n",
    "one variable is included in the model, to almost 55 %, when all variables\n",
    "are included. As expected, the R2 statistic increases monotonically as more\n",
    "variables are included."
   ]
  },
  {
   "cell_type": "code",
   "execution_count": null,
   "metadata": {},
   "outputs": [],
   "source": [
    "reg.summary$rsq"
   ]
  },
  {
   "cell_type": "markdown",
   "metadata": {},
   "source": [
    "Plotting RSS, adjusted R2, Cp, and BIC for all of the models at once will\n",
    "help us decide which model to select. Note the type=\"l\" option tells R to\n",
    "connect the plotted points with lines."
   ]
  },
  {
   "cell_type": "code",
   "execution_count": null,
   "metadata": {},
   "outputs": [],
   "source": [
    "par(mfrow =c(2 ,2))\n",
    "plot(reg.summary$rss , xlab =\"Number of Variables\", ylab =\"RSS\",type =\"l\")\n",
    "plot(reg.summary$adjr2 ,xlab =\"Number of Variables\",ylab =\"Adjusted RSq\", type =\"l\")"
   ]
  },
  {
   "cell_type": "markdown",
   "metadata": {},
   "source": [
    "The points() command works like the plot() command, except that it\n",
    "puts points on a plot that has already been created, instead of creating a\n",
    "new plot. The which.max() function can be used to identify the location of\n",
    "the maximum point of a vector. We will now plot a red dot to indicate the\n",
    "model with the largest adjusted R2 statistic."
   ]
  },
  {
   "cell_type": "code",
   "execution_count": null,
   "metadata": {},
   "outputs": [],
   "source": [
    "which.max(reg.summary$adjr2)\n",
    "par(mfrow =c(2 ,2))\n",
    "plot(reg.summary$rss , xlab =\"Number of Variables\", ylab =\"RSS\",type =\"l\")\n",
    "plot(reg.summary$adjr2 ,xlab =\"Number of Variables\",ylab =\"Adjusted RSq\", type =\"l\")\n",
    "points(11,reg.summary$adjr2[11], col = \"red\",cex=2,pch=20)"
   ]
  },
  {
   "cell_type": "code",
   "execution_count": null,
   "metadata": {},
   "outputs": [],
   "source": [
    "plot(reg.summary$cp,xlab =\"Number of Variables\", ylab =\"Cp\",type=\"l\")\n",
    "cat(\"min cp: \", which.min(reg.summary$cp),\"\\n\")\n",
    "points(10, reg.summary$cp[10] , col =\" red \", cex =2, pch =20)\n",
    "cat(\"min bic: \",which.min(reg.summary$bic))\n",
    "plot(reg.summary$bic , xlab =\"Number of Variables\", ylab =\"BIC\",type=\"l\")\n",
    "points(6, reg.summary$bic [6], col =\"red\",cex =2, pch =20)"
   ]
  },
  {
   "cell_type": "markdown",
   "metadata": {},
   "source": [
    "The regsubsets() function has a built-in plot() command which can\n",
    "be used to display the selected variables for the best model with a given\n",
    "number of predictors, ranked according to the BIC, Cp, adjusted R2, or\n",
    "AIC. To find out more about this function, type ?plot.regsubsets."
   ]
  },
  {
   "cell_type": "code",
   "execution_count": null,
   "metadata": {},
   "outputs": [],
   "source": [
    "plot(regfit.full , scale =\"r2\")\n",
    "plot(regfit.full , scale =\"adjr2\")\n",
    "plot(regfit.full , scale =\"Cp\")\n",
    "plot(regfit.full , scale =\"bic\")"
   ]
  },
  {
   "cell_type": "markdown",
   "metadata": {},
   "source": [
    "The top row of each plot contains a black square for each variable selected\n",
    "according to the optimal model associated with that statistic. For instance,\n",
    "we see that several models share a BIC close to −150. However, the model\n",
    "with the lowest BIC is the six-variable model that contains only AtBat,\n",
    "Hits, Walks, CRBI, DivisionW, and PutOuts. We can use the coef() function\n",
    "to see the coefficient estimates associated with this model."
   ]
  },
  {
   "cell_type": "code",
   "execution_count": null,
   "metadata": {},
   "outputs": [],
   "source": [
    "coef(regfit.full ,6)"
   ]
  },
  {
   "cell_type": "markdown",
   "metadata": {},
   "source": [
    "### 1.2 Forward and Backward Stepwise Selection\n",
    "We can also use the regsubsets() function to perform forward stepwise\n",
    "or backward stepwise selection, using the argument method=\"forward\" or\n",
    "method=\"backward\"."
   ]
  },
  {
   "cell_type": "code",
   "execution_count": null,
   "metadata": {},
   "outputs": [],
   "source": [
    "regfit.fwd = regsubsets( Salary∼., data= Hitters , nvmax =19,method =\"forward\")\n",
    "summary(regfit.fwd)"
   ]
  },
  {
   "cell_type": "code",
   "execution_count": null,
   "metadata": {},
   "outputs": [],
   "source": [
    "regfit.bwd = regsubsets( Salary∼., data= Hitters , nvmax =19,method =\"backward\")\n",
    "summary(regfit.bwd)"
   ]
  },
  {
   "cell_type": "markdown",
   "metadata": {},
   "source": [
    "For instance, we see that using forward stepwise selection, the best onevariable model contains only CRBI, and the best two-variable model additionally includes Hits. For this data, the best one-variable through sixvariable models are each identical for best subset and forward selection.\n",
    "However, the best seven-variable models identified by forward stepwise selection, backward stepwise selection, and best subset selection are different."
   ]
  },
  {
   "cell_type": "code",
   "execution_count": null,
   "metadata": {},
   "outputs": [],
   "source": [
    "coef(regfit.full ,7)\n",
    "coef(regfit.fwd ,7)\n",
    "coef(regfit.bwd ,7)"
   ]
  },
  {
   "cell_type": "markdown",
   "metadata": {},
   "source": [
    "### 1.3 Choosing Among Models Using the Validation Set\n",
    "Approach and Cross-Validation\n",
    "We just saw that it is possible to choose among a set of models of different\n",
    "sizes using Cp, BIC, and adjusted R2. We will now consider how to do this\n",
    "using the validation set and cross-validation approaches.\n",
    "\n",
    "In order for these approaches to yield accurate estimates of the test\n",
    "error, we must use only the training observations to perform all aspects of\n",
    "model-fitting—including variable selection. Therefore, the determination of\n",
    "which model of a given size is best must be made using only the training\n",
    "observations. This point is subtle but important. If the full data set is used\n",
    "to perform the best subset selection step, the validation set errors and\n",
    "cross-validation errors that we obtain will not be accurate estimates of the\n",
    "test error.\n",
    "\n",
    "In order to use the validation set approach, we begin by splitting the\n",
    "observations into a training set and a test set. We do this by creating\n",
    "a random vector, train, of elements equal to TRUE if the corresponding\n",
    "observation is in the training set, and FALSE otherwise. The vector test has\n",
    "a TRUE if the observation is in the test set, and a FALSE otherwise. Note the\n",
    "! in the command to create test causes TRUEs to be switched to FALSEs and\n",
    "vice versa. We also set a random seed so that the user will obtain the same\n",
    "training set/test set split"
   ]
  },
  {
   "cell_type": "code",
   "execution_count": null,
   "metadata": {},
   "outputs": [],
   "source": [
    "set.seed (1)\n",
    "train = sample(c(TRUE , FALSE), nrow(Hitters),rep =TRUE)\n",
    "test =(!train)"
   ]
  },
  {
   "cell_type": "markdown",
   "metadata": {},
   "source": [
    "Now, we apply regsubsets() to the training set in order to perform best\n",
    "subset selection."
   ]
  },
  {
   "cell_type": "code",
   "execution_count": null,
   "metadata": {},
   "outputs": [],
   "source": [
    "regfit.best= regsubsets(Salary∼.,data= Hitters[train,],nvmax =19)"
   ]
  },
  {
   "cell_type": "markdown",
   "metadata": {},
   "source": [
    "Notice that we subset the Hitters data frame directly in the call in order to access only the training subset of the data, using the expression\n",
    "Hitters[train,]. We now compute the validation set error for the best\n",
    "model of each model size. We first make a model matrix from the test\n",
    "data."
   ]
  },
  {
   "cell_type": "code",
   "execution_count": null,
   "metadata": {},
   "outputs": [],
   "source": [
    "test.mat= model.matrix( Salary∼., data= Hitters[test ,])"
   ]
  },
  {
   "cell_type": "markdown",
   "metadata": {},
   "source": [
    "The model.matrix() function is used in many regression packages for buildmodel.\n",
    "ing an “X” matrix from data. Now we run a loop, and for each size i, we \n",
    "extract the coefficients from regfit.best for the best model of that size,\n",
    "multiply them into the appropriate columns of the test model matrix to\n",
    "form the predictions, and compute the test MSE."
   ]
  },
  {
   "cell_type": "code",
   "execution_count": null,
   "metadata": {},
   "outputs": [],
   "source": [
    "val.errors=rep(NA,19)\n",
    "for(i in 1:19){\n",
    "    coefi = coef(regfit.best, id=i)\n",
    "    pred =test.mat[, names(coefi)]%*% coefi\n",
    "    val.errors[i]=mean((Hitters$Salary[test]-pred )^2)\n",
    "}"
   ]
  },
  {
   "cell_type": "markdown",
   "metadata": {},
   "source": [
    "We find that the best model is the one that contains seven variables."
   ]
  },
  {
   "cell_type": "code",
   "execution_count": null,
   "metadata": {},
   "outputs": [],
   "source": [
    "val.errors\n",
    "cat(\"# variables best model: \",which.min(val.errors),\"\\n\")\n",
    "coef( regfit.best ,7)"
   ]
  },
  {
   "cell_type": "markdown",
   "metadata": {},
   "source": [
    "This was a little tedious, partly because there is no predict() method\n",
    "for regsubsets(). Since we will be using this function again, we can capture\n",
    "our steps above and write our own predict method."
   ]
  },
  {
   "cell_type": "code",
   "execution_count": null,
   "metadata": {},
   "outputs": [],
   "source": [
    " predict.regsubsets = function(object , newdata ,id ,...) {\n",
    "     form=as.formula ( object$call [[2]])\n",
    "     mat = model.matrix (form , newdata )\n",
    "     coefi =coef(object ,id=id)\n",
    "     xvars =names (coefi )\n",
    "     mat [, xvars ]%*% coefi\n",
    "}"
   ]
  },
  {
   "cell_type": "markdown",
   "metadata": {},
   "source": [
    "Our function pretty much mimics what we did above. The only complex\n",
    "part is how we extracted the formula used in the call to regsubsets(). We\n",
    "demonstrate how we use this function below, when we do cross-validation.\n",
    "Finally, we perform best subset selection on the full data set, and select\n",
    "the best ten-variable model. It is important that we make use of the full\n",
    "data set in order to obtain more accurate coefficient estimates. Note that\n",
    "we perform best subset selection on the full data set and select the best seven variable model, rather than simply using the variables that were obtained\n",
    "from the training set, because the best seven-variable model on the full data\n",
    "set may differ from the corresponding model on the training set."
   ]
  },
  {
   "cell_type": "code",
   "execution_count": null,
   "metadata": {},
   "outputs": [],
   "source": [
    "regfit.best= regsubsets(Salary∼., data=Hitters ,nvmax =19)\n",
    "coef(regfit.best,10)"
   ]
  },
  {
   "cell_type": "markdown",
   "metadata": {},
   "source": [
    "In fact, we see that the best seven-variable model on the full data set has a\n",
    "different set of variables than the best seven-variable model on the training\n",
    "set.\n",
    "\n",
    "We now try to choose among the models of different sizes using crossvalidation. This approach is somewhat involved, as we must perform best\n",
    "subset selection within each of the k training sets. Despite this, we see that\n",
    "with its clever subsetting syntax, R makes this job quite easy. First, we\n",
    "create a vector that allocates each observation to one of k = 10 folds, and\n",
    "we create a matrix in which we will store the results"
   ]
  },
  {
   "cell_type": "code",
   "execution_count": null,
   "metadata": {},
   "outputs": [],
   "source": [
    "k =10\n",
    "set.seed (1)\n",
    "folds = sample (1:k,nrow(Hitters),replace = TRUE)\n",
    "cv.errors =matrix (NA ,k ,19, dimnames = list(NULL , paste (1:19)))"
   ]
  },
  {
   "cell_type": "markdown",
   "metadata": {},
   "source": [
    "Now we write a for loop that performs cross-validation. In the jth fold, the\n",
    "elements of folds that equal j are in the test set, and the remainder are in\n",
    "the training set. We make our predictions for each model size (using our\n",
    "new predict() method), compute the test errors on the appropriate subset,\n",
    "and store them in the appropriate slot in the matrix cv.errors."
   ]
  },
  {
   "cell_type": "code",
   "execution_count": null,
   "metadata": {},
   "outputs": [],
   "source": [
    "for (j in 1:k){\n",
    "    best.fit = regsubsets ( Salary∼., data= Hitters [ folds !=j ,],nvmax =19)\n",
    "    for (i in 1:19) {\n",
    "        pred= predict (best.fit , Hitters [folds ==j,], id=i)\n",
    "        cv.errors[j,i]= mean((Hitters$Salary[folds ==j]- pred)^2)\n",
    "    }\n",
    "}"
   ]
  },
  {
   "cell_type": "markdown",
   "metadata": {},
   "source": [
    "This has given us a 10×19 matrix, of which the (i, j)th element corresponds\n",
    "to the test MSE for the ith cross-validation fold for the best j-variable\n",
    "model. We use the apply() function to average over the columns of this\n",
    "matrix in order to obtain a vector for which the jth element is the crossvalidation error for the j-variable model."
   ]
  },
  {
   "cell_type": "code",
   "execution_count": null,
   "metadata": {},
   "outputs": [],
   "source": [
    "mean.cv.errors = apply (cv.errors ,2, mean)\n",
    "mean.cv.errors"
   ]
  },
  {
   "cell_type": "code",
   "execution_count": null,
   "metadata": {},
   "outputs": [],
   "source": [
    "par(mfrow =c(1 ,1) )\n",
    "plot(mean.cv.errors ,type =\"b\")"
   ]
  },
  {
   "cell_type": "markdown",
   "metadata": {},
   "source": [
    "We see that cross-validation selects an 11-variable model. We now perform\n",
    "best subset selection on the full data set in order to obtain the 11-variable\n",
    "model."
   ]
  },
  {
   "cell_type": "code",
   "execution_count": null,
   "metadata": {},
   "outputs": [],
   "source": [
    "reg.best= regsubsets(Salary∼., data=Hitters , nvmax =19)\n",
    "coef(reg.best ,11)"
   ]
  },
  {
   "cell_type": "markdown",
   "metadata": {},
   "source": [
    "## Part 2: Ridge Regression and the Lasso\n",
    "We will use the glmnet package in order to perform ridge regression and\n",
    "the lasso. The main function in this package is glmnet(), which can be used\n",
    "glmnet()\n",
    "to fit ridge regression models, lasso models, and more. This function has\n",
    "slightly different syntax from other model-fitting functions that we have\n",
    "encountered thus far in this book. In particular, we must pass in an x\n",
    "matrix as well as a y vector, and we do not use the y ∼ x syntax. We will\n",
    "now perform ridge regression and the lasso in order to predict Salary on\n",
    "the Hitters data. Before proceeding ensure that the missing values have\n",
    "been removed from the data, as described in Section 6.5."
   ]
  },
  {
   "cell_type": "code",
   "execution_count": null,
   "metadata": {},
   "outputs": [],
   "source": [
    "x= model.matrix ( Salary∼., Hitters )[,-1]\n",
    "y = Hitters$Salary"
   ]
  },
  {
   "cell_type": "markdown",
   "metadata": {},
   "source": [
    "The model.matrix() function is particularly useful for creating x; not only\n",
    "does it produce a matrix corresponding to the 19 predictors but it also\n",
    "automatically transforms any qualitative variables into dummy variables.\n",
    "The latter property is important because glmnet() can only take numerical,\n",
    "quantitative inputs.\n",
    "\n",
    "### 2.1 Ridge Regression\n",
    "The glmnet() function has an alpha argument that determines what type\n",
    "of model is fit. If alpha=0 then a ridge regression model is fit, and if alpha=1\n",
    "then a lasso model is fit. We first fit a ridge regression model."
   ]
  },
  {
   "cell_type": "code",
   "execution_count": null,
   "metadata": {},
   "outputs": [],
   "source": [
    "library(glmnet)\n",
    "grid =10^ seq(10,-2, length =100)\n",
    "ridge.mod =glmnet(x,y, alpha =0, lambda = grid)"
   ]
  },
  {
   "cell_type": "markdown",
   "metadata": {},
   "source": [
    "By default the glmnet() function performs ridge regression for an automatically selected range of λ values. However, here we have chosen to implement\n",
    "the function over a grid of values ranging from λ = 10<sup>10</sup> to λ = 10<sup>−2</sup>, essentially covering the full range of scenarios from the null model containing\n",
    "only the intercept, to the least squares fit. As we will see, we can also compute model fits for a particular value of λ that is not one of the original\n",
    "grid values. Note that by default, the glmnet() function standardizes the\n",
    "variables so that they are on the same scale. To turn off this default setting,\n",
    "use the argument standardize=FALSE.\n",
    "\n",
    "Associated with each value of λ is a vector of ridge regression coefficients,\n",
    "stored in a matrix that can be accessed by coef(). In this case, it is a 20×100 matrix, with 20 rows (one for each predictor, plus an intercept) and 100\n",
    "columns (one for each value of λ)"
   ]
  },
  {
   "cell_type": "code",
   "execution_count": null,
   "metadata": {},
   "outputs": [],
   "source": [
    "dim(coef(ridge.mod ))"
   ]
  },
  {
   "cell_type": "markdown",
   "metadata": {},
   "source": [
    "We expect the coefficient estimates to be much smaller, in terms of l2 norm,\n",
    "when a large value of λ is used, as compared to when a small value of λ is\n",
    "used. These are the coefficients when λ = 11,498, along with their l2 norm:"
   ]
  },
  {
   "cell_type": "code",
   "execution_count": null,
   "metadata": {},
   "outputs": [],
   "source": [
    "ridge.mod$lambda [50]\n",
    "coef(ridge.mod )[ ,50]"
   ]
  },
  {
   "cell_type": "code",
   "execution_count": null,
   "metadata": {},
   "outputs": [],
   "source": [
    "sqrt(sum(coef(ridge.mod)[-1 ,50]^2) )"
   ]
  },
  {
   "cell_type": "markdown",
   "metadata": {},
   "source": [
    "In contrast, here are the coefficients when λ = 705, along with their l2\n",
    "norm. Note the much larger l2 norm of the coefficients associated with this\n",
    "smaller value of λ."
   ]
  },
  {
   "cell_type": "code",
   "execution_count": null,
   "metadata": {},
   "outputs": [],
   "source": [
    "ridge.mod$lambda[60]"
   ]
  },
  {
   "cell_type": "code",
   "execution_count": null,
   "metadata": {},
   "outputs": [],
   "source": [
    "coef(ridge.mod)[,60]"
   ]
  },
  {
   "cell_type": "code",
   "execution_count": null,
   "metadata": {},
   "outputs": [],
   "source": [
    "sqrt(sum(coef(ridge.mod)[-1,60]^2))"
   ]
  },
  {
   "cell_type": "markdown",
   "metadata": {},
   "source": [
    "We can use the predict() function for a number of purposes. For instance,\n",
    "we can obtain the ridge regression coefficients for a new value of λ, say 50:"
   ]
  },
  {
   "cell_type": "code",
   "execution_count": null,
   "metadata": {},
   "outputs": [],
   "source": [
    "predict(ridge.mod,s=50,type=\"coefficients\")[1:20,]"
   ]
  },
  {
   "cell_type": "markdown",
   "metadata": {},
   "source": [
    "We now split the samples into a training set and a test set in order\n",
    "to estimate the test error of ridge regression and the lasso. There are two\n",
    "common ways to randomly split a data set. The first is to produce a random\n",
    "vector of TRUE, FALSE elements and select the observations corresponding to\n",
    "TRUE for the training data. The second is to randomly choose a subset of\n",
    "numbers between 1 and n; these can then be used as the indices for the\n",
    "training observations. The two approaches work equally well. We used the\n",
    "former method in Section 6.5.3. Here we demonstrate the latter approach.\n",
    "\n",
    "We first set a random seed so that the results obtained will be reproducible"
   ]
  },
  {
   "cell_type": "code",
   "execution_count": null,
   "metadata": {},
   "outputs": [],
   "source": [
    "set.seed(1)\n",
    "train=sample(1:nrow(x),nrow(x)/2)\n",
    "test=(-train)\n",
    "y.test=y[test]"
   ]
  },
  {
   "cell_type": "markdown",
   "metadata": {},
   "source": [
    "Next we fit a ridge regression model on the training set, and evaluate\n",
    "its MSE on the test set, using λ = 4. Note the use of the predict()\n",
    "function again. This time we get predictions for a test set, by replacing\n",
    "type=\"coefficients\" with the newx argument."
   ]
  },
  {
   "cell_type": "code",
   "execution_count": null,
   "metadata": {},
   "outputs": [],
   "source": [
    "ridge.mod =glmnet(x[train ,], y[ train ], alpha =0, lambda =grid ,thresh =1e-12)\n",
    "ridge.pred= predict(ridge.mod ,s=4, newx=x[test ,])\n",
    "mean((ridge.pred-y.test)^2)"
   ]
  },
  {
   "cell_type": "markdown",
   "metadata": {},
   "source": [
    "The test MSE is 142199. Note that if we had instead simply fit a model\n",
    "with just an intercept, we would have predicted each test observation using\n",
    "the mean of the training observations. In that case, we could compute the\n",
    "test set MSE like this:"
   ]
  },
  {
   "cell_type": "code",
   "execution_count": null,
   "metadata": {},
   "outputs": [],
   "source": [
    "mean((mean(y[train])-y.test)^2)"
   ]
  },
  {
   "cell_type": "markdown",
   "metadata": {},
   "source": [
    "We could also get the same result by fitting a ridge regression model with\n",
    "a very large value of λ. "
   ]
  },
  {
   "cell_type": "code",
   "execution_count": null,
   "metadata": {},
   "outputs": [],
   "source": [
    "ridge.pred= predict (ridge.mod ,s=1e10 , newx=x[test ,])\n",
    "mean((ridge.pred-y.test)^2)\n"
   ]
  },
  {
   "cell_type": "markdown",
   "metadata": {},
   "source": [
    "So fitting a ridge regression model with λ = 4 leads to a much lower test\n",
    "MSE than fitting a model with just an intercept. We now check whether\n",
    "there is any benefit to performing ridge regression with λ = 4 instead of\n",
    "just performing least squares regression. Recall that least squares is simply\n",
    "ridge regression with λ = 0."
   ]
  },
  {
   "cell_type": "code",
   "execution_count": null,
   "metadata": {},
   "outputs": [],
   "source": [
    "ridge.pred=predict(ridge.mod,s=0,newx=x[test,])\n",
    "mean((ridge.pred-y.test)^2)\n",
    "lm(y~x, subset=train)\n",
    "predict(ridge.mod,s=0,type = \"coefficients\")[1:20,]"
   ]
  },
  {
   "cell_type": "markdown",
   "metadata": {},
   "source": [
    "In general, if we want to fit a (unpenalized) least squares model, then\n",
    "we should use the lm() function, since that function provides more useful\n",
    "outputs, such as standard errors and p-values for the coefficients.\n",
    "In general, instead of arbitrarily choosing λ = 4, it would be better to\n",
    "use cross-validation to choose the tuning parameter λ. We can do this using\n",
    "the built-in cross-validation function, cv.glmnet(). By default, the function\n",
    "performs ten-fold cross-validation, though this can be changed using the\n",
    "argument nfolds. Note that we set a random seed first so our results will\n",
    "be reproducible, since the choice of the cross-validation folds is random."
   ]
  },
  {
   "cell_type": "code",
   "execution_count": null,
   "metadata": {},
   "outputs": [],
   "source": [
    "set.seed (1)\n",
    "cv.out =cv.glmnet (x[train ,], y[ train ], alpha =0)\n",
    "plot(cv.out )\n",
    "bestlam =cv.out$lambda.min\n",
    "bestlam"
   ]
  },
  {
   "cell_type": "markdown",
   "metadata": {},
   "source": [
    "Therefore, we see that the value of λ that results in the smallest crossvalidation error is 326. What is the test MSE associated with this value of\n",
    "λ?"
   ]
  },
  {
   "cell_type": "code",
   "execution_count": null,
   "metadata": {},
   "outputs": [],
   "source": [
    "ridge.pred= predict(ridge.mod ,s=bestlam , newx=x[test ,])\n",
    "mean((ridge.pred-y.test)^2)"
   ]
  },
  {
   "cell_type": "markdown",
   "metadata": {},
   "source": [
    "This represents a further improvement over the test MSE that we got using\n",
    "λ = 4. Finally, we refit our ridge regression model on the full data set,\n",
    "using the value of λ chosen by cross-validation, and examine the coefficient\n",
    "estimates."
   ]
  },
  {
   "cell_type": "code",
   "execution_count": null,
   "metadata": {},
   "outputs": [],
   "source": [
    "out = glmnet(x,y, alpha =0)\n",
    "predict(out , type =\"coefficients\",s= bestlam )[1:20 ,]"
   ]
  },
  {
   "cell_type": "markdown",
   "metadata": {},
   "source": [
    "As expected, none of the coefficients are zero—ridge regression does not\n",
    "perform variable selection!"
   ]
  },
  {
   "cell_type": "markdown",
   "metadata": {},
   "source": [
    "### 2.2 The Lasso\n",
    "We saw that ridge regression with a wise choice of λ can outperform least\n",
    "squares as well as the null model on the Hitters data set. We now ask\n",
    "whether the lasso can yield either a more accurate or a more interpretable\n",
    "model than ridge regression. In order to fit a lasso model, we once again\n",
    "use the glmnet() function; however, this time we use the argument alpha=1.\n",
    "Other than that change, we proceed just as we did in fitting a ridge model."
   ]
  },
  {
   "cell_type": "code",
   "execution_count": null,
   "metadata": {},
   "outputs": [],
   "source": [
    "lasso.mod =glmnet(x[train ,], y[ train ], alpha =1, lambda =grid)\n",
    "plot(lasso.mod)"
   ]
  },
  {
   "cell_type": "markdown",
   "metadata": {},
   "source": [
    "We can see from the coefficient plot that depending on the choice of tuning\n",
    "parameter, some of the coefficients will be exactly equal to zero. We now\n",
    "perform cross-validation and compute the associated test error."
   ]
  },
  {
   "cell_type": "code",
   "execution_count": null,
   "metadata": {},
   "outputs": [],
   "source": [
    "set.seed(1)\n",
    "cv.out =cv.glmnet(x[train ,], y[ train ], alpha =1)\n",
    "plot(cv.out)\n",
    "bestlam=cv.out$lambda.min\n",
    "lasso.pred=predict(lasso.mod,s=bestlam,newx=x[test,])\n",
    "mean((lasso.pred-y.test)^2)"
   ]
  },
  {
   "cell_type": "markdown",
   "metadata": {},
   "source": [
    "This is substantially lower than the test set MSE of the null model and of\n",
    "least squares, and very similar to the test MSE of ridge regression with λ\n",
    "chosen by cross-validation.\n",
    "\n",
    "However, the lasso has a substantial advantage over ridge regression in\n",
    "that the resulting coefficient estimates are sparse. Here we see that 12 of\n",
    "the 19 coefficient estimates are exactly zero. So the lasso model with λ\n",
    "chosen by cross-validation contains only seven variables."
   ]
  },
  {
   "cell_type": "code",
   "execution_count": null,
   "metadata": {},
   "outputs": [],
   "source": [
    "out = glmnet(x,y, alpha =1, lambda = grid)\n",
    "lasso.coef= predict(out ,type =\"coefficients\",s= bestlam )[1:20 ,]\n",
    "lasso.coef"
   ]
  },
  {
   "cell_type": "code",
   "execution_count": null,
   "metadata": {},
   "outputs": [],
   "source": [
    "lasso.coef[ lasso.coef !=0]"
   ]
  },
  {
   "cell_type": "markdown",
   "metadata": {},
   "source": [
    "## Lab part 3: PCR and PLS Regression\n",
    "### 3.1 Principal Components Regression\n",
    "Principal components regression (PCR) can be performed using the pcr()\n",
    "function, which is part of the pls library. We now apply PCR to the Hitters\n",
    "data, in order to predict Salary. Again, ensure that the missing values have\n",
    "been removed from the data, as described in Section 6.5."
   ]
  },
  {
   "cell_type": "code",
   "execution_count": null,
   "metadata": {},
   "outputs": [],
   "source": [
    "#install.packages(\"pls\")\n",
    "library(pls)\n",
    "set.seed(2)\n",
    "pcr.fit = pcr(Salary~., data=Hitters,scale=TRUE, validation=\"CV\")"
   ]
  },
  {
   "cell_type": "markdown",
   "metadata": {},
   "source": [
    "The syntax for the pcr() function is similar to that for lm(), with a few\n",
    "additional options. Setting scale=TRUE has the effect of standardizing each\n",
    "predictor, using (6.6), prior to generating the principal components, so that\n",
    "the scale on which each variable is measured will not have an effect. Setting\n",
    "validation=\"CV\" causes pcr() to compute the ten-fold cross-validation error\n",
    "for each possible value of M, the number of principal components used. The\n",
    "resulting fit can be examined using summary()."
   ]
  },
  {
   "cell_type": "code",
   "execution_count": null,
   "metadata": {},
   "outputs": [],
   "source": [
    "summary(pcr.fit)"
   ]
  },
  {
   "cell_type": "markdown",
   "metadata": {},
   "source": [
    "The CV score is provided for each possible number of components, ranging\n",
    "from M = 0 onwards.\n",
    "Note that pcr() reports the root mean squared error; in order to obtain\n",
    "the usual MSE, we must square this quantity. For instance, a root mean\n",
    "squared error of 352.8 (for M = 4) corresponds to an MSE of 352.8^2 = 124,468.\n",
    "One can also plot the cross-validation scores using the validationplot()\n",
    "function. Using val.type=\"MSEP\" will cause the cross-validation MSE to be\n",
    "plotted."
   ]
  },
  {
   "cell_type": "code",
   "execution_count": null,
   "metadata": {},
   "outputs": [],
   "source": [
    "validationplot(pcr.fit, val.type=\"MSEP\")"
   ]
  },
  {
   "cell_type": "markdown",
   "metadata": {},
   "source": [
    "We see that the smallest cross-validation error occurs when M = 16 components are used. This is barely fewer than M = 19, which amounts to\n",
    "simply performing least squares, because when all of the components are\n",
    "used in PCR no dimension reduction occurs. However, from the plot we\n",
    "also see that the cross-validation error is roughly the same when only one\n",
    "component is included in the model. This suggests that a model that uses\n",
    "just a small number of components might suffice.\n",
    "The summary() function also provides the percentage of variance explained\n",
    "in the predictors and in the response using different numbers of components. This concept is discussed in greater detail in Chapter 10. Briefly,\n",
    "we can think of this as the amount of information about the predictors or\n",
    "the response that is captured using M principal components. For example,\n",
    "setting M = 1 only captures 38.31 % of all the variance, or information, in\n",
    "the predictors. In contrast, using M = 6 increases the value to 88.63 %. If\n",
    "we were to use all M = p = 19 components, this would increase to 100 %.\n",
    "\n",
    "We now perform PCR on the training data and evaluate its test set\n",
    "performance."
   ]
  },
  {
   "cell_type": "code",
   "execution_count": null,
   "metadata": {},
   "outputs": [],
   "source": [
    "set.seed(1)\n",
    "pcr.fit=pcr(Salary~.,data=Hitters, subset = train, scale=TRUE, validation=\"CV\")\n",
    "validationplot(pcr.fit,val.type=\"MSEP\")"
   ]
  },
  {
   "cell_type": "markdown",
   "metadata": {},
   "source": [
    "Now we find that the lowest cross-validation error occurs when M = 5\n",
    "component are used. We compute the test MSE as follows."
   ]
  },
  {
   "cell_type": "code",
   "execution_count": null,
   "metadata": {},
   "outputs": [],
   "source": [
    "pcr.pred = predict(pcr.fit,x[test,],ncomp=5)\n",
    "mean((pcr.pred-y[test])^2)"
   ]
  },
  {
   "cell_type": "markdown",
   "metadata": {},
   "source": [
    "This test set MSE is competitive with the results obtained using ridge regression and the lasso. However, as a result of the way PCR is implemented,\n",
    "the final model is more difficult to interpret because it does not perform\n",
    "any kind of variable selection or even directly produce coefficient estimates.\n",
    "\n",
    "Finally, we fit PCR on the full data set, using M = 5, the number of\n",
    "components identified by cross-validation"
   ]
  },
  {
   "cell_type": "code",
   "execution_count": null,
   "metadata": {},
   "outputs": [],
   "source": [
    "pcr.fit=pcr(y~x,scale=TRUE,ncomp=5)\n",
    "summary(pcr.fit)"
   ]
  },
  {
   "cell_type": "markdown",
   "metadata": {},
   "source": [
    "### 3.2 Partial Least Squares\n",
    "We implement partial least squares (PLS) using the plsr() function, also\n",
    "in the pls library. The syntax is just like that of the pcr() function."
   ]
  },
  {
   "cell_type": "code",
   "execution_count": null,
   "metadata": {},
   "outputs": [],
   "source": [
    "set.seed(30)\n",
    "pls.fit=plsr(Salary~., data=Hitters, subset=train, scale=TRUE, validation=\"CV\")\n",
    "summary(pls.fit)\n",
    "validationplot(pls.fit,val.type=\"MSEP\")"
   ]
  },
  {
   "cell_type": "markdown",
   "metadata": {},
   "source": [
    "The lowest cross-validation error occurs when only M = 2 partial least\n",
    "squares directions are used. We now evaluate the corresponding test set\n",
    "MSE"
   ]
  },
  {
   "cell_type": "code",
   "execution_count": null,
   "metadata": {},
   "outputs": [],
   "source": [
    "pls.pred= predict(pls.fit ,x[test ,], ncomp =2)\n",
    "mean((pls.pred-y.test )^2)"
   ]
  },
  {
   "cell_type": "markdown",
   "metadata": {},
   "source": [
    "The test MSE is comparable to, but slightly higher than, the test MSE\n",
    "obtained using ridge regression, the lasso, and PCR.\n",
    "\n",
    "Finally, we perform PLS using the full data set, using M = 2, the number\n",
    "of components identified by cross-validation."
   ]
  },
  {
   "cell_type": "code",
   "execution_count": null,
   "metadata": {},
   "outputs": [],
   "source": [
    "pls.fit =plsr(Salary∼., data =Hitters , scale =TRUE , ncomp =2)\n",
    "summary(pls.fit)"
   ]
  },
  {
   "cell_type": "markdown",
   "metadata": {},
   "source": [
    "Notice that the percentage of variance in Salary that the two-component\n",
    "PLS fit explains, 46.40 %, is almost as much as that explained using the final seven-component model PCR fit, 46.69 %. This is because PCR only\n",
    "attempts to maximize the amount of variance explained in the predictors,\n",
    "while PLS searches for directions that explain variance in both the predictors and the response."
   ]
  },
  {
   "cell_type": "code",
   "execution_count": null,
   "metadata": {},
   "outputs": [],
   "source": []
  }
 ],
 "metadata": {
  "kernelspec": {
   "display_name": "R",
   "language": "R",
   "name": "ir"
  },
  "language_info": {
   "codemirror_mode": "r",
   "file_extension": ".r",
   "mimetype": "text/x-r-source",
   "name": "R",
   "pygments_lexer": "r",
   "version": "3.6.1"
  }
 },
 "nbformat": 4,
 "nbformat_minor": 4
}
