{
 "cells": [
  {
   "cell_type": "markdown",
   "metadata": {},
   "source": [
    "## Lab: Introduction to R\n",
    "### Basic Commands\n",
    "In this lab, we will introduce some simple R commands. The best way to learn a new language is to try out the commands.\n",
    "\n",
    "R uses functions to perform operations. To run a function called funcname, we type funcname(input1, input2), where the inputs (or arguments) input1 and input2 tell R how to run the function. A function can have any number of inputs. For example, to create a vector of numbers, we use the function c() (for concatenate). Any numbers inside the parentheses are joined together. The following command instructs R to join together the numbers 1, 3, 2, and 5, and to save them as a vector named x. When we type x, it gives us back the vector"
   ]
  },
  {
   "cell_type": "code",
   "execution_count": null,
   "metadata": {},
   "outputs": [],
   "source": [
    "# In jupyter notebooks, press ctrl+enter to run the code in a selected cell\n",
    "# Cells can be added by pressing the a key\n",
    "x <- c(1,3,2,5)\n",
    "x"
   ]
  },
  {
   "cell_type": "markdown",
   "metadata": {},
   "source": [
    "We can also save things using = rather than <-"
   ]
  },
  {
   "cell_type": "code",
   "execution_count": null,
   "metadata": {},
   "outputs": [],
   "source": [
    "x = c(1,6,2)\n",
    "x\n",
    "y = c(1 ,4 ,3)"
   ]
  },
  {
   "cell_type": "markdown",
   "metadata": {},
   "source": [
    "We can tell R to add two sets of numbers together. It will then add the first number from x to the first number from y, and so on. However, x and y should be the same length. We can check their length using the length() function."
   ]
  },
  {
   "cell_type": "code",
   "execution_count": null,
   "metadata": {},
   "outputs": [],
   "source": [
    "length(x)"
   ]
  },
  {
   "cell_type": "code",
   "execution_count": null,
   "metadata": {},
   "outputs": [],
   "source": [
    "length(y)"
   ]
  },
  {
   "cell_type": "code",
   "execution_count": null,
   "metadata": {},
   "outputs": [],
   "source": [
    "x+y"
   ]
  },
  {
   "cell_type": "markdown",
   "metadata": {},
   "source": [
    "The ls() function allows us to look at a list of all of the objects, such as data and functions, that we have saved so far. The rm() function can be used to delete any that we don’t want."
   ]
  },
  {
   "cell_type": "code",
   "execution_count": null,
   "metadata": {},
   "outputs": [],
   "source": [
    "ls()"
   ]
  },
  {
   "cell_type": "code",
   "execution_count": null,
   "metadata": {},
   "outputs": [],
   "source": [
    "rm(x,y)\n",
    "ls()"
   ]
  },
  {
   "cell_type": "markdown",
   "metadata": {},
   "source": [
    "It’s also possible to remove all objects at once"
   ]
  },
  {
   "cell_type": "code",
   "execution_count": null,
   "metadata": {},
   "outputs": [],
   "source": [
    "rm(list=ls())"
   ]
  },
  {
   "cell_type": "markdown",
   "metadata": {},
   "source": [
    "The matrix() function can be used to create a matrix of numbers. Before we use the matrix() function, we can learn more about it:"
   ]
  },
  {
   "cell_type": "code",
   "execution_count": null,
   "metadata": {},
   "outputs": [],
   "source": [
    "?matrix"
   ]
  },
  {
   "cell_type": "markdown",
   "metadata": {},
   "source": [
    "The help file reveals that the matrix() function takes a number of inputs,\n",
    "but for now we focus on the first three: the data (the entries in the matrix),\n",
    "the number of rows, and the number of columns. First, we create a simple\n",
    "matrix."
   ]
  },
  {
   "cell_type": "code",
   "execution_count": null,
   "metadata": {},
   "outputs": [],
   "source": [
    "x= matrix ( data=c(1 ,2 ,3 ,4) , nrow =2, ncol =2)\n",
    "x"
   ]
  },
  {
   "cell_type": "markdown",
   "metadata": {},
   "source": [
    "Note that we could just as well omit typing data=, nrow=, and ncol= in the\n",
    "matrix() command above: that is, we could just type\n",
    "> x= matrix (c(1 ,2 ,3 ,4) ,2,2)\n",
    "\n",
    "and this would have the same effect. However, it can sometimes be useful to\n",
    "specify the names of the arguments passed in, since otherwise R will assume\n",
    "that the function arguments are passed into the function in the same order\n",
    "that is given in the function’s help file. As this example illustrates, by\n",
    "default R creates matrices by successively filling in columns. Alternatively,\n",
    "the byrow=TRUE option can be used to populate the matrix in order of the\n",
    "rows.\n"
   ]
  },
  {
   "cell_type": "code",
   "execution_count": null,
   "metadata": {},
   "outputs": [],
   "source": [
    "matrix (c(1 ,2 ,3 ,4) ,2,2, byrow =TRUE)"
   ]
  },
  {
   "cell_type": "markdown",
   "metadata": {},
   "source": [
    "Notice that in the above command we did not assign the matrix to a value\n",
    "such as x. In this case the matrix is printed to the screen but is not saved\n",
    "for future calculations. The sqrt() function returns the square root of each\n",
    "element of a vector or matrix. The command x^2 raises each element of x\n",
    "to the power 2; any powers are possible, including fractional or negative\n",
    "powers."
   ]
  },
  {
   "cell_type": "code",
   "execution_count": null,
   "metadata": {},
   "outputs": [],
   "source": [
    "sqrt(x)"
   ]
  },
  {
   "cell_type": "code",
   "execution_count": null,
   "metadata": {},
   "outputs": [],
   "source": [
    "x^2"
   ]
  },
  {
   "cell_type": "markdown",
   "metadata": {},
   "source": [
    "The rnorm() function generates a vector of random normal variables,\n",
    "with first argument n the sample size. Each time we call this function, we will get a different answer. Here we create two correlated sets of numbers, x and y, and use the cor() function to compute the correlation between them."
   ]
  },
  {
   "cell_type": "code",
   "execution_count": null,
   "metadata": {},
   "outputs": [],
   "source": [
    "x=rnorm(50)\n",
    "y=x+rnorm(50,mean=50,sd=.1)\n",
    "cor(x,y)"
   ]
  },
  {
   "cell_type": "markdown",
   "metadata": {},
   "source": [
    "By default, rnorm() creates standard normal random variables with a mean\n",
    "of 0 and a standard deviation of 1. However, the mean and standard deviation can be altered using the mean and sd arguments, as illustrated above.\n",
    "Sometimes we want our code to reproduce the exact same set of random\n",
    "numbers; we can use the set.seed() function to do this. The set.seed()\n",
    "function takes an (arbitrary) integer argument."
   ]
  },
  {
   "cell_type": "code",
   "execution_count": null,
   "metadata": {},
   "outputs": [],
   "source": [
    "set.seed(1303)\n",
    "rnorm(50)"
   ]
  },
  {
   "cell_type": "markdown",
   "metadata": {},
   "source": [
    "We use set.seed() throughout the labs whenever we perform calculations\n",
    "involving random quantities. In general this should allow the user to reproduce our results. However, it should be noted that as new versions of\n",
    "R become available it is possible that some small discrepancies may form\n",
    "between the book and the output from R.\n",
    "\n",
    "The mean() and var() functions can be used to compute the mean and\n",
    "variance of a vector of numbers. Applying sqrt() to the output of var()\n",
    "will give the standard deviation. Or we can simply use the sd() function."
   ]
  },
  {
   "cell_type": "code",
   "execution_count": null,
   "metadata": {},
   "outputs": [],
   "source": [
    "set.seed(3)\n",
    "y=rnorm(100)\n",
    "mean(y)"
   ]
  },
  {
   "cell_type": "code",
   "execution_count": null,
   "metadata": {},
   "outputs": [],
   "source": [
    "var(y)"
   ]
  },
  {
   "cell_type": "code",
   "execution_count": null,
   "metadata": {},
   "outputs": [],
   "source": [
    "sqrt(var(y))\n",
    "sd(y)"
   ]
  },
  {
   "cell_type": "markdown",
   "metadata": {},
   "source": [
    "### Graphics\n",
    "The plot() function is the primary way to plot data in R. For instance,\n",
    "plot(x,y) produces a scatterplot of the numbers in x versus the numbers\n",
    "in y. There are many additional options that can be passed in to the plot()\n",
    "function. For example, passing in the argument xlab will result in a label\n",
    "on the x-axis. To find out more information about the plot() function,\n",
    "type ?plot."
   ]
  },
  {
   "cell_type": "code",
   "execution_count": null,
   "metadata": {},
   "outputs": [],
   "source": [
    "x= rnorm (100)\n",
    "y= rnorm (100)\n",
    "plot(x,y)\n",
    "plot(x,y, xlab =\" this is the x- axis\", ylab =\" this is the y-axis \",\n",
    "main =\" Plot of X vs Y\")"
   ]
  },
  {
   "cell_type": "markdown",
   "metadata": {},
   "source": [
    "We will often want to save the output of an R plot. The command that we\n",
    "use to do this will depend on the file type that we would like to create. For\n",
    "instance, to create a pdf, we use the pdf() function, and to create a jpeg,we use the jpeg() function."
   ]
  },
  {
   "cell_type": "code",
   "execution_count": null,
   "metadata": {},
   "outputs": [],
   "source": [
    "pdf(\"Figure.pdf\")\n",
    "plot(x,y,col =\" green \")\n",
    "dev.off()"
   ]
  },
  {
   "cell_type": "markdown",
   "metadata": {},
   "source": [
    "The function dev.off() indicates to R that we are done creating the plot. Alternatively, we can simply copy the plot window and paste it into an\n",
    "appropriate file type, such as a Word document.\n",
    "\n",
    "The function seq() can be used to create a sequence of numbers. For instance, seq(a,b) makes a vector of integers between a and b. There are\n",
    "many other options: for instance, seq(0,1,length=10) makes a sequence of\n",
    "10 numbers that are equally spaced between 0 and 1. Typing 3:11 is a\n",
    "shorthand for seq(3,11) for integer arguments."
   ]
  },
  {
   "cell_type": "code",
   "execution_count": null,
   "metadata": {},
   "outputs": [],
   "source": [
    "x=seq (1 ,10)\n",
    "x\n",
    "x=1:10\n",
    "x\n",
    "\n"
   ]
  },
  {
   "cell_type": "markdown",
   "metadata": {},
   "source": [
    "We will now create some more sophisticated plots. The contour() function produces a contour plot in order to represent three-dimensional data;\n",
    "contour plot it is like a topographical map. It takes three arguments:\n",
    "1. A vector of the x values (the first dimension),\n",
    "2. A vector of the y values (the second dimension), and\n",
    "3. A matrix whose elements correspond to the z value (the third dimension) for each pair of (x,y) coordinates.\n",
    "\n",
    "As with the plot() function, there are many other inputs that can be used\n",
    "to fine-tune the output of the contour() function. To learn more about\n",
    "these, take a look at the help file by typing ?contour."
   ]
  },
  {
   "cell_type": "code",
   "execution_count": null,
   "metadata": {},
   "outputs": [],
   "source": [
    "x=seq (-pi ,pi ,length =50); y=x\n",
    "f= outer (x,y, function(x,y)cos (y)/(1+x ^2) )\n",
    "contour (x,y,f)\n",
    "contour (x,y,f, nlevels =45, add =T)\n",
    "fa=(f-t(f))/2\n",
    "contour (x,y,fa , nlevels =15)"
   ]
  },
  {
   "cell_type": "markdown",
   "metadata": {},
   "source": [
    "The image() function works the same way as contour(), except that it\n",
    "produces a color-coded plot whose colors depend on the z value. This is known as a heatmap, and is sometimes used to plot temperature in weather\n",
    "heatmap forecasts. Alternatively, persp() can be used to produce a three-dimensional plot. The arguments theta and phi control the angles at which the plot is viewed."
   ]
  },
  {
   "cell_type": "code",
   "execution_count": null,
   "metadata": {},
   "outputs": [],
   "source": [
    "image (x,y,fa)\n",
    "persp (x,y,fa)\n",
    "persp (x,y,fa ,theta =30)\n",
    "persp (x,y,fa ,theta =30, phi =20)\n",
    "persp (x,y,fa ,theta =30, phi =70)\n",
    "persp (x,y,fa ,theta =30, phi =40)"
   ]
  },
  {
   "cell_type": "markdown",
   "metadata": {},
   "source": [
    "### Indexing Data\n",
    "We often wish to examine part of a set of data. Suppose that our data is\n",
    "stored in the matrix A Then, typing A[2 ,3] will select the element corresponding to the second row and the third column. "
   ]
  },
  {
   "cell_type": "code",
   "execution_count": null,
   "metadata": {},
   "outputs": [],
   "source": [
    "A= matrix(1:16 ,4 ,4)\n",
    "A\n",
    "A[2,3]"
   ]
  },
  {
   "cell_type": "markdown",
   "metadata": {},
   "source": [
    "We can also\n",
    "select multiple rows and columns at a time, by providing vectors as the\n",
    "indices."
   ]
  },
  {
   "cell_type": "code",
   "execution_count": null,
   "metadata": {},
   "outputs": [],
   "source": [
    "A[c(1 ,3) ,c(2 ,4)]\n",
    "\n",
    "A [1:3 ,2:4]"
   ]
  },
  {
   "cell_type": "code",
   "execution_count": null,
   "metadata": {},
   "outputs": [],
   "source": [
    " A [1:2 ,]"
   ]
  },
  {
   "cell_type": "code",
   "execution_count": null,
   "metadata": {},
   "outputs": [],
   "source": [
    "A [ ,1:2]"
   ]
  },
  {
   "cell_type": "markdown",
   "metadata": {},
   "source": [
    "The last two examples include either no index for the columns or no index\n",
    "for the rows. These indicate that R should include all columns or all rows,\n",
    "respectively. R treats a single row or column of a matrix as a vector.\n"
   ]
  },
  {
   "cell_type": "code",
   "execution_count": null,
   "metadata": {},
   "outputs": [],
   "source": [
    "A[1,]"
   ]
  },
  {
   "cell_type": "markdown",
   "metadata": {},
   "source": [
    "The use of a negative sign - in the index tells R to keep all rows or columns\n",
    "except those indicated in the index"
   ]
  },
  {
   "cell_type": "code",
   "execution_count": null,
   "metadata": {},
   "outputs": [],
   "source": [
    " A[-c(1 ,3) ,]"
   ]
  },
  {
   "cell_type": "markdown",
   "metadata": {},
   "source": [
    "The dim() function outputs the number of rows followed by the number of\n",
    "columns of a given matrix"
   ]
  },
  {
   "cell_type": "code",
   "execution_count": null,
   "metadata": {},
   "outputs": [],
   "source": [
    "dim(A)"
   ]
  },
  {
   "cell_type": "markdown",
   "metadata": {},
   "source": [
    "### Loading Data\n",
    "For most analyses, the first step involves importing a data set into R. The\n",
    "read.table() function is one of the primary ways to do this. The help file\n",
    "contains details about how to use this function. We can use the function\n",
    "write.table() to export data.\n",
    "\n",
    "Before attempting to load a data set, we must make sure that R knows \n",
    "to search for the data in the proper directory. Both absolute and relative paths to files can be used, or simply place the file in your working directory.\n",
    "\n",
    "We begin by loading in the Auto data set. This data is part of the ISLR library (we discuss libraries in Chapter 3) but to illustrate the read.table() function we load it now from a text file. The following command will load the Auto.data file into R and store it as an\n",
    "object called Auto, in a format referred to as a data frame. (The text file data frame\n",
    "can be obtained from this book’s website.) Once the data has been loaded,\n",
    "the fix() function can be used to view it in a spreadsheet like window.\n",
    "However, the window must be closed before further R commands can be\n",
    "entered."
   ]
  },
  {
   "cell_type": "code",
   "execution_count": null,
   "metadata": {},
   "outputs": [],
   "source": [
    "Auto=read.table(\"Auto.data\")\n",
    "head(Auto)"
   ]
  },
  {
   "cell_type": "markdown",
   "metadata": {},
   "source": [
    "Note that Auto.data is simply a text file, which you could alternatively\n",
    "open on your computer using a standard text editor. It is often a good idea\n",
    "to view a data set using a text editor or other software such as Excel before\n",
    "loading it into R.\n",
    "This particular data set has not been loaded correctly, because R has\n",
    "assumed that the variable names are part of the data and so has included\n",
    "them in the first row. The data set also includes a number of missing\n",
    "observations, indicated by a question mark ?. Missing values are a common\n",
    "occurrence in real data sets. Using the option header=T (or header=TRUE) in\n",
    "the read.table() function tells R that the first line of the file contains the\n",
    "variable names, and using the option na.strings tells R that any time it\n",
    "sees a particular character or set of characters (such as a question mark),\n",
    "it should be treated as a missing element of the data matrix."
   ]
  },
  {
   "cell_type": "code",
   "execution_count": null,
   "metadata": {},
   "outputs": [],
   "source": [
    "Auto=read.table (\"Auto.data\", header=T,na.strings =\"?\")\n",
    "head(Auto)"
   ]
  },
  {
   "cell_type": "markdown",
   "metadata": {},
   "source": [
    "Excel is a common-format data storage program. An easy way to load such\n",
    "data into R is to save it as a csv (comma separated value) file and then use\n",
    "the read.csv() function to load it in."
   ]
  },
  {
   "cell_type": "code",
   "execution_count": null,
   "metadata": {},
   "outputs": [],
   "source": [
    "Auto=read.csv(\"Auto.csv \", header =T,na.strings =\"?\")\n",
    "head(Auto)\n",
    "dim(Auto)"
   ]
  },
  {
   "cell_type": "markdown",
   "metadata": {},
   "source": [
    "The dim() function tells us that the data has 397 observations, or rows, and\n",
    "nine variables, or columns. There are various ways to deal with the missing\n",
    "data. In this case, only five of the rows contain missing observations, and\n",
    "so we choose to use the na.omit() function to simply remove these rows."
   ]
  },
  {
   "cell_type": "code",
   "execution_count": null,
   "metadata": {},
   "outputs": [],
   "source": [
    "Auto=na.omit (Auto)\n",
    "dim(Auto)"
   ]
  },
  {
   "cell_type": "markdown",
   "metadata": {},
   "source": [
    "The dim() function tells us that the data has 397 observations, or rows, and\n",
    "dim()\n",
    "nine variables, or columns. There are various ways to deal with the missing\n",
    "data. In this case, only five of the rows contain missing observations, and\n",
    "so we choose to use the na.omit() function to simply remove these rows."
   ]
  },
  {
   "cell_type": "code",
   "execution_count": null,
   "metadata": {},
   "outputs": [],
   "source": [
    "names(Auto)"
   ]
  },
  {
   "cell_type": "markdown",
   "metadata": {},
   "source": [
    "### Additional Graphical and Numerical Summaries\n",
    "We can use the plot() function to produce scatterplots of the quantitative variables. However, simply typing the variable names will produce an error\n",
    "message, because R does not know to look in the Auto data set for those\n",
    "variables"
   ]
  },
  {
   "cell_type": "code",
   "execution_count": null,
   "metadata": {},
   "outputs": [],
   "source": [
    "plot(cylinders,mpg)"
   ]
  },
  {
   "cell_type": "markdown",
   "metadata": {},
   "source": [
    "To refer to a variable, we must type the data set and the variable name\n",
    "joined with a $ symbol. Alternatively, we can use the attach() function in order to tell R to make the variables in this data frame available by name"
   ]
  },
  {
   "cell_type": "code",
   "execution_count": null,
   "metadata": {},
   "outputs": [],
   "source": [
    "plot(Auto$cylinders,Auto$mpg )"
   ]
  },
  {
   "cell_type": "code",
   "execution_count": null,
   "metadata": {},
   "outputs": [],
   "source": [
    "attach (Auto)\n",
    "plot(cylinders , mpg )"
   ]
  },
  {
   "cell_type": "markdown",
   "metadata": {},
   "source": [
    "The cylinders variable is stored as a numeric vector, so R has treated it\n",
    "as quantitative. However, since there are only a small number of possible\n",
    "values for cylinders, one may prefer to treat it as a qualitative variable.\n",
    "The as.factor() function converts quantitative variables into qualitative\n",
    "variables."
   ]
  },
  {
   "cell_type": "code",
   "execution_count": null,
   "metadata": {},
   "outputs": [],
   "source": [
    "cylinders =as.factor ( cylinders )"
   ]
  },
  {
   "cell_type": "markdown",
   "metadata": {},
   "source": [
    "If the variable plotted on the x-axis is categorial, then boxplots will\n",
    "automatically be produced by the plot() function. As usual, a number\n",
    "of options can be specified in order to customize the plots."
   ]
  },
  {
   "cell_type": "code",
   "execution_count": null,
   "metadata": {},
   "outputs": [],
   "source": [
    "plot(cylinders , mpg )\n",
    "plot(cylinders , mpg , col =\" red \")\n",
    "plot(cylinders , mpg , col =\" red \", varwidth =T)\n",
    "plot(cylinders , mpg , col =\" red \", varwidth =T, horizontal =T)\n",
    "plot(cylinders , mpg , col =\" red \", varwidth =T, xlab =\" cylinders \",\n",
    "ylab =\" MPG \")"
   ]
  },
  {
   "cell_type": "markdown",
   "metadata": {},
   "source": [
    "The hist() function can be used to plot a histogram. Note that col=2\n",
    "has the same effect as col=\"red\""
   ]
  },
  {
   "cell_type": "code",
   "execution_count": null,
   "metadata": {},
   "outputs": [],
   "source": [
    "hist(mpg )\n",
    "hist(mpg ,col =2)\n",
    "hist(mpg ,col =2, breaks =15)"
   ]
  },
  {
   "cell_type": "markdown",
   "metadata": {},
   "source": [
    "The pairs() function creates a scatterplot matrix i.e. a scatterplot for every\n",
    "scatterplot\n",
    "pair of variables for any given data set. We can also produce scatterplots\n",
    "for just a subset of the variables."
   ]
  },
  {
   "cell_type": "code",
   "execution_count": null,
   "metadata": {},
   "outputs": [],
   "source": [
    "pairs(Auto)\n",
    "pairs (~ mpg + displacement + horsepower + weight +\n",
    "acceleration , Auto)"
   ]
  },
  {
   "cell_type": "markdown",
   "metadata": {},
   "source": [
    "In conjunction with the plot() function, identify() provides a useful\n",
    "interactive method for identifying the value for a particular variable for\n",
    "points on a plot. We pass in three arguments to identify(): the x-axis\n",
    "variable, the y-axis variable, and the variable whose values we would like\n",
    "to see printed for each point. Then clicking on a given point in the plot\n",
    "will cause R to print the value of the variable of interest. Right-clicking on\n",
    "the plot will exit the identify() function (control-click on a Mac). The\n",
    "numbers printed under the identify() function correspond to the rows for\n",
    "the selected points"
   ]
  },
  {
   "cell_type": "code",
   "execution_count": null,
   "metadata": {},
   "outputs": [],
   "source": [
    "plot( horsepower ,mpg )\n",
    "identify ( horsepower ,mpg , name)"
   ]
  },
  {
   "cell_type": "markdown",
   "metadata": {},
   "source": [
    "The summary() function produces a numerical summary of each variable in\n",
    "a particular data set"
   ]
  },
  {
   "cell_type": "code",
   "execution_count": null,
   "metadata": {},
   "outputs": [],
   "source": [
    "summary(Auto)"
   ]
  },
  {
   "cell_type": "markdown",
   "metadata": {},
   "source": [
    "For qualitative variables such as name, R will list the number of observations\n",
    "that fall in each category. We can also produce a summary of just a single\n",
    "variable."
   ]
  },
  {
   "cell_type": "code",
   "execution_count": null,
   "metadata": {},
   "outputs": [],
   "source": [
    "summary(mpg)"
   ]
  }
 ],
 "metadata": {
  "kernelspec": {
   "display_name": "R",
   "language": "R",
   "name": "python374jvsc74a57bd07473bcff2b0bdc7ef48ea757de80b136b964a90312b58ce2b1163701067edbb0"
  },
  "language_info": {
   "codemirror_mode": "r",
   "file_extension": ".r",
   "mimetype": "text/x-r-source",
   "name": "R",
   "pygments_lexer": "r",
   "version": "3.6.3"
  }
 },
 "nbformat": 4,
 "nbformat_minor": 4
}
