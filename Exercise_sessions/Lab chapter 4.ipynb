{
 "cells": [
  {
   "cell_type": "markdown",
   "metadata": {},
   "source": [
    "## Lab: Logistic Regression, LDA, QDA, and KNN\n",
    "### The Stock Market Data\n",
    "We will begin by examining some numerical and graphical summaries of\n",
    "the Smarket data, which is part of the ISLR library. This data set consists of\n",
    "percentage returns for the S&P 500 stock index over 1,250 days, from the\n",
    "beginning of 2001 until the end of 2005. For each date, we have recorded\n",
    "the percentage returns for each of the five previous trading days, Lag1\n",
    "through Lag5. We have also recorded Volume (the number of shares traded\n",
    "on the previous day, in billions), Today (the percentage return on the date\n",
    "in question) and Direction (whether the market was Up or Down on this\n",
    "date)"
   ]
  },
  {
   "cell_type": "code",
   "execution_count": null,
   "metadata": {},
   "outputs": [],
   "source": [
    "# install.packages('ISLR', repos='http://cran.us.r-project.org')\n",
    "library(ISLR )\n",
    "names(Smarket )"
   ]
  },
  {
   "cell_type": "code",
   "execution_count": null,
   "metadata": {},
   "outputs": [],
   "source": [
    "dim(Smarket)"
   ]
  },
  {
   "cell_type": "code",
   "execution_count": null,
   "metadata": {},
   "outputs": [],
   "source": [
    "summary(Smarket)"
   ]
  },
  {
   "cell_type": "code",
   "execution_count": null,
   "metadata": {},
   "outputs": [],
   "source": [
    "pairs(Smarket)"
   ]
  },
  {
   "cell_type": "markdown",
   "metadata": {},
   "source": [
    "The cor() function produces a matrix that contains all of the pairwise\n",
    "correlations among the predictors in a data set. The first command below\n",
    "gives an error message because the Direction variable is qualitative."
   ]
  },
  {
   "cell_type": "code",
   "execution_count": null,
   "metadata": {},
   "outputs": [],
   "source": [
    "cor (Smarket)"
   ]
  },
  {
   "cell_type": "code",
   "execution_count": null,
   "metadata": {},
   "outputs": [],
   "source": [
    "cor(Smarket [,-9])"
   ]
  },
  {
   "cell_type": "markdown",
   "metadata": {},
   "source": [
    "As one would expect, the correlations between the lag variables and today’s returns are close to zero. In other words, there appears to be little\n",
    "correlation between today’s returns and previous days’ returns. The only\n",
    "substantial correlation is between Year and Volume. By plotting the data we\n",
    "see that Volume is increasing over time. In other words, the average number\n",
    "of shares traded daily increased from 2001 to 2005."
   ]
  },
  {
   "cell_type": "code",
   "execution_count": null,
   "metadata": {},
   "outputs": [],
   "source": [
    "attach ( Smarket )\n",
    "plot( Volume )"
   ]
  },
  {
   "cell_type": "markdown",
   "metadata": {},
   "source": [
    "### Logistic Regression\n",
    "\n",
    "Next, we will fit a logistic regression model in order to predict Direction\n",
    "using Lag1 through Lag5 and Volume. The glm() function fits generalized\n",
    "linear models, a class of models that includes logistic regression. The syntax\n",
    "of the glm() function is similar to that of lm(), except that we must pass in\n",
    "the argument family=binomial in order to tell R to run a logistic regression\n",
    "rather than some other type of generalized linear model."
   ]
  },
  {
   "cell_type": "code",
   "execution_count": null,
   "metadata": {},
   "outputs": [],
   "source": [
    "glm.fits=glm(Direction∼Lag1+ Lag2+ Lag3+Lag4+ Lag5+Volume, data=Smarket, family = binomial )\n",
    "summary(glm.fits)"
   ]
  },
  {
   "cell_type": "markdown",
   "metadata": {},
   "source": [
    "The smallest p-value here is associated with Lag1. The negative coefficient\n",
    "for this predictor suggests that if the market had a positive return yesterday,\n",
    "then it is less likely to go up today. However, at a value of 0.145, the p-value\n",
    "is still relatively large, and so there is no clear evidence of a real association\n",
    "between Lag1 and Direction."
   ]
  },
  {
   "cell_type": "markdown",
   "metadata": {},
   "source": [
    "We use the coef() function in order to access just the coefficients for this\n",
    "fitted model. We can also use the summary() function to access particular\n",
    "aspects of the fitted model, such as the p-values for the coefficients"
   ]
  },
  {
   "cell_type": "code",
   "execution_count": null,
   "metadata": {},
   "outputs": [],
   "source": [
    "coef(glm.fits)"
   ]
  },
  {
   "cell_type": "code",
   "execution_count": null,
   "metadata": {},
   "outputs": [],
   "source": [
    "summary(glm.fits)$coef"
   ]
  },
  {
   "cell_type": "markdown",
   "metadata": {},
   "source": [
    "The predict() function can be used to predict the probability that the\n",
    "market will go up, given values of the predictors. The type=\"response\"\n",
    "option tells R to output probabilities of the form P(Y = 1|X), as opposed\n",
    "to other information such as the logit. If no data set is supplied to the\n",
    "predict() function, then the probabilities are computed for the training\n",
    "data that was used to fit the logistic regression model. Here we have printed\n",
    "only the first ten probabilities. We know that these values correspond to\n",
    "the probability of the market going up, rather than down, because the\n",
    "contrasts() function indicates that R has created a dummy variable with\n",
    "a 1 for Up."
   ]
  },
  {
   "cell_type": "code",
   "execution_count": null,
   "metadata": {},
   "outputs": [],
   "source": [
    "glm.probs = predict(glm.fits,type =\"response\")\n",
    "glm.probs[1:10]"
   ]
  },
  {
   "cell_type": "code",
   "execution_count": null,
   "metadata": {},
   "outputs": [],
   "source": [
    "contrasts(Direction)"
   ]
  },
  {
   "cell_type": "markdown",
   "metadata": {},
   "source": [
    "In order to make a prediction as to whether the market will go up or\n",
    "down on a particular day, we must convert these predicted probabilities\n",
    "into class labels, Up or Down. The following two commands create a vector\n",
    "of class predictions based on whether the predicted probability of a market\n",
    "increase is greater than or less than 0.5."
   ]
  },
  {
   "cell_type": "code",
   "execution_count": null,
   "metadata": {},
   "outputs": [],
   "source": [
    "glm.pred=rep(\"Down\" ,1250)\n",
    "glm.pred[glm.probs>.5]=\"Up\""
   ]
  },
  {
   "cell_type": "markdown",
   "metadata": {},
   "source": [
    "The first command creates a vector of 1,250 Down elements. The second line\n",
    "transforms to Up all of the elements for which the predicted probability of a\n",
    "market increase exceeds 0.5. Given these predictions, the table() function\n",
    "can be used to produce a confusion matrix in order to determine how many\n",
    "observations were correctly or incorrectly classified."
   ]
  },
  {
   "cell_type": "code",
   "execution_count": null,
   "metadata": {},
   "outputs": [],
   "source": [
    "table(glm.pred , Direction)"
   ]
  },
  {
   "cell_type": "code",
   "execution_count": null,
   "metadata": {},
   "outputs": [],
   "source": [
    "mean(glm.pred == Direction )"
   ]
  },
  {
   "cell_type": "markdown",
   "metadata": {},
   "source": [
    "The diagonal elements of the confusion matrix indicate correct predictions,\n",
    "while the off-diagonals represent incorrect predictions. Hence our model\n",
    "correctly predicted that the market would go up on 507 days and that\n",
    "it would go down on 145 days, for a total of 507 + 145 = 652 correct\n",
    "predictions. The mean() function can be used to compute the fraction of\n",
    "days for which the prediction was correct. In this case, logistic regression\n",
    "correctly predicted the movement of the market 52.2 % of the time.\n",
    "\n",
    "At first glance, it appears that the logistic regression model is working\n",
    "a little better than random guessing. However, this result is misleading\n",
    "because we trained and tested the model on the same set of 1, 250 observations. In other words, 100 − 52.2 = 47.8 % is the training error rate. As we\n",
    "have seen previously, the training error rate is often overly optimistic—it\n",
    "tends to underestimate the test error rate. In order to better assess the accuracy of the logistic regression model in this setting, we can fit the model\n",
    "using part of the data, and then examine how well it predicts the held out\n",
    "data. This will yield a more realistic error rate, in the sense that in practice we will be interested in our model’s performance not on the data that\n",
    "we used to fit the model, but rather on days in the future for which the\n",
    "market’s movements are unknown.\n",
    "\n",
    "To implement this strategy, we will first create a vector corresponding\n",
    "to the observations from 2001 through 2004. We will then use this vector\n",
    "to create a held out data set of observations from 2005."
   ]
  },
  {
   "cell_type": "code",
   "execution_count": null,
   "metadata": {},
   "outputs": [],
   "source": [
    "train =( Year <2005)\n",
    "Smarket.2005= Smarket[!train ,]\n",
    "dim(Smarket.2005)\n",
    "Direction.2005= Direction[!train ]"
   ]
  },
  {
   "cell_type": "markdown",
   "metadata": {},
   "source": [
    "The object train is a vector of 1, 250 elements, corresponding to the observations in our data set. The elements of the vector that correspond to\n",
    "observations that occurred before 2005 are set to TRUE, whereas those that\n",
    "correspond to observations in 2005 are set to FALSE. The object train is\n",
    "a Boolean vector, since its elements are TRUE and FALSE. Boolean vectorscan be used to obtain a subset of the rows or columns of a matrix. For\n",
    "instance, the command Smarket[train,] would pick out a submatrix of the\n",
    "stock market data set, corresponding only to the dates before 2005, since\n",
    "those are the ones for which the elements of train are TRUE. The ! symbol\n",
    "can be used to reverse all of the elements of a Boolean vector. That is,\n",
    "!train is a vector similar to train, except that the elements that are TRUE\n",
    "in train get swapped to FALSE in !train, and the elements that are FALSE\n",
    "in train get swapped to TRUE in !train. Therefore, Smarket[!train,] yields\n",
    "a submatrix of the stock market data containing only the observations for\n",
    "which train is FALSE—that is, the observations with dates in 2005. The\n",
    "output above indicates that there are 252 such observations.\n",
    "\n",
    "We now fit a logistic regression model using only the subset of the observations that correspond to dates before 2005, using the subset argument.\n",
    "We then obtain predicted probabilities of the stock market going up for\n",
    "each of the days in our test set—that is, for the days in 2005."
   ]
  },
  {
   "cell_type": "code",
   "execution_count": null,
   "metadata": {},
   "outputs": [],
   "source": [
    "glm.fits=glm ( Direction∼Lag1+ Lag2+ Lag3+Lag4+ Lag5+Volume, data=Smarket, family = binomial, subset =train )\n",
    "glm.probs = predict(glm.fits, Smarket.2005, type =\"response\")"
   ]
  },
  {
   "cell_type": "markdown",
   "metadata": {},
   "source": [
    "Notice that we have trained and tested our model on two completely separate data sets: training was performed using only the dates before 2005,\n",
    "and testing was performed using only the dates in 2005. Finally, we compute the predictions for 2005 and compare them to the actual movements\n",
    "of the market over that time period."
   ]
  },
  {
   "cell_type": "code",
   "execution_count": null,
   "metadata": {},
   "outputs": [],
   "source": [
    "glm.pred=rep(\"Down\" ,252)\n",
    "glm.pred[glm.probs >.5]=\"Up\"\n",
    "table(glm.pred , Direction.2005)"
   ]
  },
  {
   "cell_type": "code",
   "execution_count": null,
   "metadata": {},
   "outputs": [],
   "source": [
    "mean(glm.pred == Direction.2005)"
   ]
  },
  {
   "cell_type": "code",
   "execution_count": null,
   "metadata": {},
   "outputs": [],
   "source": [
    "mean(glm.pred != Direction.2005)"
   ]
  },
  {
   "cell_type": "markdown",
   "metadata": {},
   "source": [
    "The != notation means not equal to, and so the last command computes\n",
    "the test set error rate. The results are rather disappointing: the test error\n",
    "rate is 52 %, which is worse than random guessing! Of course this result\n",
    "is not all that surprising, given that one would not generally expect to be\n",
    "able to use previous days’ returns to predict future market performance.\n",
    "(After all, if it were possible to do so, then the authors of this book would\n",
    "be out striking it rich rather than writing a statistics textbook.)\n",
    "\n",
    "We recall that the logistic regression model had very underwhelming pvalues associated with all of the predictors, and that the smallest p-value,\n",
    "though not very small, corresponded to Lag1. Perhaps by removing the\n",
    "variables that appear not to be helpful in predicting Direction, we can\n",
    "obtain a more effective model. After all, using predictors that have no\n",
    "relationship with the response tends to cause a deterioration in the test\n",
    "error rate (since such predictors cause an increase in variance without a\n",
    "corresponding decrease in bias), and so removing such predictors may in\n",
    "turn yield an improvement. Below we have refit the logistic regression using\n",
    "just Lag1 and Lag2, which seemed to have the highest predictive power in\n",
    "the original logistic regression model."
   ]
  },
  {
   "cell_type": "code",
   "execution_count": null,
   "metadata": {},
   "outputs": [],
   "source": [
    "glm.fits=glm( Direction∼Lag1+Lag2 , data=Smarket ,family =binomial ,subset = train )\n",
    "glm.probs = predict (glm.fits, Smarket.2005 , type =\"response\")\n",
    "glm.pred=rep (\"Down\" ,252)\n",
    "glm.pred[glm.probs >.5]=\"Up\"\n",
    "table(glm.pred , Direction.2005)"
   ]
  },
  {
   "cell_type": "code",
   "execution_count": null,
   "metadata": {},
   "outputs": [],
   "source": [
    "mean(glm.pred == Direction.2005)"
   ]
  },
  {
   "cell_type": "markdown",
   "metadata": {},
   "source": [
    "Now the results appear to be a little better: 56% of the daily movements\n",
    "have been correctly predicted. It is worth noting that in this case, a much\n",
    "simpler strategy of predicting that the market will increase every day will\n",
    "also be correct 56% of the time! Hence, in terms of overall error rate, the\n",
    "logistic regression method is no better than the naïve approach. However,\n",
    "the confusion matrix shows that on days when logistic regression predicts\n",
    "an increase in the market, it has a 58% accuracy rate. This suggests a\n",
    "possible trading strategy of buying on days when the model predicts an increasing market, and avoiding trades on days when a decrease is predicted.\n",
    "Of course one would need to investigate more carefully whether this small\n",
    "improvement was real or just due to random chance.\n",
    "\n",
    "Suppose that we want to predict the returns associated with particular\n",
    "values of Lag1 and Lag2. In particular, we want to predict Direction on a\n",
    "day when Lag1 and Lag2 equal 1.2 and 1.1, respectively, and on a day when\n",
    "they equal 1.5 and −0.8. We do this using the predict() function."
   ]
  },
  {
   "cell_type": "code",
   "execution_count": null,
   "metadata": {},
   "outputs": [],
   "source": [
    "predict(glm.fits, newdata =data.frame(Lag1=c (1.2 ,1.5) ,Lag2=c(1.1 , -0.8) ),type =\"response\")"
   ]
  },
  {
   "cell_type": "markdown",
   "metadata": {},
   "source": [
    "### Linear Discriminant Analysis\n",
    "Now we will perform LDA on the Smarket data. In R, we fit an LDA model\n",
    "using the lda() function, which is part of the MASS library. Notice that the\n",
    "syntax for the lda() function is identical to that of lm(), and to that of\n",
    "glm() except for the absence of the family option. We fit the model using\n",
    "only the observations before 2005."
   ]
  },
  {
   "cell_type": "code",
   "execution_count": null,
   "metadata": {},
   "outputs": [],
   "source": [
    "library (MASS )\n",
    "lda.fit =lda ( Direction∼Lag1+Lag2 , data=Smarket ,subset = train )\n",
    "lda.fit\n",
    "plot(lda.fit)"
   ]
  },
  {
   "cell_type": "markdown",
   "metadata": {},
   "source": [
    "The LDA output indicates that ˆ π1 = 0.492 and ˆ π2 = 0.508; in other words,\n",
    "49.2 % of the training observations correspond to days during which the\n",
    "market went down. It also provides the group means; these are the average\n",
    "of each predictor within each class, and are used by LDA as estimates\n",
    "of μk. These suggest that there is a tendency for the previous 2 days’\n",
    "returns to be negative on days when the market increases, and a tendency\n",
    "for the previous days’ returns to be positive on days when the market\n",
    "declines. The coefficients of linear discriminants output provides the linear\n",
    "combination of Lag1 and Lag2 that are used to form the LDA decision rule.\n",
    "In other words, these are the multipliers of the elements of X = x in\n",
    "(4.19). If −0.642×Lag1−0.514×Lag2 is large, then the LDA classifier will\n",
    "predict a market increase, and if it is small, then the LDA classifier will\n",
    "predict a market decline. The plot() function produces plots of the linear\n",
    "discriminants, obtained by computing −0.642 × Lag1 − 0.514 × Lag2 for\n",
    "each of the training observations.\n",
    "\n",
    "The predict() function returns a list with three elements. The first element, class, contains LDA’s predictions about the movement of the market.\n",
    "The second element, posterior, is a matrix whose kth column contains the\n",
    "posterior probability that the corresponding observation belongs to the kth\n",
    "class, computed from (4.10). Finally, x contains the linear discriminants,\n",
    "described earlier."
   ]
  },
  {
   "cell_type": "code",
   "execution_count": null,
   "metadata": {},
   "outputs": [],
   "source": [
    "lda.pred=predict(lda.fit, Smarket.2005)\n",
    "names(lda.pred)"
   ]
  },
  {
   "cell_type": "markdown",
   "metadata": {},
   "source": [
    "As we observed in Section 4.5, the LDA and logistic regression predictions\n",
    "are almost identical."
   ]
  },
  {
   "cell_type": "code",
   "execution_count": null,
   "metadata": {},
   "outputs": [],
   "source": [
    "lda.class=lda.pred$class\n",
    "table (lda.class , Direction.2005)"
   ]
  },
  {
   "cell_type": "code",
   "execution_count": null,
   "metadata": {},
   "outputs": [],
   "source": [
    "mean(lda.class == Direction.2005)"
   ]
  },
  {
   "cell_type": "markdown",
   "metadata": {},
   "source": [
    "Applying a 50 % threshold to the posterior probabilities allows us to recreate the predictions contained in lda.pred\\\\$class."
   ]
  },
  {
   "cell_type": "code",
   "execution_count": null,
   "metadata": {},
   "outputs": [],
   "source": [
    "sum (lda.pred$posterior[ ,1] >=.5)\n",
    "sum(lda.pred$posterior[ ,1] <.5)"
   ]
  },
  {
   "cell_type": "markdown",
   "metadata": {},
   "source": [
    "Notice that the posterior probability output by the model corresponds to\n",
    "the probability that the market will decrease:"
   ]
  },
  {
   "cell_type": "code",
   "execution_count": null,
   "metadata": {},
   "outputs": [],
   "source": [
    "lda.pred$posterior[1:20 ,1]\n",
    "lda.class[1:20]"
   ]
  },
  {
   "cell_type": "markdown",
   "metadata": {},
   "source": [
    "If we wanted to use a posterior probability threshold other than 50 % in\n",
    "order to make predictions, then we could easily do so. For instance, suppose\n",
    "that we wish to predict a market decrease only if we are very certain that the\n",
    "market will indeed decrease on that day—say, if the posterior probability\n",
    "is at least 90 %."
   ]
  },
  {
   "cell_type": "code",
   "execution_count": null,
   "metadata": {},
   "outputs": [],
   "source": [
    "sum(lda.pred$posterior[ ,1] >.9)"
   ]
  },
  {
   "cell_type": "markdown",
   "metadata": {},
   "source": [
    "No days in 2005 meet that threshold! In fact, the greatest posterior probability of decrease in all of 2005 was 52.02 %"
   ]
  },
  {
   "cell_type": "markdown",
   "metadata": {},
   "source": [
    "### Quadratic Discriminant Analysis\n",
    "We will now fit a QDA model to the Smarket data. QDA is implemented\n",
    "in R using the qda() function, which is also part of the MASS library. The\n",
    "syntax is identical to that of lda()."
   ]
  },
  {
   "cell_type": "code",
   "execution_count": null,
   "metadata": {},
   "outputs": [],
   "source": [
    "qda.fit =qda ( Direction∼Lag1+Lag2 , data=Smarket ,subset = train )\n",
    "qda.fit"
   ]
  },
  {
   "cell_type": "markdown",
   "metadata": {},
   "source": [
    "The output contains the group means. But it does not contain the coefficients of the linear discriminants, because the QDA classifier involves a\n",
    "quadratic, rather than a linear, function of the predictors. The predict()\n",
    "function works in exactly the same fashion as for LDA"
   ]
  },
  {
   "cell_type": "code",
   "execution_count": null,
   "metadata": {},
   "outputs": [],
   "source": [
    "qda.class = predict(qda.fit , Smarket.2005)$class\n",
    "table(qda.class , Direction.2005)"
   ]
  },
  {
   "cell_type": "code",
   "execution_count": null,
   "metadata": {},
   "outputs": [],
   "source": [
    "mean(qda.class == Direction.2005)"
   ]
  },
  {
   "cell_type": "markdown",
   "metadata": {},
   "source": [
    "Interestingly, the QDA predictions are accurate almost 60 % of the time,\n",
    "even though the 2005 data was not used to fit the model. This level of accuracy is quite impressive for stock market data, which is known to be quite\n",
    "hard to model accurately. This suggests that the quadratic form assumed\n",
    "by QDA may capture the true relationship more accurately than the linear\n",
    "forms assumed by LDA and logistic regression. However, we recommend\n",
    "evaluating this method’s performance on a larger test set before betting\n",
    "that this approach will consistently beat the market!"
   ]
  },
  {
   "cell_type": "markdown",
   "metadata": {},
   "source": [
    "### K-Nearest Neighbors\n",
    "We will now perform KNN using the knn() function, which is part of the\n",
    "class library. This function works rather differently from the other modelfitting functions that we have encountered thus far. Rather than a two-step\n",
    "approach in which we first fit the model and then we use the model to make\n",
    "predictions, knn() forms predictions using a single command. The function\n",
    "requires four inputs.\n",
    "1. A matrix containing the predictors associated with the training data, labeled train.X below.\n",
    "2. A matrix containing the predictors associated with the data for which we wish to make predictions, labeled test.X below.\n",
    "3. A vector containing the class labels for the training observations, labeled train.Direction below.\n",
    "4. A value for K, the number of nearest neighbors to be used by the classifier.\n",
    "\n",
    "We use the cbind() function, short for column bind, to bind the Lag1 and\n",
    "Lag2 variables together into two matrices, one for the training set and the\n",
    "other for the test set."
   ]
  },
  {
   "cell_type": "code",
   "execution_count": null,
   "metadata": {},
   "outputs": [],
   "source": [
    "library( class )\n",
    "train.X= cbind(Lag1 ,Lag2)[train ,]\n",
    "test.X=cbind(Lag1 , Lag2)[! train ,]\n",
    "train.Direction = Direction[ train ]"
   ]
  },
  {
   "cell_type": "markdown",
   "metadata": {},
   "source": [
    "Now the knn() function can be used to predict the market’s movement for\n",
    "the dates in 2005. We set a random seed before we apply knn() because\n",
    "if several observations are tied as nearest neighbors, then R will randomly\n",
    "break the tie. Therefore, a seed must be set in order to ensure reproducibility of results."
   ]
  },
  {
   "cell_type": "code",
   "execution_count": null,
   "metadata": {},
   "outputs": [],
   "source": [
    "set.seed(1)\n",
    "knn.pred=knn(train.X, test.X, train.Direction ,k=1)\n",
    "table(knn.pred , Direction.2005)"
   ]
  },
  {
   "cell_type": "code",
   "execution_count": null,
   "metadata": {},
   "outputs": [],
   "source": [
    "(83+43)/252"
   ]
  },
  {
   "cell_type": "markdown",
   "metadata": {},
   "source": [
    "The results using K = 1 are not very good, since only 50 % of the observations are correctly predicted. Of course, it may be that K = 1 results in an\n",
    "overly flexible fit to the data. Below, we repeat the analysis using K = 3."
   ]
  },
  {
   "cell_type": "code",
   "execution_count": null,
   "metadata": {},
   "outputs": [],
   "source": [
    "knn.pred=knn(train.X, test.X, train.Direction ,k=3)\n",
    "table(knn.pred , Direction.2005)"
   ]
  },
  {
   "cell_type": "code",
   "execution_count": null,
   "metadata": {},
   "outputs": [],
   "source": [
    "mean(knn.pred==Direction.2005)"
   ]
  },
  {
   "cell_type": "markdown",
   "metadata": {},
   "source": [
    "The results have improved slightly. But increasing K further turns out\n",
    "to provide no further improvements. It appears that for this data, QDA\n",
    "provides the best results of the methods that we have examined so far."
   ]
  },
  {
   "cell_type": "markdown",
   "metadata": {},
   "source": [
    "### An Application to Caravan Insurance Data\n",
    "Finally, we will apply the KNN approach to the Caravan data set, which is\n",
    "part of the ISLR library. This data set includes 85 predictors that measure\n",
    "demographic characteristics for 5,822 individuals. The response variable is\n",
    "Purchase, which indicates whether or not a given individual purchases a\n",
    "caravan insurance policy. In this data set, only 6 % of people purchased\n",
    "caravan insurance."
   ]
  },
  {
   "cell_type": "code",
   "execution_count": null,
   "metadata": {},
   "outputs": [],
   "source": [
    "dim(Caravan)"
   ]
  },
  {
   "cell_type": "code",
   "execution_count": null,
   "metadata": {},
   "outputs": [],
   "source": [
    "attach(Caravan)\n",
    "summary(Purchase)"
   ]
  },
  {
   "cell_type": "code",
   "execution_count": null,
   "metadata": {},
   "outputs": [],
   "source": [
    "348/5822"
   ]
  },
  {
   "cell_type": "markdown",
   "metadata": {},
   "source": [
    "Because the KNN classifier predicts the class of a given test observation by\n",
    "identifying the observations that are nearest to it, the scale of the variables\n",
    "matters. Any variables that are on a large scale will have a much larger\n",
    "effect on the distance between the observations, and hence on the KNN\n",
    "classifier, than variables that are on a small scale. For instance, imagine a\n",
    "data set that contains two variables, salary and age (measured in dollars\n",
    "and years, respectively). As far as KNN is concerned, a difference of \\\\$1,000\n",
    "in salary is enormous compared to a difference of 50 years in age. Consequently, salary will drive the KNN classification results, and age will have\n",
    "almost no effect. This is contrary to our intuition that a salary difference\n",
    "of \\\\$1, 000 is quite small compared to an age difference of 50 years. Furthermore, the importance of scale to the KNN classifier leads to another issue:\n",
    "if we measured salary in Japanese yen, or if we measured age in minutes,\n",
    "then we’d get quite different classification results from what we get if these\n",
    "two variables are measured in dollars and years."
   ]
  },
  {
   "cell_type": "markdown",
   "metadata": {},
   "source": [
    "A good way to handle this problem is to standardize the data so that all\n",
    "variables are given a mean of zero and a standard deviation of one. Then\n",
    "all variables will be on a comparable scale. The scale() function does just\n",
    "this. In standardizing the data, we exclude column 86, because that is the\n",
    "qualitative Purchase variable."
   ]
  },
  {
   "cell_type": "code",
   "execution_count": null,
   "metadata": {},
   "outputs": [],
   "source": [
    "standardized.X= scale(Caravan[ , -86])\n",
    "var ( Caravan [ ,1])"
   ]
  },
  {
   "cell_type": "code",
   "execution_count": null,
   "metadata": {},
   "outputs": [],
   "source": [
    "var ( Caravan [ ,2])"
   ]
  },
  {
   "cell_type": "code",
   "execution_count": null,
   "metadata": {},
   "outputs": [],
   "source": [
    "var(standardized.X[ ,1])"
   ]
  },
  {
   "cell_type": "code",
   "execution_count": null,
   "metadata": {},
   "outputs": [],
   "source": [
    "var(standardized.X[ ,2])"
   ]
  },
  {
   "cell_type": "markdown",
   "metadata": {},
   "source": [
    "Now every column of standardized.X has a standard deviation of one and\n",
    "a mean of zero.\n",
    "\n",
    "We now split the observations into a test set, containing the first 1,000\n",
    "observations, and a training set, containing the remaining observations.\n",
    "We fit a KNN model on the training data using K = 1, and evaluate its\n",
    "performance on the test data"
   ]
  },
  {
   "cell_type": "code",
   "execution_count": null,
   "metadata": {},
   "outputs": [],
   "source": [
    "test =1:1000\n",
    "train.X= standardized.X[-test ,]\n",
    "test.X= standardized.X[test ,]\n",
    "train.Y= Purchase[- test]\n",
    "test.Y= Purchase[test]\n",
    "set.seed(1)\n",
    "knn.pred=knn (train.X, test.X,train.Y,k=1)\n",
    "mean(test.Y!= knn.pred )"
   ]
  },
  {
   "cell_type": "code",
   "execution_count": null,
   "metadata": {},
   "outputs": [],
   "source": [
    "mean(test.Y!=\"No\")"
   ]
  },
  {
   "cell_type": "markdown",
   "metadata": {},
   "source": [
    "The vector test is numeric, with values from 1 through 1, 000. Typing\n",
    "standardized.X[test,] yields the submatrix of the data containing the observations whose indices range from 1 to 1, 000, whereas typing\n",
    "standardized.X[-test,] yields the submatrix containing the observations\n",
    "whose indices do not range from 1 to 1, 000. The KNN error rate on the\n",
    "1,000 test observations is just under 12 %. At first glance, this may appear to be fairly good. However, since only 6 % of customers purchased\n",
    "insurance, we could get the error rate down to 6 % by always predicting No\n",
    "regardless of the values of the predictors!\n",
    "\n",
    "Suppose that there is some non-trivial cost to trying to sell insurance\n",
    "to a given individual. For instance, perhaps a salesperson must visit each\n",
    "potential customer. If the company tries to sell insurance to a random\n",
    "selection of customers, then the success rate will be only 6 %, which may\n",
    "be far too low given the costs involved. Instead, the company would like\n",
    "to try to sell insurance only to customers who are likely to buy it. So the\n",
    "overall error rate is not of interest. Instead, the fraction of individuals that\n",
    "are correctly predicted to buy insurance is of interest.\n",
    "\n",
    "It turns out that KNN with K = 1 does far better than random guessing\n",
    "among the customers that are predicted to buy insurance. Among 77 such\n",
    "customers, 9, or 11.7 %, actually do purchase insurance. This is double the\n",
    "rate that one would obtain from random guessing."
   ]
  },
  {
   "cell_type": "code",
   "execution_count": null,
   "metadata": {},
   "outputs": [],
   "source": [
    "table(knn.pred , test.Y)"
   ]
  },
  {
   "cell_type": "code",
   "execution_count": null,
   "metadata": {},
   "outputs": [],
   "source": [
    "9/(9+68)"
   ]
  },
  {
   "cell_type": "markdown",
   "metadata": {},
   "source": [
    "Using K = 3, the success rate increases to 19 %, and with K = 5 the rate is\n",
    "26.7 %. This is over four times the rate that results from random guessing.\n",
    "It appears that KNN is finding some real patterns in a difficult data set!"
   ]
  },
  {
   "cell_type": "code",
   "execution_count": null,
   "metadata": {},
   "outputs": [],
   "source": [
    "knn.pred=knn(train.X, test.X,train.Y,k=3)\n",
    "table(knn.pred , test.Y)\n",
    "5/26"
   ]
  },
  {
   "cell_type": "code",
   "execution_count": null,
   "metadata": {},
   "outputs": [],
   "source": [
    "knn.pred=knn(train.X, test.X,train.Y,k=5)\n",
    "table(knn.pred , test.Y)\n",
    "4/15"
   ]
  },
  {
   "cell_type": "markdown",
   "metadata": {},
   "source": [
    "As a comparison, we can also fit a logistic regression model to the data.\n",
    "If we use 0.5 as the predicted probability cut-off for the classifier, then\n",
    "we have a problem: only seven of the test observations are predicted to\n",
    "purchase insurance. Even worse, we are wrong about all of these! However,\n",
    "we are not required to use a cut-off of 0.5. If we instead predict a purchase\n",
    "any time the predicted probability of purchase exceeds 0.25, we get much\n",
    "better results: we predict that 33 people will purchase insurance, and we\n",
    "are correct for about 33 % of these people. This is over five times better\n",
    "than random guessing!"
   ]
  },
  {
   "cell_type": "code",
   "execution_count": null,
   "metadata": {},
   "outputs": [],
   "source": [
    "glm.fits=glm(Purchase∼.,data =Caravan , family =binomial ,subset =- test)\n",
    "glm.probs = predict(glm.fits, Caravan [test ,], type =\"response\")\n",
    "glm.pred=rep (\"No\" ,1000)\n",
    "glm.pred[glm.probs >.5]=\"Yes\"\n",
    "table(glm.pred , test.Y)"
   ]
  },
  {
   "cell_type": "code",
   "execution_count": null,
   "metadata": {},
   "outputs": [],
   "source": [
    "glm.pred=rep (\"No\" ,1000)\n",
    "glm.pred[glm.probs >.25]=\"Yes\"\n",
    "table(glm.pred , test.Y)\n",
    "11/(22+11)"
   ]
  }
 ],
 "metadata": {
  "kernelspec": {
   "display_name": "R",
   "language": "R",
   "name": "ir"
  },
  "language_info": {
   "codemirror_mode": "r",
   "file_extension": ".r",
   "mimetype": "text/x-r-source",
   "name": "R",
   "pygments_lexer": "r",
   "version": "3.6.3"
  }
 },
 "nbformat": 4,
 "nbformat_minor": 4
}
