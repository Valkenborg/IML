{
 "cells": [
  {
   "cell_type": "markdown",
   "metadata": {},
   "source": [
    "## Lab chapter 3: Linear Regression\n",
    "### Libraries\n",
    "The `library()` function is used to load libraries, or groups of functions and data sets that are not included in the base R distribution. Basic functions\n",
    "that perform least squares linear regression and other simple analyses come\n",
    "standard with the base distribution, but more exotic functions require additional libraries. Here we load the MASS package, which is a very large\n",
    "collection of data sets and functions. We also load the ISLR package, which\n",
    "includes the data sets associated with this book."
   ]
  },
  {
   "cell_type": "code",
   "execution_count": null,
   "metadata": {},
   "outputs": [],
   "source": [
    "library(MASS )\n",
    "library(ISLR )"
   ]
  },
  {
   "cell_type": "markdown",
   "metadata": {},
   "source": [
    "If you receive an error message when loading any of these libraries, it\n",
    "likely indicates that the corresponding library has not yet been installed\n",
    "on your system. Some libraries, such as MASS, come with R and do not need to\n",
    "be separately installed on your computer. However, other packages, such as ISLR, must be downloaded the first time they are used. This can be done directly from within R. For example, on a Windows system, select the Install\n",
    "package option under the Packages tab. After you select any mirror site, a\n",
    "list of available packages will appear. Simply select the package you wish to\n",
    "install and R will automatically download the package. Alternatively, this\n",
    "can be done at the R command line via install.packages(\"ISLR\"). This installation only needs to be done the first time you use a package. However,\n",
    "the library() function must be called each time you wish to use a given\n",
    "package."
   ]
  },
  {
   "cell_type": "code",
   "execution_count": null,
   "metadata": {},
   "outputs": [],
   "source": [
    "install.packages('ISLR', repos='http://cran.us.r-project.org')\n",
    "install.packages('MASS', repos='http://cran.us.r-project.org')"
   ]
  },
  {
   "cell_type": "markdown",
   "metadata": {},
   "source": [
    "### Simple Linear Regression\n",
    "\n",
    "The MASS library contains the Boston data set, which records medv (median\n",
    "house value) for 506 neighborhoods around Boston. We will seek to predict\n",
    "medv using 13 predictors such as rm (average number of rooms per house),\n",
    "age (average age of houses), and lstat (percent of households with low\n",
    "socioeconomic status)"
   ]
  },
  {
   "cell_type": "code",
   "execution_count": null,
   "metadata": {},
   "outputs": [],
   "source": [
    "fix(Boston)\n",
    "names(Boston)\n",
    "# ?Boston"
   ]
  },
  {
   "cell_type": "markdown",
   "metadata": {},
   "source": [
    "To find out more about the data set, we can type ?Boston."
   ]
  },
  {
   "cell_type": "markdown",
   "metadata": {},
   "source": [
    "We will start by using the `lm()` function to fit a simple linear regression\n",
    "model, with medv as the response and lstat as the predictor. The basic\n",
    "syntax is lm(y∼x,data), where y is the response, x is the predictor, and\n",
    "data is the data set in which these two variables are kept."
   ]
  },
  {
   "cell_type": "code",
   "execution_count": null,
   "metadata": {},
   "outputs": [],
   "source": [
    "lm.fit =lm(medv∼lstat )"
   ]
  },
  {
   "cell_type": "markdown",
   "metadata": {},
   "source": [
    "The command causes an error because R does not know where to find\n",
    "the variables medv and lstat. The next line tells R that the variables are\n",
    "in Boston. If we attach Boston, the first line works fine because R now\n",
    "recognizes the variables"
   ]
  },
  {
   "cell_type": "code",
   "execution_count": null,
   "metadata": {},
   "outputs": [],
   "source": [
    "lm.fit =lm(medv∼lstat , data= Boston )\n",
    "# or alternatively\n",
    "attach (Boston )\n",
    "lm.fit =lm(medv∼lstat )"
   ]
  },
  {
   "cell_type": "markdown",
   "metadata": {},
   "source": [
    "If we type lm.fit, some basic information about the model is output.\n",
    "For more detailed information, we use summary(lm.fit). This gives us pvalues and standard errors for the coefficients, as well as the R^2 statistic\n",
    "and F-statistic for the model"
   ]
  },
  {
   "cell_type": "code",
   "execution_count": null,
   "metadata": {},
   "outputs": [],
   "source": [
    "lm.fit"
   ]
  },
  {
   "cell_type": "code",
   "execution_count": null,
   "metadata": {},
   "outputs": [],
   "source": [
    "summary(lm.fit)"
   ]
  },
  {
   "cell_type": "markdown",
   "metadata": {},
   "source": [
    "We can use the names() function in order to find out what other pieces\n",
    "names()\n",
    "of information are stored in lm.fit. Although we can extract these quantities by name—e.g. lm.fit$coefficients—it is safer to use the extractor\n",
    "functions like coef() to access them."
   ]
  },
  {
   "cell_type": "code",
   "execution_count": null,
   "metadata": {},
   "outputs": [],
   "source": [
    "names(lm.fit)\n",
    "\n",
    "coef(lm.fit )"
   ]
  },
  {
   "cell_type": "markdown",
   "metadata": {},
   "source": [
    "In order to obtain a confidence interval for the coefficient estimates, we can\n",
    "use the `confint()` command."
   ]
  },
  {
   "cell_type": "code",
   "execution_count": null,
   "metadata": {},
   "outputs": [],
   "source": [
    "confint(lm.fit )"
   ]
  },
  {
   "cell_type": "markdown",
   "metadata": {},
   "source": [
    "The `predict()` function can be used to produce confidence intervals and\n",
    "prediction intervals for the prediction of medv for a given value of lstat"
   ]
  },
  {
   "cell_type": "code",
   "execution_count": null,
   "metadata": {},
   "outputs": [],
   "source": [
    " predict(lm.fit, data.frame(lstat=c(5, 10, 15)),interval=\"confidence\")"
   ]
  },
  {
   "cell_type": "code",
   "execution_count": null,
   "metadata": {},
   "outputs": [],
   "source": [
    "predict(lm.fit , data.frame(lstat=c(5, 10, 15) ), interval=\"prediction\")"
   ]
  },
  {
   "cell_type": "markdown",
   "metadata": {},
   "source": [
    "For instance, the 95 % confidence interval associated with a lstat value of\n",
    "10 is (24.47, 25.63), and the 95 % prediction interval is (12.828, 37.28). As\n",
    "expected, the confidence and prediction intervals are centered around the\n",
    "same point (a predicted value of 25.05 for medv when lstat equals 10), but\n",
    "the latter are substantially wider.\n",
    "\n",
    "We will now plot medv and lstat along with the least squares regression\n",
    "line using the plot() and abline() functions"
   ]
  },
  {
   "cell_type": "code",
   "execution_count": null,
   "metadata": {},
   "outputs": [],
   "source": [
    "plot(lstat ,medv )\n",
    "abline(lm.fit )"
   ]
  },
  {
   "cell_type": "markdown",
   "metadata": {},
   "source": [
    "There is some evidence for non-linearity in the relationship between lstat\n",
    "and medv. We will explore this issue later in this lab.\n",
    "\n",
    "The abline() function can be used to draw any line, not just the least\n",
    "squares regression line. To draw a line with intercept a and slope b, we\n",
    "type abline(a,b).\n",
    "\n",
    "Below we experiment with some additional settings for\n",
    "plotting lines and points. The lwd=3 command causes the width of the\n",
    "regression line to be increased by a factor of 3; this works for the plot()\n",
    "and lines() functions also. We can also use the pch option to create different\n",
    "plotting symbols."
   ]
  },
  {
   "cell_type": "code",
   "execution_count": null,
   "metadata": {},
   "outputs": [],
   "source": [
    "plot(lstat ,medv )\n",
    "abline(lm.fit ,lwd =3)\n",
    "abline(lm.fit ,lwd =3, col =\" red \")\n",
    "plot(lstat ,medv ,col =\" red \")\n",
    "plot(lstat ,medv ,pch =20)\n",
    "plot(lstat ,medv ,pch =\"+\")\n",
    "plot (1:20 ,1:20 , pch =1:20)"
   ]
  },
  {
   "cell_type": "markdown",
   "metadata": {},
   "source": [
    "Next we examine some diagnostic plots, several of which were discussed\n",
    "in Section 3.3.3. Four diagnostic plots are automatically produced by applying the plot() function directly to the output from lm(). In general, this\n",
    "command will produce one plot at a time, and hitting Enter will generate\n",
    "the next plot. However, it is often convenient to view all four plots together.\n",
    "We can achieve this by using the par() function, which tells R to split the\n",
    "display screen into separate panels so that multiple plots can be viewed simultaneously. For example, par(mfrow=c(2,2)) divides the plotting region\n",
    "into a 2 × 2 grid of panels"
   ]
  },
  {
   "cell_type": "code",
   "execution_count": null,
   "metadata": {},
   "outputs": [],
   "source": [
    "par(mfrow =c(2 ,2))\n",
    "plot(lm.fit)"
   ]
  },
  {
   "cell_type": "markdown",
   "metadata": {},
   "source": [
    "Alternatively, we can compute the residuals from a linear regression fit\n",
    "using the residuals() function. The function rstudent() will return the\n",
    "studentized residuals, and we can use this function to plot the residuals \n",
    "against the fitted values"
   ]
  },
  {
   "cell_type": "code",
   "execution_count": null,
   "metadata": {},
   "outputs": [],
   "source": [
    "plot(predict(lm.fit), residuals(lm.fit))\n",
    "plot(predict(lm.fit), rstudent(lm.fit))"
   ]
  },
  {
   "cell_type": "markdown",
   "metadata": {},
   "source": [
    "On the basis of the residual plots, there is some evidence of non-linearity.\n",
    "Leverage statistics can be computed for any number of predictors using the\n",
    "hatvalues() function."
   ]
  },
  {
   "cell_type": "code",
   "execution_count": null,
   "metadata": {},
   "outputs": [],
   "source": [
    "plot(hatvalues(lm.fit))\n",
    "which.max(hatvalues(lm.fit))"
   ]
  },
  {
   "cell_type": "markdown",
   "metadata": {},
   "source": [
    "The which.max() function identifies the index of the largest element of a\n",
    "vector. In this case, it tells us which observation has the largest leverage\n",
    "statistic"
   ]
  },
  {
   "cell_type": "markdown",
   "metadata": {},
   "source": [
    "### Multiple Linear Regression\n",
    "In order to fit a multiple linear regression model using least squares, we\n",
    "again use the lm() function. The syntax lm(y∼x1+x2+x3) is used to fit a\n",
    "model with three predictors, x1, x2, and x3. The summary() function now\n",
    "outputs the regression coefficients for all the predictors"
   ]
  },
  {
   "cell_type": "code",
   "execution_count": null,
   "metadata": {},
   "outputs": [],
   "source": [
    "lm.fit =lm(medv∼lstat +age ,data= Boston )\n",
    "summary (lm.fit )"
   ]
  },
  {
   "cell_type": "markdown",
   "metadata": {},
   "source": [
    "The Boston data set contains 13 variables, and so it would be cumbersome\n",
    "to have to type all of these in order to perform a regression using all of the\n",
    "predictors. Instead, we can use the following short-hand:"
   ]
  },
  {
   "cell_type": "code",
   "execution_count": null,
   "metadata": {},
   "outputs": [],
   "source": [
    "lm.fit=lm(medv∼.,data = Boston )\n",
    "summary(lm.fit )"
   ]
  },
  {
   "cell_type": "markdown",
   "metadata": {},
   "source": [
    "We can access the individual components of a summary object by name\n",
    "(type ?summary.lm to see what is available). Hence summary(lm.fit)\\\\$r.sq gives us the R2, and summary(lm.fit)\\\\$sigma gives us the RSE. The vif()\n",
    "function, part of the car package, can be used to compute variance inflation\n",
    "factors. Most VIF’s are low to moderate for this data. The car package is\n",
    "not part of the base R installation so it must be downloaded the first time\n",
    "you use it via the install.packages option in R."
   ]
  },
  {
   "cell_type": "code",
   "execution_count": null,
   "metadata": {},
   "outputs": [],
   "source": [
    "library(car); #install.packages('car');\n",
    "vif(lm.fit )"
   ]
  },
  {
   "cell_type": "markdown",
   "metadata": {},
   "source": [
    "What if we would like to perform a regression using all of the variables but\n",
    "one? For example, in the above regression output, age has a high p-value.\n",
    "So we may wish to run a regression excluding this predictor. The following\n",
    "syntax results in a regression using all predictors except age."
   ]
  },
  {
   "cell_type": "code",
   "execution_count": null,
   "metadata": {},
   "outputs": [],
   "source": [
    "lm.fit1=lm(medv∼.-age ,data= Boston )\n",
    "summary(lm.fit1 )"
   ]
  },
  {
   "cell_type": "markdown",
   "metadata": {},
   "source": [
    "Alternatively, the update() function can be used."
   ]
  },
  {
   "cell_type": "code",
   "execution_count": null,
   "metadata": {},
   "outputs": [],
   "source": [
    "lm.fit1=update(lm.fit , ∼.-age)"
   ]
  },
  {
   "cell_type": "markdown",
   "metadata": {},
   "source": [
    "### Interaction Terms\n",
    "It is easy to include interaction terms in a linear model using the lm() function. The syntax lstat:black tells R to include an interaction term between\n",
    "lstat and black. The syntax lstat*age simultaneously includes lstat, age,\n",
    "and the interaction term lstat×age as predictors; it is a shorthand for\n",
    "lstat+age+lstat:age."
   ]
  },
  {
   "cell_type": "code",
   "execution_count": null,
   "metadata": {},
   "outputs": [],
   "source": [
    "summary(lm(medv∼lstat *age ,data = Boston ))"
   ]
  },
  {
   "cell_type": "markdown",
   "metadata": {},
   "source": [
    "### Non-linear Transformations of the Predictors\n",
    "The lm() function can also accommodate non-linear transformations of the\n",
    "predictors. For instance, given a predictor X, we can create a predictor X2\n",
    "using I(X^2). The function I() is needed since the ^ has a special meaning\n",
    "in a formula; wrapping as we do allows the standard usage in R, which is\n",
    "to raise X to the power 2. We now perform a regression of medv onto lstat\n",
    "and lstat<sup>2</sup>."
   ]
  },
  {
   "cell_type": "code",
   "execution_count": null,
   "metadata": {},
   "outputs": [],
   "source": [
    "lm.fit2=lm(medv∼lstat +I(lstat^2))\n",
    "summary(lm.fit2 )"
   ]
  },
  {
   "cell_type": "markdown",
   "metadata": {},
   "source": [
    "The near-zero p-value associated with the quadratic term suggests that\n",
    "it leads to an improved model. We use the anova() function to further\n",
    "quantify the extent to which the quadratic fit is superior to the linear fit."
   ]
  },
  {
   "cell_type": "code",
   "execution_count": null,
   "metadata": {},
   "outputs": [],
   "source": [
    "lm.fit =lm(medv∼lstat )\n",
    "anova (lm.fit ,lm.fit2)"
   ]
  },
  {
   "cell_type": "markdown",
   "metadata": {},
   "source": [
    "Here Model 1 represents the linear submodel containing only one predictor,\n",
    "lstat, while Model 2 corresponds to the larger quadratic model that has two\n",
    "predictors, lstat and lstat<sup>2</sup>. The anova() function performs a hypothesis\n",
    "test comparing the two models. The null hypothesis is that the two models\n",
    "fit the data equally well, and the alternative hypothesis is that the full\n",
    "model is superior. Here the F-statistic is 135 and the associated p-value is\n",
    "virtually zero. This provides very clear evidence that the model containing\n",
    "the predictors lstat and lstat2 is far superior to the model that only\n",
    "contains the predictor lstat. This is not surprising, since earlier we saw\n",
    "evidence for non-linearity in the relationship between medv and lstat. If we\n",
    "try:"
   ]
  },
  {
   "cell_type": "code",
   "execution_count": null,
   "metadata": {},
   "outputs": [],
   "source": [
    "par ( mfrow =c(2 ,2) )\n",
    "plot(lm.fit2)"
   ]
  },
  {
   "cell_type": "markdown",
   "metadata": {},
   "source": [
    "then we see that when the lstat<sup>2</sup> term is included in the model, there is\n",
    "little discernible pattern in the residuals.\n",
    "\n",
    "In order to create a cubic fit, we can include a predictor of the form\n",
    "I(X^3). However, this approach can start to get cumbersome for higherorder polynomials. A better approach involves using the poly() function\n",
    "poly()\n",
    "to create the polynomial within lm(). For example, the following command\n",
    "produces a fifth-order polynomial fit:"
   ]
  },
  {
   "cell_type": "code",
   "execution_count": null,
   "metadata": {},
   "outputs": [],
   "source": [
    "lm.fit5=lm(medv∼poly(lstat,5))\n",
    "summary (lm.fit5)"
   ]
  },
  {
   "cell_type": "markdown",
   "metadata": {},
   "source": [
    "This suggests that including additional polynomial terms, up to fifth order,\n",
    "leads to an improvement in the model fit! However, further investigation of\n",
    "the data reveals that no polynomial terms beyond fifth order have significant p-values in a regression fit.\n",
    "\n",
    "Of course, we are in no way restricted to using polynomial transformations of the predictors. Here we try a log transformation."
   ]
  },
  {
   "cell_type": "code",
   "execution_count": null,
   "metadata": {},
   "outputs": [],
   "source": [
    " summary(lm(medv∼log(rm),data= Boston ))"
   ]
  },
  {
   "cell_type": "markdown",
   "metadata": {},
   "source": [
    "### Qualitative Predictors\n",
    "We will now examine the Carseats data, which is part of the ISLR library.\n",
    "We will attempt to predict Sales (child car seat sales) in 400 locations\n",
    "based on a number of predictors."
   ]
  },
  {
   "cell_type": "code",
   "execution_count": null,
   "metadata": {},
   "outputs": [],
   "source": [
    "fix ( Carseats )\n",
    "names ( Carseats )"
   ]
  },
  {
   "cell_type": "markdown",
   "metadata": {},
   "source": [
    "The Carseats data includes qualitative predictors such as Shelveloc, an indicator of the quality of the shelving location—that is, the space within\n",
    "a store in which the car seat is displayed—at each location. The predictor Shelveloc takes on three possible values, Bad, Medium, and Good. Given a qualitative variable such as Shelveloc, R generates dummy variables\n",
    "automatically. Below we fit a multiple regression model that includes some\n",
    "interaction terms."
   ]
  },
  {
   "cell_type": "code",
   "execution_count": null,
   "metadata": {},
   "outputs": [],
   "source": [
    "lm.fit =lm(Sales∼.+ Income : Advertising +Price :Age , data= Carseats )\n",
    "summary (lm.fit )"
   ]
  },
  {
   "cell_type": "markdown",
   "metadata": {},
   "source": [
    "The contrasts() function returns the coding that R uses for the dummy\n",
    "variables."
   ]
  },
  {
   "cell_type": "code",
   "execution_count": null,
   "metadata": {},
   "outputs": [],
   "source": [
    "attach(Carseats)\n",
    "contrasts(ShelveLoc)"
   ]
  },
  {
   "cell_type": "markdown",
   "metadata": {},
   "source": [
    "Use ?contrasts to learn about other contrasts, and how to set them.\n",
    "\n",
    "R has created a ShelveLocGood dummy variable that takes on a value of\n",
    "1 if the shelving location is good, and 0 otherwise. It has also created a\n",
    "ShelveLocMedium dummy variable that equals 1 if the shelving location is\n",
    "medium, and 0 otherwise. A bad shelving location corresponds to a zero\n",
    "for each of the two dummy variables. The fact that the coefficient for\n",
    "ShelveLocGood in the regression output is positive indicates that a good\n",
    "shelving location is associated with high sales (relative to a bad location).\n",
    "And ShelveLocMedium has a smaller positive coefficient, indicating that a\n",
    "medium shelving location leads to higher sales than a bad shelving location\n",
    "but lower sales than a good shelving location."
   ]
  },
  {
   "cell_type": "markdown",
   "metadata": {},
   "source": [
    "### Writing Functions\n",
    "As we have seen, R comes with many useful functions, and still more functions are available by way of R libraries. However, we will often be interested in performing an operation for which no function is available. In this\n",
    "setting, we may want to write our own function. For instance, below we\n",
    "provide a simple function that reads in the ISLR and MASS libraries, called\n",
    "LoadLibraries(). Before we have created the function, R returns an error if\n",
    "we try to call it."
   ]
  },
  {
   "cell_type": "code",
   "execution_count": null,
   "metadata": {},
   "outputs": [],
   "source": [
    "LoadLibraries"
   ]
  },
  {
   "cell_type": "code",
   "execution_count": null,
   "metadata": {},
   "outputs": [],
   "source": [
    "LoadLibraries ()"
   ]
  },
  {
   "cell_type": "code",
   "execution_count": null,
   "metadata": {},
   "outputs": [],
   "source": [
    "We now create the function. The { symbol informs R that multiple commands\n",
    "are about to be input. We can then input as many commands as we wish, hitting Enter\n",
    "after each one. Finally the } symbol informs R that no further commands\n",
    "will be entered."
   ]
  },
  {
   "cell_type": "code",
   "execution_count": null,
   "metadata": {},
   "outputs": [],
   "source": [
    "LoadLibraries= function (){\n",
    "    library (ISLR )\n",
    "    library (MASS )\n",
    "    print (\" The libraries have been loaded .\")\n",
    "}"
   ]
  },
  {
   "cell_type": "code",
   "execution_count": null,
   "metadata": {},
   "outputs": [],
   "source": [
    "Now if we type in LoadLibraries, R will tell us what is in the function"
   ]
  },
  {
   "cell_type": "code",
   "execution_count": null,
   "metadata": {},
   "outputs": [],
   "source": [
    "LoadLibraries"
   ]
  },
  {
   "cell_type": "markdown",
   "metadata": {},
   "source": [
    "If we call the function, the libraries are loaded in and the print statement\n",
    "is output"
   ]
  },
  {
   "cell_type": "code",
   "execution_count": null,
   "metadata": {},
   "outputs": [],
   "source": [
    "LoadLibraries()"
   ]
  }
 ],
 "metadata": {
  "kernelspec": {
   "display_name": "R",
   "language": "R",
   "name": "ir"
  },
  "language_info": {
   "codemirror_mode": "r",
   "file_extension": ".r",
   "mimetype": "text/x-r-source",
   "name": "R",
   "pygments_lexer": "r",
   "version": "3.6.1"
  }
 },
 "nbformat": 4,
 "nbformat_minor": 4
}
