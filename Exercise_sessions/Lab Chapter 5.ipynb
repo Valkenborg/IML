{
 "cells": [
  {
   "cell_type": "markdown",
   "metadata": {},
   "source": [
    "## Lab: Cross-Validation and the Bootstrap\n",
    "In this lab, we explore the resampling techniques covered in this chapter.\n",
    "Some of the commands in this lab may take a while to run on your computer\n",
    "\n",
    "### 1 The Validation Set Approach\n",
    "We explore the use of the validation set approach in order to estimate the\n",
    "test error rates that result from fitting various linear models on the Auto\n",
    "data set.\n",
    "\n",
    "Before we begin, we use the set.seed() function in order to set a seed for\n",
    "R’s random number generator, so that the reader of this book will obtain\n",
    "precisely the same results as those shown below. It is generally a good idea\n",
    "to set a random seed when performing an analysis such as cross-validation\n",
    "that contains an element of randomness, so that the results obtained can\n",
    "be reproduced precisely at a later time.\n",
    "\n",
    "We begin by using the sample() function to split the set of observations\n",
    "into two halves, by selecting a random subset of 196 observations out of\n",
    "the original 392 observations. We refer to these observations as the training\n",
    "set."
   ]
  },
  {
   "cell_type": "code",
   "execution_count": null,
   "metadata": {},
   "outputs": [],
   "source": [
    "# install.packages('ISLR', repos='http://cran.us.r-project.org')\n",
    "library(ISLR)\n",
    "set.seed(1)\n",
    "train = sample(392,196)"
   ]
  },
  {
   "cell_type": "markdown",
   "metadata": {},
   "source": [
    "(Here we use a shortcut in the sample command; see ?sample for details.)\n",
    "We then use the subset option in lm() to fit a linear regression using only\n",
    "the observations corresponding to the training set."
   ]
  },
  {
   "cell_type": "code",
   "execution_count": null,
   "metadata": {},
   "outputs": [],
   "source": [
    "lm.fit =lm(mpg~horsepower ,data=Auto , subset = train )"
   ]
  },
  {
   "cell_type": "markdown",
   "metadata": {},
   "source": [
    "We now use the predict() function to estimate the response for all 392\n",
    "observations, and we use the mean() function to calculate the MSE of the\n",
    "196 observations in the validation set. Note that the -train index below\n",
    "selects only the observations that are not in the training set"
   ]
  },
  {
   "cell_type": "code",
   "execution_count": null,
   "metadata": {},
   "outputs": [],
   "source": [
    "attach(Auto)\n",
    "mean((mpg - predict(lm.fit ,Auto))[-train]^2)"
   ]
  },
  {
   "cell_type": "markdown",
   "metadata": {},
   "source": [
    "Therefore, the estimated test MSE for the linear regression fit is 23.27. We\n",
    "can use the poly() function to estimate the test error for the quadratic\n",
    "and cubic regressions."
   ]
  },
  {
   "cell_type": "code",
   "execution_count": null,
   "metadata": {},
   "outputs": [],
   "source": [
    "lm.fit2=lm(mpg~poly(horsepower,2) ,data=Auto , subset =train )\n",
    "mean((mpg - predict(lm.fit2 ,Auto))[-train]^2)"
   ]
  },
  {
   "cell_type": "code",
   "execution_count": null,
   "metadata": {},
   "outputs": [],
   "source": [
    "lm.fit3=lm(mpg~poly(horsepower,3) ,data=Auto , subset =train )\n",
    "mean((mpg - predict(lm.fit3 ,Auto))[-train]^2)"
   ]
  },
  {
   "cell_type": "markdown",
   "metadata": {},
   "source": [
    "These error rates are 18.72 and 18.79, respectively. If we choose a different\n",
    "training set instead, then we will obtain somewhat different errors on the\n",
    "validation set"
   ]
  },
  {
   "cell_type": "code",
   "execution_count": null,
   "metadata": {},
   "outputs": [],
   "source": [
    "set.seed(2)\n",
    "train = sample(392,196)\n",
    "lm.fit =lm(mpg~horsepower, subset = train )\n",
    "mean((mpg - predict(lm.fit ,Auto))[-train]^2)"
   ]
  },
  {
   "cell_type": "code",
   "execution_count": null,
   "metadata": {},
   "outputs": [],
   "source": [
    "mean((mpg - predict(lm.fit2 ,Auto))[-train]^2)"
   ]
  },
  {
   "cell_type": "code",
   "execution_count": null,
   "metadata": {},
   "outputs": [],
   "source": [
    "mean((mpg - predict(lm.fit3 ,Auto))[-train]^2)"
   ]
  },
  {
   "cell_type": "markdown",
   "metadata": {},
   "source": [
    "Using this split of the observations into a training set and a validation\n",
    "set, we find that the validation set error rates for the models with linear,\n",
    "quadratic, and cubic terms are 25.73, 19.95, and 19.98, respectively.\n",
    "\n",
    "These results are consistent with our previous findings: a model that\n",
    "predicts mpg using a quadratic function of horsepower performs better than\n",
    "a model that involves only a linear function of horsepower, and there is\n",
    "little evidence in favor of a model that uses a cubic function of horsepower."
   ]
  },
  {
   "cell_type": "markdown",
   "metadata": {},
   "source": [
    "### 2. Leave-One-Out Cross-Validation\n",
    "The LOOCV estimate can be automatically computed for any generalized\n",
    "linear model using the glm() and cv.glm() functions. In the lab for Chapter 4, we used the glm() function to perform logistic regression by passing\n",
    "in the family=\"binomial\" argument. But if we use glm() to fit a model\n",
    "without passing in the family argument, then it performs linear regression,\n",
    "just like the lm() function. So for instance,"
   ]
  },
  {
   "cell_type": "code",
   "execution_count": null,
   "metadata": {},
   "outputs": [],
   "source": [
    "glm.fit =glm(mpg~horsepower , data= Auto)\n",
    "coef(glm.fit )"
   ]
  },
  {
   "cell_type": "code",
   "execution_count": null,
   "metadata": {},
   "outputs": [],
   "source": [
    "# and\n",
    "lm.fit =lm(mpg~horsepower , data= Auto)\n",
    "coef(lm.fit )"
   ]
  },
  {
   "cell_type": "markdown",
   "metadata": {},
   "source": [
    "yield identical linear regression models. In this lab, we will perform linear\n",
    "regression using the glm() function rather than the lm() function because\n",
    "the former can be used together with cv.glm(). The cv.glm() function is\n",
    "part of the boot library"
   ]
  },
  {
   "cell_type": "code",
   "execution_count": null,
   "metadata": {},
   "outputs": [],
   "source": [
    "library(boot)\n",
    "glm.fit =glm(mpg~horsepower, data= Auto)\n",
    "cv.err =cv.glm(Auto, glm.fit)\n",
    "cv.err$delta"
   ]
  },
  {
   "cell_type": "markdown",
   "metadata": {},
   "source": [
    "The cv.glm() function produces a list with several components. The two\n",
    "numbers in the delta vector contain the cross-validation results. In this case the numbers are identical (up to two decimal places) and correspond\n",
    "to the LOOCV statistic given in (5.1). Below, we discuss a situation in\n",
    "which the two numbers differ. Our cross-validation estimate for the test\n",
    "error is approximately 24.23.\n",
    "We can repeat this procedure for increasingly complex polynomial fits.\n",
    "To automate the process, we use the for() function to initiate a for loop\n",
    "which iteratively fits polynomial regressions for polynomials of order i = 1 for loop\n",
    "to i = 5, computes the associated cross-validation error, and stores it in\n",
    "the ith element of the vector cv.error. We begin by initializing the vector.\n",
    "This command will likely take a couple of minutes to run."
   ]
  },
  {
   "cell_type": "code",
   "execution_count": null,
   "metadata": {},
   "outputs": [],
   "source": [
    "cv.error =rep(0 ,5)\n",
    "for(i in 1:5){\n",
    "    glm.fit =glm(mpg~poly(horsepower, i),data=Auto)\n",
    "    cv.error[i]=cv.glm(Auto,glm.fit)$delta[1]\n",
    "}\n",
    "cv.error"
   ]
  },
  {
   "cell_type": "markdown",
   "metadata": {},
   "source": [
    "we see a sharp drop in the estimated test MSE between\n",
    "the linear and quadratic fits, but then no clear improvement from using\n",
    "higher-order polynomials."
   ]
  },
  {
   "cell_type": "markdown",
   "metadata": {},
   "source": [
    "### 3. k-Fold Cross-Validation\n",
    "The cv.glm() function can also be used to implement k-fold CV. Below we\n",
    "use k = 10, a common choice for k, on the Auto data set. We once again set\n",
    "a random seed and initialize a vector in which we will store the CV errors\n",
    "corresponding to the polynomial fits of orders one to ten."
   ]
  },
  {
   "cell_type": "code",
   "execution_count": null,
   "metadata": {},
   "outputs": [],
   "source": [
    "set.seed(17)\n",
    "cv.error.10= rep(0 ,10)\n",
    "for(i in 1:10){\n",
    "    glm.fit=glm(mpg~poly(horsepower, i), data=Auto)\n",
    "    cv.error.10[i] = cv.glm(Auto, glm.fit,K=10)$delta[1]\n",
    "}\n",
    "cv.error.10"
   ]
  },
  {
   "cell_type": "markdown",
   "metadata": {},
   "source": [
    "Notice that the computation time is much shorter than that of LOOCV.\n",
    "(In principle, the computation time for LOOCV for a least squares linear\n",
    "model should be faster than for k-fold CV, due to the availability of the\n",
    "formula (5.2) for LOOCV; however, unfortunately the cv.glm() function\n",
    "does not make use of this formula.) We still see little evidence that using\n",
    "cubic or higher-order polynomial terms leads to lower test error than simply\n",
    "using a quadratic fit.\n",
    " \n",
    "We saw in Section 5.3.2 that the two numbers associated with delta are\n",
    "essentially the same when LOOCV is performed. When we instead perform\n",
    "k-fold CV, then the two numbers associated with delta differ slightly. The first is the standard k-fold CV estimate, as in (5.3). The second is a biascorrected version. On this data set, the two estimates are very similar to each other."
   ]
  },
  {
   "cell_type": "markdown",
   "metadata": {},
   "source": [
    "### 4. The Bootstrap\n",
    "We illustrate the use of the bootstrap in the simple example of Section 5.2,\n",
    "as well as on an example involving estimating the accuracy of the linear\n",
    "regression model on the Auto data set."
   ]
  },
  {
   "cell_type": "markdown",
   "metadata": {},
   "source": [
    "#### Estimating the Accuracy of a Statistic of Interest\n",
    "One of the great advantages of the bootstrap approach is that it can be\n",
    "applied in almost all situations. No complicated mathematical calculations\n",
    "are required. Performing a bootstrap analysis in R entails only two steps.\n",
    "First, we must create a function that computes the statistic of interest.\n",
    "Second, we use the boot() function, which is part of the boot library, to\n",
    "perform the bootstrap by repeatedly sampling observations from the data\n",
    "set with replacement.\n",
    "\n",
    "The Portfolio data set in the ISLR package is described in Section 5.2.\n",
    "To illustrate the use of the bootstrap on this data, we must first create\n",
    "a function, alpha.fn(), which takes as input the (X, Y ) data as well as\n",
    "a vector indicating which observations should be used to estimate α. The\n",
    "function then outputs the estimate for α based on the selected observations."
   ]
  },
  {
   "cell_type": "code",
   "execution_count": null,
   "metadata": {},
   "outputs": [],
   "source": [
    "alpha.fn=function(data,index){\n",
    "    X = data$X[index]\n",
    "    Y = data$Y[index]\n",
    "    return((var(Y)-cov(X,Y))/(var(X)+var(Y)-2*cov(X,Y)))\n",
    "}"
   ]
  },
  {
   "cell_type": "markdown",
   "metadata": {},
   "source": [
    "This function returns, or outputs, an estimate for α based on applying\n",
    "(5.7) to the observations indexed by the argument index. For instance, the\n",
    "following command tells R to estimate α using all 100 observations."
   ]
  },
  {
   "cell_type": "code",
   "execution_count": null,
   "metadata": {},
   "outputs": [],
   "source": [
    "alpha.fn(Portfolio ,1:100)"
   ]
  },
  {
   "cell_type": "markdown",
   "metadata": {},
   "source": [
    "The next command uses the sample() function to randomly select 100 observations from the range 1 to 100, with replacement. This is equivalent\n",
    "to constructing a new bootstrap data set and recomputing ˆ α based on the\n",
    "new data set."
   ]
  },
  {
   "cell_type": "code",
   "execution_count": null,
   "metadata": {},
   "outputs": [],
   "source": [
    "set.seed(1)\n",
    "alpha.fn(Portfolio ,sample(100 ,100 , replace =T))"
   ]
  },
  {
   "cell_type": "markdown",
   "metadata": {},
   "source": [
    "We can implement a bootstrap analysis by performing this command many\n",
    "times, recording all of the corresponding estimates for α, and computing the resulting standard deviation. However, the boot() function automates\n",
    "this approach. Below we produce R = 1, 000 bootstrap estimates for α."
   ]
  },
  {
   "cell_type": "code",
   "execution_count": null,
   "metadata": {},
   "outputs": [],
   "source": [
    "boot(Portfolio,alpha.fn,R=1000)"
   ]
  },
  {
   "cell_type": "markdown",
   "metadata": {},
   "source": [
    "The final output shows that using the original data, ˆα = 0.5758, and that\n",
    "the bootstrap estimate for SE(ˆα) is 0.0937."
   ]
  },
  {
   "cell_type": "markdown",
   "metadata": {},
   "source": [
    "#### Estimating the Accuracy of a Linear Regression Model\n",
    "The bootstrap approach can be used to assess the variability of the coefficient estimates and predictions from a statistical learning method. Here\n",
    "we use the bootstrap approach in order to assess the variability of the\n",
    "estimates for β0 and β1, the intercept and slope terms for the linear regression model that uses horsepower to predict mpg in the Auto data set. We\n",
    "will compare the estimates obtained using the bootstrap to those obtained\n",
    "using the formulas for SE(βˆ0) and SE(βˆ1) described in Section 3.1.2.\n",
    "\n",
    "We first create a simple function, boot.fn(), which takes in the Auto data\n",
    "set as well as a set of indices for the observations, and returns the intercept\n",
    "and slope estimates for the linear regression model. We then apply this\n",
    "function to the full set of 392 observations in order to compute the estimates of β0 and β1 on the entire data set using the usual linear regression\n",
    "coefficient estimate formulas from Chapter 3. Note that we do not need the\n",
    "{ and } at the beginning and end of the function because it is only one line\n",
    "long."
   ]
  },
  {
   "cell_type": "code",
   "execution_count": null,
   "metadata": {},
   "outputs": [],
   "source": [
    "boot.fn= function (data ,index)\n",
    "    return (coef(lm(mpg~horsepower , data=data , subset = index )))\n",
    "boot.fn(Auto, 1:392)"
   ]
  },
  {
   "cell_type": "markdown",
   "metadata": {},
   "source": [
    "The boot.fn() function can also be used in order to create bootstrap estimates for the intercept and slope terms by randomly sampling from among\n",
    "the observations with replacement. Here we give two examples."
   ]
  },
  {
   "cell_type": "code",
   "execution_count": null,
   "metadata": {},
   "outputs": [],
   "source": [
    "set.seed(1)\n",
    "boot.fn(Auto,sample(392,392,replace=T))"
   ]
  },
  {
   "cell_type": "code",
   "execution_count": null,
   "metadata": {},
   "outputs": [],
   "source": [
    "boot.fn(Auto,sample(392,392, replace=T))"
   ]
  },
  {
   "cell_type": "markdown",
   "metadata": {},
   "source": [
    "Next, we use the boot() function to compute the standard errors of 1,000\n",
    "bootstrap estimates for the intercept and slope terms."
   ]
  },
  {
   "cell_type": "code",
   "execution_count": null,
   "metadata": {},
   "outputs": [],
   "source": [
    "boot(Auto,boot.fn ,1000)"
   ]
  },
  {
   "cell_type": "markdown",
   "metadata": {},
   "source": [
    "This indicates that the bootstrap estimate for SE(βˆ0) is 0.84, and that\n",
    "the bootstrap estimate for SE(βˆ1) is 0.0073. As discussed in Section 3.1.2,\n",
    "standard formulas can be used to compute the standard errors for the\n",
    "regression coefficients in a linear model. These can be obtained using the\n",
    "summary() function."
   ]
  },
  {
   "cell_type": "code",
   "execution_count": null,
   "metadata": {},
   "outputs": [],
   "source": [
    "summary(lm(mpg~horsepower ,data =Auto))$coef"
   ]
  },
  {
   "cell_type": "markdown",
   "metadata": {},
   "source": [
    "The standard error estimates for βˆ0 and βˆ1 obtained using the formulas\n",
    "from Section 3.1.2 are 0.717 for the intercept and 0.0064 for the slope.\n",
    "Interestingly, these are somewhat different from the estimates obtained\n",
    "using the bootstrap. Does this indicate a problem with the bootstrap? In\n",
    "fact, it suggests the opposite. Recall that the standard formulas given in\n",
    "Equation 3.8 on page 66 rely on certain assumptions. For example, they\n",
    "depend on the unknown parameter σ2, the noise variance. We then estimate\n",
    "σ2 using the RSS. Now although the formula for the standard errors do not\n",
    "rely on the linear model being correct, the estimate for σ2 does. We see in\n",
    "Figure 3.8 on page 91 that there is a non-linear relationship in the data, and\n",
    "so the residuals from a linear fit will be inflated, and so will ˆ σ2. Secondly,\n",
    "the standard formulas assume (somewhat unrealistically) that the xi are\n",
    "fixed, and all the variability comes from the variation in the errors $\\epsilon$i. The\n",
    "bootstrap approach does not rely on any of these assumptions, and so it is\n",
    "likely giving a more accurate estimate of the standard errors of βˆ0 and βˆ1\n",
    "than is the summary() function.\n",
    "\n",
    "Below we compute the bootstrap standard error estimates and the standard linear regression estimates that result from fitting the quadratic model\n",
    "to the data. Since this model provides a good fit to the data (Figure 3.8),\n",
    "there is now a better correspondence between the bootstrap estimates and\n",
    "the standard estimates of SE(βˆ0), SE(βˆ1) and SE(βˆ2)."
   ]
  },
  {
   "cell_type": "code",
   "execution_count": null,
   "metadata": {},
   "outputs": [],
   "source": [
    "boot.fn= function (data ,index )\n",
    "    coefficients(lm(mpg~horsepower+I(horsepower^2),\n",
    "                    data=data, subset=index))\n",
    "set.seed(1)\n",
    "boot(Auto,boot.fn,1000)"
   ]
  },
  {
   "cell_type": "code",
   "execution_count": null,
   "metadata": {},
   "outputs": [],
   "source": [
    "summary(lm(mpg~horsepower +I(horsepower^2) ,data= Auto))$coef"
   ]
  },
  {
   "cell_type": "code",
   "execution_count": null,
   "metadata": {},
   "outputs": [],
   "source": []
  },
  {
   "cell_type": "code",
   "execution_count": null,
   "metadata": {},
   "outputs": [],
   "source": []
  }
 ],
 "metadata": {
  "kernelspec": {
   "display_name": "R",
   "language": "R",
   "name": "ir"
  },
  "language_info": {
   "codemirror_mode": "r",
   "file_extension": ".r",
   "mimetype": "text/x-r-source",
   "name": "R",
   "pygments_lexer": "r",
   "version": "3.6.3"
  }
 },
 "nbformat": 4,
 "nbformat_minor": 4
}
